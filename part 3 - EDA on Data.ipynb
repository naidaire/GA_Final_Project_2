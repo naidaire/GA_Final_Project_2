{
 "cells": [
  {
   "cell_type": "markdown",
   "metadata": {
    "collapsed": true
   },
   "source": [
    "# TrumpTwitterArchive Project & Introduction"
   ]
  },
  {
   "cell_type": "markdown",
   "metadata": {},
   "source": [
    "Trump's use of Twitter for propaganda, promotion, and communication is unusual for the Presidency.  \n",
    "\n",
    "    \"David S. Ferriero informed two Democratic senators last week that the Trump tweets are being preserved for posterity, so future generations can revel in the president's peculiar and unprecedented use of Twitter as an art form and governing tool.\" -source theVerge\n",
    "\n",
    "  The trumptwitterarchive is a collection of his every tweet, retweet, and favorite, and this project plans to load and predict engagement levels based on text, hastags, sentiment, and other feature columns.  Analysis on data will start after Trump's acceptance as the republican nominee at National Republican Convention on July 18, 2017.\n",
    "\n",
    "**Hypothesis and Assumptions:**\n",
    "    - Build a model that predicts the level of engagement for the President's tweets\n",
    "    - Target Engagement (y), which is defined as the combination of favorite_count + retweet_count\n",
    "    - Feature Columns: ['source', 'text', 'created_at', 'is_retweet']\n",
    "    - Additional Feature Columns from Text:\n",
    "      Create a sentiment score on Text.  Does negative sentiment increase engagement?\n",
    "      Create Dummy variables for commonly used hashtags, which ones increase engagement?\n",
    "      \n",
    "      \n",
    "      \n",
    "**Table of Contents**\n",
    "    1. Import & Review Data\n",
    "    2. Prepare Data for Analysis\n",
    "    3. Natural Language Processing - Sentiment Analysis\n",
    "    4. Analysis and Visualizations\n",
    "    5. Linear Regression\n",
    "    6. Conclusion"
   ]
  },
  {
   "cell_type": "markdown",
   "metadata": {},
   "source": [
    "# Import and Review Data"
   ]
  },
  {
   "cell_type": "code",
   "execution_count": 1,
   "metadata": {
    "collapsed": true
   },
   "outputs": [],
   "source": [
    "import pandas as pd\n",
    "import numpy as np\n",
    "import matplotlib.pyplot as plt\n",
    "from sklearn.linear_model import LinearRegression\n",
    "from sklearn.model_selection import train_test_split\n",
    "from sklearn import metrics\n",
    "import seaborn as sns\n",
    "\n",
    "\n",
    "plt.style.use('fivethirtyeight')\n",
    "%matplotlib inline"
   ]
  },
  {
   "cell_type": "code",
   "execution_count": 2,
   "metadata": {
    "collapsed": true
   },
   "outputs": [],
   "source": [
    "file = './data/trumptweets_all.csv'\n"
   ]
  },
  {
   "cell_type": "code",
   "execution_count": 3,
   "metadata": {
    "collapsed": true,
    "scrolled": true
   },
   "outputs": [],
   "source": [
    "# reading in csv file, setting the 'created_at' column as the index\n",
    "\n",
    "trumptweets = pd.read_csv(file, encoding = 'latin1',\n",
    "                          index_col='created_at')"
   ]
  },
  {
   "cell_type": "code",
   "execution_count": 4,
   "metadata": {
    "collapsed": true
   },
   "outputs": [],
   "source": [
    "# setting index of dates to datetime() format\n",
    "\n",
    "trumptweets.index = pd.to_datetime(trumptweets.index)"
   ]
  },
  {
   "cell_type": "code",
   "execution_count": 5,
   "metadata": {
    "collapsed": true
   },
   "outputs": [],
   "source": [
    "# Only analyzing data since the 2016 Republican National Convention on 7/18/2016\n",
    "\n",
    "trumptweets = trumptweets.loc[trumptweets.index > '2016-7-18 00:00:00', :]"
   ]
  },
  {
   "cell_type": "code",
   "execution_count": 6,
   "metadata": {},
   "outputs": [
    {
     "data": {
      "text/plain": [
       "(4675, 6)"
      ]
     },
     "execution_count": 6,
     "metadata": {},
     "output_type": "execute_result"
    }
   ],
   "source": [
    "# Review size and shape of the data set\n",
    "\n",
    "trumptweets.shape"
   ]
  },
  {
   "cell_type": "code",
   "execution_count": 7,
   "metadata": {},
   "outputs": [
    {
     "data": {
      "text/plain": [
       "Index(['source', 'text', 'retweet_count', 'favorite_count', 'is_retweet',\n",
       "       'id_str'],\n",
       "      dtype='object')"
      ]
     },
     "execution_count": 7,
     "metadata": {},
     "output_type": "execute_result"
    }
   ],
   "source": [
    "trumptweets.columns"
   ]
  },
  {
   "cell_type": "markdown",
   "metadata": {},
   "source": [
    "# Prepare Data for Analysis"
   ]
  },
  {
   "cell_type": "code",
   "execution_count": 8,
   "metadata": {},
   "outputs": [],
   "source": [
    "# Convert Source column to dummy variables\n",
    "\n",
    "#map source twitter for the 19 source values into integers\n",
    "\n",
    "trumptweets.loc[:, 'source_num'] = trumptweets.loc[:,'source'].map({'Twitter for iPhone':0, \n",
    "                                                                    'Twitter for Android':1, \n",
    "                                                                    'Twitter Web Client':2, \n",
    "                                                                    'Media Studio':3, \n",
    "                                                                    'Twitter Ads':4, \n",
    "                                                                    'Twitter for iPad':5, \n",
    "                                                                    'TweetDeck':6, \n",
    "                                                                    'Periscope':7, \n",
    "                                                                    })"
   ]
  },
  {
   "cell_type": "code",
   "execution_count": 9,
   "metadata": {
    "collapsed": true
   },
   "outputs": [],
   "source": [
    "#Convert Source_num to dummy variables.  Dropping Twitter for iPhone where src = 0 for the regression model\n",
    "\n",
    "dummy_trumptweets = pd.get_dummies(trumptweets, columns=['source_num']).drop('source_num_0', axis=1)"
   ]
  },
  {
   "cell_type": "code",
   "execution_count": 10,
   "metadata": {
    "collapsed": true
   },
   "outputs": [],
   "source": [
    "# Rename Dummy source_num columns\n",
    "\n",
    "dummy_trumptweets.rename(columns={'source_num_1': 'src_android',\n",
    "                                  'source_num_2': 'src_webclient',\n",
    "                                  'source_num_3': 'src_mediastudio',\n",
    "                                  'source_num_4': 'src_twitterads',\n",
    "                                  'source_num_5': 'src_ipad',\n",
    "                                  'source_num_6': 'src_tweetdeck',\n",
    "                                  'source_num_7': 'src_periscope'},\n",
    "                                  inplace=True)"
   ]
  },
  {
   "cell_type": "code",
   "execution_count": 11,
   "metadata": {
    "collapsed": true
   },
   "outputs": [],
   "source": [
    "#Create new column, engagement, that sums retweet and favorite counts.  This will become my target y\n",
    "\n",
    "dummy_trumptweets.loc[:, 'engagement'] = (dummy_trumptweets.loc[:, 'retweet_count'] +\n",
    "                                          dummy_trumptweets.loc[:, 'favorite_count'])"
   ]
  },
  {
   "cell_type": "code",
   "execution_count": 12,
   "metadata": {
    "collapsed": true
   },
   "outputs": [],
   "source": [
    "#add new column for HOUR when the tweet occurred\n",
    "\n",
    "dummy_trumptweets.loc[:, 'tweet_hour'] = dummy_trumptweets.index.hour"
   ]
  },
  {
   "cell_type": "code",
   "execution_count": 13,
   "metadata": {
    "collapsed": true
   },
   "outputs": [],
   "source": [
    "# Convert hours to morning, afternoon, evening, latenight dummy variables.  Timestamp column is in GMT, so converting daytime hours to EST\n",
    "# not calculating is_morning\n",
    "\n",
    "\n",
    "# EST 12-6pm is GMT 18-23\n",
    "dummy_trumptweets.loc[:, 'is_afternoon'] = ((dummy_trumptweets.loc[:, 'tweet_hour'] >= 17) & (dummy_trumptweets.loc[:,'tweet_hour'] < 23)).astype(int)  \n",
    "\n",
    "# EST 6pm-12am is 23 - 5\n",
    "dummy_trumptweets.loc[:, 'is_evening'] = ((dummy_trumptweets.loc[:, 'tweet_hour'] >= 23) | (dummy_trumptweets.loc[:,'tweet_hour'] < 5)).astype(int)\n",
    "\n",
    "# Late Night is EST 12am-5am is GMT 5-10\n",
    "dummy_trumptweets.loc[:, 'is_latenight'] = ((dummy_trumptweets.loc[:, 'tweet_hour'] >= 5) & (dummy_trumptweets.loc[:,'tweet_hour'] < 10)).astype(int)\n"
   ]
  },
  {
   "cell_type": "code",
   "execution_count": 28,
   "metadata": {},
   "outputs": [
    {
     "data": {
      "text/plain": [
       "\"RT @piersmorgan: Trump makes a funny obvious joke about Russia going after Hillary's emails &amp; U.S. media goes insane with fury.He plays t\\x85\""
      ]
     },
     "execution_count": 28,
     "metadata": {},
     "output_type": "execute_result"
    }
   ],
   "source": [
    "dummy_trumptweets.loc[dummy_trumptweets.loc[:, 'is_retweet'] == True, 'text'][100]"
   ]
  },
  {
   "cell_type": "code",
   "execution_count": 29,
   "metadata": {
    "collapsed": true
   },
   "outputs": [],
   "source": [
    "# try log(y)\n",
    "# caution on interpretation of coefficients\n",
    "\n",
    "# Because Log(0) returns infinite, set engagement to 1 where it was previously 0.\n",
    "# Justifying this because 0 and 1 is insignificant as a low engagement tweets\n",
    "\n",
    "zero_tweets = dummy_trumptweets.loc[:,'engagement'] == 0\n",
    "dummy_trumptweets.loc[zero_tweets, 'engagement'] = 1"
   ]
  },
  {
   "cell_type": "code",
   "execution_count": 30,
   "metadata": {
    "collapsed": true
   },
   "outputs": [],
   "source": [
    "# add new column for log(engagement)\n",
    "\n",
    "dummy_trumptweets.loc[:, 'log_engagement'] = np.log(dummy_trumptweets.loc[:,'engagement'])"
   ]
  },
  {
   "cell_type": "code",
   "execution_count": null,
   "metadata": {
    "collapsed": true
   },
   "outputs": [],
   "source": []
  },
  {
   "cell_type": "markdown",
   "metadata": {},
   "source": [
    "#Miscellaneous notes on Log interpretations:\n",
    "\n",
    "Outcome transformed\n",
    "log(DV) = Intercept + B1 * IV + Error \n",
    "\"One unit increase in IV is associated with a (B1 * 100) percent increase in DV.\"\n",
    "\n",
    "\n",
    "Outcome transformed and exposure transformed\n",
    "\n",
    "log(DV) = Intercept + B1 * log(IV) + Error \n",
    "\"One percent increase in IV is associated with a (B1) percent increase in DV.\""
   ]
  },
  {
   "cell_type": "code",
   "execution_count": null,
   "metadata": {
    "collapsed": true
   },
   "outputs": [],
   "source": []
  },
  {
   "cell_type": "markdown",
   "metadata": {},
   "source": [
    "# Natural Language Processing - Sentiment Analysis"
   ]
  },
  {
   "cell_type": "markdown",
   "metadata": {},
   "source": [
    "Goal of this section is to use NLP to derive a sentiment score on Trump's tweets.  We will store the scores, and create bins of:\n",
    "    - sentiment between 0.5 and 1 is \"High Positive\"\n",
    "    - sentiment between 0.0 and 0.5 is \"Moderately Positive\"\n",
    "    - sentiment between -0.5 and 0 is \"Moderately Negative\"\n",
    "    - sentiment between -1.0 and -0.5 is \"Very Negative\""
   ]
  },
  {
   "cell_type": "code",
   "execution_count": 72,
   "metadata": {
    "collapsed": true
   },
   "outputs": [],
   "source": [
    "from textblob import TextBlob, Word\n",
    "from nltk.stem.snowball import SnowballStemmer"
   ]
  },
  {
   "cell_type": "code",
   "execution_count": 73,
   "metadata": {
    "collapsed": true
   },
   "outputs": [],
   "source": [
    "# Define a function that accepts text and returns the polarity\n",
    "\n",
    "def detect_sentiment(text):\n",
    "    return TextBlob(text).sentiment.polarity"
   ]
  },
  {
   "cell_type": "code",
   "execution_count": 74,
   "metadata": {
    "collapsed": true
   },
   "outputs": [],
   "source": [
    "# Create new sentiment column to the dataframe\n",
    "dummy_trumptweets.loc[:, 'sentiment'] = dummy_trumptweets.loc[:, 'text'].apply(detect_sentiment)"
   ]
  },
  {
   "cell_type": "code",
   "execution_count": 75,
   "metadata": {
    "collapsed": true
   },
   "outputs": [],
   "source": [
    "# Bin sentiment > .5 to 1, or high positive sentiment' is dropped from columns for the regression model\n",
    "\n",
    "# Bin sentiment >= 0 & <0.5 as moderately positive\n",
    "dummy_trumptweets.loc[:, 'moderately_positive_sentiment'] = np.where((dummy_trumptweets.loc[:, 'sentiment'] >= 0) & (dummy_trumptweets.loc[:, 'sentiment'] < .5), 1, 0)\n",
    "\n",
    "# Bin sentiment >=.5 and <0 as moderately negative\n",
    "dummy_trumptweets.loc[:, 'moderately_negative_sentiment'] = np.where((dummy_trumptweets.loc[:, 'sentiment'] >= -.5) & (dummy_trumptweets.loc[:, 'sentiment'] < 0), 1, 0)\n",
    "\n",
    "# Bin sentiment >= -1 and < -0.5 as very negative\n",
    "dummy_trumptweets.loc[:, 'very_negative_sentiment'] = np.where((dummy_trumptweets.loc[:, 'sentiment'] >= -1) & (dummy_trumptweets.loc[:, 'sentiment'] < -.5), 1, 0)"
   ]
  },
  {
   "cell_type": "code",
   "execution_count": 86,
   "metadata": {},
   "outputs": [
    {
     "data": {
      "image/png": "[encoded data removed]",
      "text/plain": [
       "<matplotlib.figure.Figure at 0x1a1c3a8748>"
      ]
     },
     "metadata": {},
     "output_type": "display_data"
    }
   ],
   "source": [
    "sns.pairplot(dummy_trumptweets,\n",
    "            x_vars=['moderately_positive_sentiment', 'moderately_negative_sentiment',\n",
    "                    'very_negative_sentiment'],\n",
    "            y_vars='log_engagement',\n",
    "            kind='reg',\n",
    "            plot_kws={'scatter_kws': {'s':1, 'alpha':.3},\n",
    "                      'line_kws': {'color':'red'}\n",
    "                     },\n",
    "            size=6\n",
    "            );"
   ]
  },
  {
   "cell_type": "code",
   "execution_count": null,
   "metadata": {
    "collapsed": true
   },
   "outputs": [],
   "source": []
  },
  {
   "cell_type": "code",
   "execution_count": null,
   "metadata": {
    "collapsed": true
   },
   "outputs": [],
   "source": []
  },
  {
   "cell_type": "markdown",
   "metadata": {},
   "source": [
    "**Testing Polynomial Features on Sentiment**"
   ]
  },
  {
   "cell_type": "code",
   "execution_count": 45,
   "metadata": {},
   "outputs": [],
   "source": [
    "#Testing Polynomial Features on Sentiment\n",
    "\n",
    "from sklearn.preprocessing import PolynomialFeatures\n",
    "\n",
    "X = (dummy_trumptweets.loc[:, ['sentiment']])\n",
    "\n",
    "pf = PolynomialFeatures(degree=1, include_bias=False)\n",
    "pf.fit(X)\n",
    "X = pf.transform(X)\n",
    "\n",
    "y = dummy_trumptweets.loc[:, 'log_engagement']"
   ]
  },
  {
   "cell_type": "code",
   "execution_count": 46,
   "metadata": {},
   "outputs": [],
   "source": [
    "lr = LinearRegression()\n",
    "lr.fit(X, y)\n",
    "\n",
    "y_fit = lr.predict(X)\n"
   ]
  },
  {
   "cell_type": "code",
   "execution_count": 47,
   "metadata": {},
   "outputs": [
    {
     "data": {
      "text/plain": [
       "<matplotlib.collections.PathCollection at 0x1100235c0>"
      ]
     },
     "execution_count": 47,
     "metadata": {},
     "output_type": "execute_result"
    },
    {
     "data": {
      "image/png": "[encoded data removed]",
      "text/plain": [
       "<matplotlib.figure.Figure at 0x11003dcf8>"
      ]
     },
     "metadata": {},
     "output_type": "display_data"
    }
   ],
   "source": [
    "plt.plot(dummy_trumptweets.loc[:, 'sentiment'].values, y_fit, color='r')\n",
    "plt.scatter(dummy_trumptweets.loc[:, 'sentiment'], y)"
   ]
  },
  {
   "cell_type": "code",
   "execution_count": null,
   "metadata": {
    "collapsed": true
   },
   "outputs": [],
   "source": []
  },
  {
   "cell_type": "markdown",
   "metadata": {},
   "source": [
    "**Testing Log features on Sentiment**"
   ]
  },
  {
   "cell_type": "code",
   "execution_count": 64,
   "metadata": {},
   "outputs": [],
   "source": [
    "# Using 2 parameter Box-Cox transformation of log(x + 1.1) to transform all values greater than 0\n",
    "\n",
    "dummy_trumptweets.loc[:, 'log_sentiment'] = np.log(dummy_trumptweets.loc[:, 'sentiment'] + 1.1)"
   ]
  },
  {
   "cell_type": "code",
   "execution_count": 65,
   "metadata": {},
   "outputs": [
    {
     "data": {
      "image/png": "[encoded data removed]",
      "text/plain": [
       "<matplotlib.figure.Figure at 0x110006ef0>"
      ]
     },
     "metadata": {},
     "output_type": "display_data"
    }
   ],
   "source": [
    "x =  dummy_trumptweets.loc[:, 'log_sentiment']\n",
    "y = dummy_trumptweets.loc[:, 'log_engagement']\n",
    "plt.scatter(x, y, alpha=.2)\n",
    "plt.show()"
   ]
  },
  {
   "cell_type": "code",
   "execution_count": 71,
   "metadata": {},
   "outputs": [
    {
     "data": {
      "image/png": "[encoded data removed]",
      "text/plain": [
       "<matplotlib.figure.Figure at 0x10fee9eb8>"
      ]
     },
     "metadata": {},
     "output_type": "display_data"
    }
   ],
   "source": [
    "sns.pairplot(dummy_trumptweets,\n",
    "            x_vars='log_sentiment',\n",
    "            y_vars='log_engagement',\n",
    "            kind='reg',\n",
    "            plot_kws={'scatter_kws': {'s':1, 'alpha':.2},\n",
    "                      'line_kws': {'color':'red'}\n",
    "                     },\n",
    "            size=7\n",
    "            );"
   ]
  },
  {
   "cell_type": "code",
   "execution_count": null,
   "metadata": {
    "collapsed": true
   },
   "outputs": [],
   "source": []
  },
  {
   "cell_type": "code",
   "execution_count": null,
   "metadata": {
    "collapsed": true
   },
   "outputs": [],
   "source": []
  },
  {
   "cell_type": "markdown",
   "metadata": {},
   "source": [
    "# Analysis and Visualizations"
   ]
  },
  {
   "cell_type": "code",
   "execution_count": 76,
   "metadata": {},
   "outputs": [
    {
     "data": {
      "text/plain": [
       "Twitter for iPhone     3341\n",
       "Twitter for Android     861\n",
       "Twitter Web Client      195\n",
       "Media Studio            130\n",
       "Twitter Ads              94\n",
       "Twitter for iPad         51\n",
       "TweetDeck                 2\n",
       "Periscope                 1\n",
       "Name: source, dtype: int64"
      ]
     },
     "execution_count": 76,
     "metadata": {},
     "output_type": "execute_result"
    }
   ],
   "source": [
    "dummy_trumptweets.source.value_counts()"
   ]
  },
  {
   "cell_type": "code",
   "execution_count": 77,
   "metadata": {},
   "outputs": [
    {
     "data": {
      "text/html": [
       "<div>\n",
       "<style>\n",
       "    .dataframe thead tr:only-child th {\n",
       "        text-align: right;\n",
       "    }\n",
       "\n",
       "    .dataframe thead th {\n",
       "        text-align: left;\n",
       "    }\n",
       "\n",
       "    .dataframe tbody tr th {\n",
       "        vertical-align: top;\n",
       "    }\n",
       "</style>\n",
       "<table border=\"1\" class=\"dataframe\">\n",
       "  <thead>\n",
       "    <tr style=\"text-align: right;\">\n",
       "      <th></th>\n",
       "      <th>source</th>\n",
       "      <th>text</th>\n",
       "      <th>retweet_count</th>\n",
       "      <th>favorite_count</th>\n",
       "      <th>is_retweet</th>\n",
       "      <th>id_str</th>\n",
       "      <th>src_android</th>\n",
       "      <th>src_webclient</th>\n",
       "      <th>src_mediastudio</th>\n",
       "      <th>src_twitterads</th>\n",
       "      <th>...</th>\n",
       "      <th>tweet_hour</th>\n",
       "      <th>is_afternoon</th>\n",
       "      <th>is_evening</th>\n",
       "      <th>is_latenight</th>\n",
       "      <th>log_engagement</th>\n",
       "      <th>sentiment</th>\n",
       "      <th>moderately_positive_sentiment</th>\n",
       "      <th>moderately_negative_sentiment</th>\n",
       "      <th>very_negative_sentiment</th>\n",
       "      <th>log_sentiment</th>\n",
       "    </tr>\n",
       "  </thead>\n",
       "  <tbody>\n",
       "    <tr>\n",
       "      <th>count</th>\n",
       "      <td>4675</td>\n",
       "      <td>4675</td>\n",
       "      <td>4675.000000</td>\n",
       "      <td>4675.000000</td>\n",
       "      <td>4675</td>\n",
       "      <td>4.675000e+03</td>\n",
       "      <td>4675.000000</td>\n",
       "      <td>4675.000000</td>\n",
       "      <td>4675.000000</td>\n",
       "      <td>4675.000000</td>\n",
       "      <td>...</td>\n",
       "      <td>4675.000000</td>\n",
       "      <td>4675.000000</td>\n",
       "      <td>4675.000000</td>\n",
       "      <td>4675.000000</td>\n",
       "      <td>4675.000000</td>\n",
       "      <td>4675.000000</td>\n",
       "      <td>4675.000000</td>\n",
       "      <td>4675.000000</td>\n",
       "      <td>4675.000000</td>\n",
       "      <td>4675.000000</td>\n",
       "    </tr>\n",
       "    <tr>\n",
       "      <th>unique</th>\n",
       "      <td>8</td>\n",
       "      <td>4665</td>\n",
       "      <td>NaN</td>\n",
       "      <td>NaN</td>\n",
       "      <td>2</td>\n",
       "      <td>NaN</td>\n",
       "      <td>NaN</td>\n",
       "      <td>NaN</td>\n",
       "      <td>NaN</td>\n",
       "      <td>NaN</td>\n",
       "      <td>...</td>\n",
       "      <td>NaN</td>\n",
       "      <td>NaN</td>\n",
       "      <td>NaN</td>\n",
       "      <td>NaN</td>\n",
       "      <td>NaN</td>\n",
       "      <td>NaN</td>\n",
       "      <td>NaN</td>\n",
       "      <td>NaN</td>\n",
       "      <td>NaN</td>\n",
       "      <td>NaN</td>\n",
       "    </tr>\n",
       "    <tr>\n",
       "      <th>top</th>\n",
       "      <td>Twitter for iPhone</td>\n",
       "      <td>MAKE AMERICA GREAT AGAIN!</td>\n",
       "      <td>NaN</td>\n",
       "      <td>NaN</td>\n",
       "      <td>False</td>\n",
       "      <td>NaN</td>\n",
       "      <td>NaN</td>\n",
       "      <td>NaN</td>\n",
       "      <td>NaN</td>\n",
       "      <td>NaN</td>\n",
       "      <td>...</td>\n",
       "      <td>NaN</td>\n",
       "      <td>NaN</td>\n",
       "      <td>NaN</td>\n",
       "      <td>NaN</td>\n",
       "      <td>NaN</td>\n",
       "      <td>NaN</td>\n",
       "      <td>NaN</td>\n",
       "      <td>NaN</td>\n",
       "      <td>NaN</td>\n",
       "      <td>NaN</td>\n",
       "    </tr>\n",
       "    <tr>\n",
       "      <th>freq</th>\n",
       "      <td>3341</td>\n",
       "      <td>7</td>\n",
       "      <td>NaN</td>\n",
       "      <td>NaN</td>\n",
       "      <td>4228</td>\n",
       "      <td>NaN</td>\n",
       "      <td>NaN</td>\n",
       "      <td>NaN</td>\n",
       "      <td>NaN</td>\n",
       "      <td>NaN</td>\n",
       "      <td>...</td>\n",
       "      <td>NaN</td>\n",
       "      <td>NaN</td>\n",
       "      <td>NaN</td>\n",
       "      <td>NaN</td>\n",
       "      <td>NaN</td>\n",
       "      <td>NaN</td>\n",
       "      <td>NaN</td>\n",
       "      <td>NaN</td>\n",
       "      <td>NaN</td>\n",
       "      <td>NaN</td>\n",
       "    </tr>\n",
       "    <tr>\n",
       "      <th>mean</th>\n",
       "      <td>NaN</td>\n",
       "      <td>NaN</td>\n",
       "      <td>16402.736898</td>\n",
       "      <td>60308.453904</td>\n",
       "      <td>NaN</td>\n",
       "      <td>8.542120e+17</td>\n",
       "      <td>0.184171</td>\n",
       "      <td>0.041711</td>\n",
       "      <td>0.027807</td>\n",
       "      <td>0.020107</td>\n",
       "      <td>...</td>\n",
       "      <td>12.643636</td>\n",
       "      <td>0.278503</td>\n",
       "      <td>0.263529</td>\n",
       "      <td>0.019037</td>\n",
       "      <td>10.874569</td>\n",
       "      <td>0.143641</td>\n",
       "      <td>0.606203</td>\n",
       "      <td>0.191016</td>\n",
       "      <td>0.026738</td>\n",
       "      <td>0.168570</td>\n",
       "    </tr>\n",
       "    <tr>\n",
       "      <th>std</th>\n",
       "      <td>NaN</td>\n",
       "      <td>NaN</td>\n",
       "      <td>13960.319769</td>\n",
       "      <td>48323.015209</td>\n",
       "      <td>NaN</td>\n",
       "      <td>6.611347e+16</td>\n",
       "      <td>0.387665</td>\n",
       "      <td>0.199950</td>\n",
       "      <td>0.164438</td>\n",
       "      <td>0.140381</td>\n",
       "      <td>...</td>\n",
       "      <td>6.973148</td>\n",
       "      <td>0.448310</td>\n",
       "      <td>0.440594</td>\n",
       "      <td>0.136671</td>\n",
       "      <td>1.084766</td>\n",
       "      <td>0.354736</td>\n",
       "      <td>0.488643</td>\n",
       "      <td>0.393144</td>\n",
       "      <td>0.161334</td>\n",
       "      <td>0.348719</td>\n",
       "    </tr>\n",
       "    <tr>\n",
       "      <th>min</th>\n",
       "      <td>NaN</td>\n",
       "      <td>NaN</td>\n",
       "      <td>0.000000</td>\n",
       "      <td>0.000000</td>\n",
       "      <td>NaN</td>\n",
       "      <td>7.549926e+17</td>\n",
       "      <td>0.000000</td>\n",
       "      <td>0.000000</td>\n",
       "      <td>0.000000</td>\n",
       "      <td>0.000000</td>\n",
       "      <td>...</td>\n",
       "      <td>0.000000</td>\n",
       "      <td>0.000000</td>\n",
       "      <td>0.000000</td>\n",
       "      <td>0.000000</td>\n",
       "      <td>0.000000</td>\n",
       "      <td>-1.000000</td>\n",
       "      <td>0.000000</td>\n",
       "      <td>0.000000</td>\n",
       "      <td>0.000000</td>\n",
       "      <td>-2.302585</td>\n",
       "    </tr>\n",
       "    <tr>\n",
       "      <th>25%</th>\n",
       "      <td>NaN</td>\n",
       "      <td>NaN</td>\n",
       "      <td>8770.000000</td>\n",
       "      <td>23298.500000</td>\n",
       "      <td>NaN</td>\n",
       "      <td>7.889149e+17</td>\n",
       "      <td>0.000000</td>\n",
       "      <td>0.000000</td>\n",
       "      <td>0.000000</td>\n",
       "      <td>0.000000</td>\n",
       "      <td>...</td>\n",
       "      <td>10.000000</td>\n",
       "      <td>0.000000</td>\n",
       "      <td>0.000000</td>\n",
       "      <td>0.000000</td>\n",
       "      <td>10.389703</td>\n",
       "      <td>0.000000</td>\n",
       "      <td>0.000000</td>\n",
       "      <td>0.000000</td>\n",
       "      <td>0.000000</td>\n",
       "      <td>0.095310</td>\n",
       "    </tr>\n",
       "    <tr>\n",
       "      <th>50%</th>\n",
       "      <td>NaN</td>\n",
       "      <td>NaN</td>\n",
       "      <td>13781.000000</td>\n",
       "      <td>55454.000000</td>\n",
       "      <td>NaN</td>\n",
       "      <td>8.569286e+17</td>\n",
       "      <td>0.000000</td>\n",
       "      <td>0.000000</td>\n",
       "      <td>0.000000</td>\n",
       "      <td>0.000000</td>\n",
       "      <td>...</td>\n",
       "      <td>13.000000</td>\n",
       "      <td>0.000000</td>\n",
       "      <td>0.000000</td>\n",
       "      <td>0.000000</td>\n",
       "      <td>11.133435</td>\n",
       "      <td>0.008333</td>\n",
       "      <td>1.000000</td>\n",
       "      <td>0.000000</td>\n",
       "      <td>0.000000</td>\n",
       "      <td>0.102857</td>\n",
       "    </tr>\n",
       "    <tr>\n",
       "      <th>75%</th>\n",
       "      <td>NaN</td>\n",
       "      <td>NaN</td>\n",
       "      <td>20583.000000</td>\n",
       "      <td>86214.000000</td>\n",
       "      <td>NaN</td>\n",
       "      <td>9.131525e+17</td>\n",
       "      <td>0.000000</td>\n",
       "      <td>0.000000</td>\n",
       "      <td>0.000000</td>\n",
       "      <td>0.000000</td>\n",
       "      <td>...</td>\n",
       "      <td>19.000000</td>\n",
       "      <td>1.000000</td>\n",
       "      <td>1.000000</td>\n",
       "      <td>0.000000</td>\n",
       "      <td>11.571878</td>\n",
       "      <td>0.350000</td>\n",
       "      <td>1.000000</td>\n",
       "      <td>0.000000</td>\n",
       "      <td>0.000000</td>\n",
       "      <td>0.371564</td>\n",
       "    </tr>\n",
       "    <tr>\n",
       "      <th>max</th>\n",
       "      <td>NaN</td>\n",
       "      <td>NaN</td>\n",
       "      <td>369530.000000</td>\n",
       "      <td>633253.000000</td>\n",
       "      <td>NaN</td>\n",
       "      <td>9.714098e+17</td>\n",
       "      <td>1.000000</td>\n",
       "      <td>1.000000</td>\n",
       "      <td>1.000000</td>\n",
       "      <td>1.000000</td>\n",
       "      <td>...</td>\n",
       "      <td>23.000000</td>\n",
       "      <td>1.000000</td>\n",
       "      <td>1.000000</td>\n",
       "      <td>1.000000</td>\n",
       "      <td>13.789811</td>\n",
       "      <td>1.000000</td>\n",
       "      <td>1.000000</td>\n",
       "      <td>1.000000</td>\n",
       "      <td>1.000000</td>\n",
       "      <td>0.741937</td>\n",
       "    </tr>\n",
       "  </tbody>\n",
       "</table>\n",
       "<p>11 rows × 24 columns</p>\n",
       "</div>"
      ],
      "text/plain": [
       "                    source                       text  retweet_count  \\\n",
       "count                 4675                       4675    4675.000000   \n",
       "unique                   8                       4665            NaN   \n",
       "top     Twitter for iPhone  MAKE AMERICA GREAT AGAIN!            NaN   \n",
       "freq                  3341                          7            NaN   \n",
       "mean                   NaN                        NaN   16402.736898   \n",
       "std                    NaN                        NaN   13960.319769   \n",
       "min                    NaN                        NaN       0.000000   \n",
       "25%                    NaN                        NaN    8770.000000   \n",
       "50%                    NaN                        NaN   13781.000000   \n",
       "75%                    NaN                        NaN   20583.000000   \n",
       "max                    NaN                        NaN  369530.000000   \n",
       "\n",
       "        favorite_count is_retweet        id_str  src_android  src_webclient  \\\n",
       "count      4675.000000       4675  4.675000e+03  4675.000000    4675.000000   \n",
       "unique             NaN          2           NaN          NaN            NaN   \n",
       "top                NaN      False           NaN          NaN            NaN   \n",
       "freq               NaN       4228           NaN          NaN            NaN   \n",
       "mean      60308.453904        NaN  8.542120e+17     0.184171       0.041711   \n",
       "std       48323.015209        NaN  6.611347e+16     0.387665       0.199950   \n",
       "min           0.000000        NaN  7.549926e+17     0.000000       0.000000   \n",
       "25%       23298.500000        NaN  7.889149e+17     0.000000       0.000000   \n",
       "50%       55454.000000        NaN  8.569286e+17     0.000000       0.000000   \n",
       "75%       86214.000000        NaN  9.131525e+17     0.000000       0.000000   \n",
       "max      633253.000000        NaN  9.714098e+17     1.000000       1.000000   \n",
       "\n",
       "        src_mediastudio  src_twitterads      ...         tweet_hour  \\\n",
       "count       4675.000000     4675.000000      ...        4675.000000   \n",
       "unique              NaN             NaN      ...                NaN   \n",
       "top                 NaN             NaN      ...                NaN   \n",
       "freq                NaN             NaN      ...                NaN   \n",
       "mean           0.027807        0.020107      ...          12.643636   \n",
       "std            0.164438        0.140381      ...           6.973148   \n",
       "min            0.000000        0.000000      ...           0.000000   \n",
       "25%            0.000000        0.000000      ...          10.000000   \n",
       "50%            0.000000        0.000000      ...          13.000000   \n",
       "75%            0.000000        0.000000      ...          19.000000   \n",
       "max            1.000000        1.000000      ...          23.000000   \n",
       "\n",
       "        is_afternoon   is_evening  is_latenight  log_engagement    sentiment  \\\n",
       "count    4675.000000  4675.000000   4675.000000     4675.000000  4675.000000   \n",
       "unique           NaN          NaN           NaN             NaN          NaN   \n",
       "top              NaN          NaN           NaN             NaN          NaN   \n",
       "freq             NaN          NaN           NaN             NaN          NaN   \n",
       "mean        0.278503     0.263529      0.019037       10.874569     0.143641   \n",
       "std         0.448310     0.440594      0.136671        1.084766     0.354736   \n",
       "min         0.000000     0.000000      0.000000        0.000000    -1.000000   \n",
       "25%         0.000000     0.000000      0.000000       10.389703     0.000000   \n",
       "50%         0.000000     0.000000      0.000000       11.133435     0.008333   \n",
       "75%         1.000000     1.000000      0.000000       11.571878     0.350000   \n",
       "max         1.000000     1.000000      1.000000       13.789811     1.000000   \n",
       "\n",
       "        moderately_positive_sentiment  moderately_negative_sentiment  \\\n",
       "count                     4675.000000                    4675.000000   \n",
       "unique                            NaN                            NaN   \n",
       "top                               NaN                            NaN   \n",
       "freq                              NaN                            NaN   \n",
       "mean                         0.606203                       0.191016   \n",
       "std                          0.488643                       0.393144   \n",
       "min                          0.000000                       0.000000   \n",
       "25%                          0.000000                       0.000000   \n",
       "50%                          1.000000                       0.000000   \n",
       "75%                          1.000000                       0.000000   \n",
       "max                          1.000000                       1.000000   \n",
       "\n",
       "        very_negative_sentiment  log_sentiment  \n",
       "count               4675.000000    4675.000000  \n",
       "unique                      NaN            NaN  \n",
       "top                         NaN            NaN  \n",
       "freq                        NaN            NaN  \n",
       "mean                   0.026738       0.168570  \n",
       "std                    0.161334       0.348719  \n",
       "min                    0.000000      -2.302585  \n",
       "25%                    0.000000       0.095310  \n",
       "50%                    0.000000       0.102857  \n",
       "75%                    0.000000       0.371564  \n",
       "max                    1.000000       0.741937  \n",
       "\n",
       "[11 rows x 24 columns]"
      ]
     },
     "execution_count": 77,
     "metadata": {},
     "output_type": "execute_result"
    }
   ],
   "source": [
    "#describe all\n",
    "\n",
    "dummy_trumptweets.describe(include='all')"
   ]
  },
  {
   "cell_type": "code",
   "execution_count": 78,
   "metadata": {},
   "outputs": [
    {
     "data": {
      "text/plain": [
       "<matplotlib.axes._subplots.AxesSubplot at 0x10fea66d8>"
      ]
     },
     "execution_count": 78,
     "metadata": {},
     "output_type": "execute_result"
    },
    {
     "data": {
      "image/png": "[encoded data removed]",
      "text/plain": [
       "<matplotlib.figure.Figure at 0x10fe7e828>"
      ]
     },
     "metadata": {},
     "output_type": "display_data"
    }
   ],
   "source": [
    "#boxplot of log(engagement)\n",
    "\n",
    "dummy_trumptweets.loc[:,'log_engagement'].plot(kind='box')"
   ]
  },
  {
   "cell_type": "code",
   "execution_count": 79,
   "metadata": {},
   "outputs": [
    {
     "data": {
      "text/plain": [
       "<matplotlib.axes._subplots.AxesSubplot at 0x10ff07160>"
      ]
     },
     "execution_count": 79,
     "metadata": {},
     "output_type": "execute_result"
    },
    {
     "data": {
      "image/png": "[encoded data removed]",
      "text/plain": [
       "<matplotlib.figure.Figure at 0x10fe68b70>"
      ]
     },
     "metadata": {},
     "output_type": "display_data"
    }
   ],
   "source": [
    "#Histogram of log(engagement)\n",
    "\n",
    "dummy_trumptweets.loc[:, 'log_engagement'].hist(bins=100)"
   ]
  },
  {
   "cell_type": "code",
   "execution_count": 80,
   "metadata": {},
   "outputs": [
    {
     "data": {
      "text/plain": [
       "<matplotlib.axes._subplots.AxesSubplot at 0x10fdff470>"
      ]
     },
     "execution_count": 80,
     "metadata": {},
     "output_type": "execute_result"
    },
    {
     "data": {
      "image/png": "[encoded data removed]",
      "text/plain": [
       "<matplotlib.figure.Figure at 0x10fe185f8>"
      ]
     },
     "metadata": {},
     "output_type": "display_data"
    }
   ],
   "source": [
    "#Histogram of tweet_hour \n",
    "\n",
    "dummy_trumptweets.loc[:, 'tweet_hour'].hist(bins=24)"
   ]
  },
  {
   "cell_type": "code",
   "execution_count": 81,
   "metadata": {},
   "outputs": [
    {
     "data": {
      "text/plain": [
       "Index(['source', 'text', 'retweet_count', 'favorite_count', 'is_retweet',\n",
       "       'id_str', 'src_android', 'src_webclient', 'src_mediastudio',\n",
       "       'src_twitterads', 'src_ipad', 'src_tweetdeck', 'src_periscope',\n",
       "       'engagement', 'tweet_hour', 'is_afternoon', 'is_evening',\n",
       "       'is_latenight', 'log_engagement', 'sentiment',\n",
       "       'moderately_positive_sentiment', 'moderately_negative_sentiment',\n",
       "       'very_negative_sentiment', 'log_sentiment'],\n",
       "      dtype='object')"
      ]
     },
     "execution_count": 81,
     "metadata": {},
     "output_type": "execute_result"
    }
   ],
   "source": [
    "dummy_trumptweets.columns"
   ]
  },
  {
   "cell_type": "code",
   "execution_count": 82,
   "metadata": {
    "collapsed": true
   },
   "outputs": [],
   "source": [
    "feature_cols = ['is_retweet', \n",
    "                'is_afternoon', \n",
    "                'is_evening', \n",
    "                'is_latenight', \n",
    "                'moderately_positive_sentiment',\n",
    "                'moderately_negative_sentiment', \n",
    "                'very_negative_sentiment']"
   ]
  },
  {
   "cell_type": "code",
   "execution_count": 83,
   "metadata": {},
   "outputs": [
    {
     "data": {
      "image/png": "[encoded data removed]",
      "text/plain": [
       "<matplotlib.figure.Figure at 0x10fe797b8>"
      ]
     },
     "metadata": {},
     "output_type": "display_data"
    }
   ],
   "source": [
    "sns.pairplot(dummy_trumptweets,\n",
    "            x_vars=feature_cols,\n",
    "            y_vars='log_engagement',\n",
    "            kind='reg',\n",
    "            plot_kws={'scatter_kws': {'s':1, 'alpha':.3},\n",
    "                      'line_kws': {'color':'red'}\n",
    "                     }\n",
    "            );"
   ]
  },
  {
   "cell_type": "code",
   "execution_count": null,
   "metadata": {
    "collapsed": true
   },
   "outputs": [],
   "source": [
    "# Embiggen the negative sentiment charts"
   ]
  },
  {
   "cell_type": "code",
   "execution_count": 87,
   "metadata": {},
   "outputs": [
    {
     "data": {
      "image/png": "[encoded data removed]",
      "text/plain": [
       "<matplotlib.figure.Figure at 0x1a1c2a4f28>"
      ]
     },
     "metadata": {},
     "output_type": "display_data"
    }
   ],
   "source": [
    "#Insert Correlation Matrix with HeatMap\n",
    "\n",
    "sns.heatmap(dummy_trumptweets.corr(),\n",
    "            vmin=-1,\n",
    "            vmax = 1,\n",
    "            cmap = sns.diverging_palette(220, 10, n=21),\n",
    "            );"
   ]
  },
  {
   "cell_type": "code",
   "execution_count": 88,
   "metadata": {
    "scrolled": false
   },
   "outputs": [
    {
     "name": "stdout",
     "output_type": "stream",
     "text": [
      "is_retweet\n"
     ]
    },
    {
     "data": {
      "image/png": "[encoded data removed]",
      "text/plain": [
       "<matplotlib.figure.Figure at 0x1a1cd403c8>"
      ]
     },
     "metadata": {},
     "output_type": "display_data"
    },
    {
     "name": "stdout",
     "output_type": "stream",
     "text": [
      "is_afternoon\n"
     ]
    },
    {
     "data": {
      "image/png": "[encoded data removed]",
      "text/plain": [
       "<matplotlib.figure.Figure at 0x1a1cd22470>"
      ]
     },
     "metadata": {},
     "output_type": "display_data"
    },
    {
     "name": "stdout",
     "output_type": "stream",
     "text": [
      "is_evening\n"
     ]
    },
    {
     "data": {
      "image/png": "[encoded data removed]",
      "text/plain": [
       "<matplotlib.figure.Figure at 0x1a1c39d6a0>"
      ]
     },
     "metadata": {},
     "output_type": "display_data"
    },
    {
     "name": "stdout",
     "output_type": "stream",
     "text": [
      "is_latenight\n"
     ]
    },
    {
     "data": {
      "image/png": "[encoded data removed]",
      "text/plain": [
       "<matplotlib.figure.Figure at 0x10fe45438>"
      ]
     },
     "metadata": {},
     "output_type": "display_data"
    },
    {
     "name": "stdout",
     "output_type": "stream",
     "text": [
      "moderately_positive_sentiment\n"
     ]
    },
    {
     "data": {
      "image/png": "[encoded data removed]",
      "text/plain": [
       "<matplotlib.figure.Figure at 0x110072c18>"
      ]
     },
     "metadata": {},
     "output_type": "display_data"
    },
    {
     "name": "stdout",
     "output_type": "stream",
     "text": [
      "moderately_negative_sentiment\n"
     ]
    },
    {
     "data": {
      "image/png": "[encoded data removed]",
      "text/plain": [
       "<matplotlib.figure.Figure at 0x10ff40f28>"
      ]
     },
     "metadata": {},
     "output_type": "display_data"
    },
    {
     "name": "stdout",
     "output_type": "stream",
     "text": [
      "very_negative_sentiment\n"
     ]
    },
    {
     "data": {
      "image/png": "[encoded data removed]",
      "text/plain": [
       "<matplotlib.figure.Figure at 0x10ff1aba8>"
      ]
     },
     "metadata": {},
     "output_type": "display_data"
    }
   ],
   "source": [
    "#Review Scatter Plots\n",
    "\n",
    "y = dummy_trumptweets.loc[:, 'log_engagement']\n",
    "\n",
    "for var in feature_cols:\n",
    "    print(var)\n",
    "    x = dummy_trumptweets.loc[:, var]\n",
    "    plt.scatter(x, y)\n",
    "    plt.show()"
   ]
  },
  {
   "cell_type": "code",
   "execution_count": null,
   "metadata": {
    "collapsed": true
   },
   "outputs": [],
   "source": []
  },
  {
   "cell_type": "markdown",
   "metadata": {},
   "source": [
    "# Linear Regression"
   ]
  },
  {
   "cell_type": "code",
   "execution_count": 89,
   "metadata": {
    "collapsed": true
   },
   "outputs": [],
   "source": [
    "X = dummy_trumptweets.loc[:, feature_cols]\n",
    "y = dummy_trumptweets.loc[:, 'log_engagement']\n"
   ]
  },
  {
   "cell_type": "code",
   "execution_count": 90,
   "metadata": {
    "collapsed": true
   },
   "outputs": [],
   "source": [
    "#Split Train and Test\n",
    "\n",
    "X_train, X_test, y_train, y_test = train_test_split(X, y, random_state=1)"
   ]
  },
  {
   "cell_type": "code",
   "execution_count": 91,
   "metadata": {},
   "outputs": [
    {
     "data": {
      "text/plain": [
       "LinearRegression(copy_X=True, fit_intercept=True, n_jobs=1, normalize=False)"
      ]
     },
     "execution_count": 91,
     "metadata": {},
     "output_type": "execute_result"
    }
   ],
   "source": [
    "# model on the training set of data\n",
    "\n",
    "lr = LinearRegression()\n",
    "lr.fit(X_train, y_train)"
   ]
  },
  {
   "cell_type": "code",
   "execution_count": 92,
   "metadata": {
    "collapsed": true
   },
   "outputs": [],
   "source": [
    "# predict on the test set for X\n",
    "\n",
    "y_pred = lr.predict(X_test)"
   ]
  },
  {
   "cell_type": "code",
   "execution_count": 93,
   "metadata": {
    "scrolled": true
   },
   "outputs": [
    {
     "name": "stdout",
     "output_type": "stream",
     "text": [
      "0.81435367821\n"
     ]
    }
   ],
   "source": [
    "# compare predicted results against the test set\n",
    "\n",
    "#print(metrics.mean_squared_error(y_train, lr.predict(X_train)))\n",
    "\n",
    "print(metrics.mean_squared_error(y_test, y_pred))"
   ]
  },
  {
   "cell_type": "code",
   "execution_count": null,
   "metadata": {
    "collapsed": true
   },
   "outputs": [],
   "source": []
  },
  {
   "cell_type": "code",
   "execution_count": 94,
   "metadata": {},
   "outputs": [
    {
     "data": {
      "text/plain": [
       "1.1827115079589294"
      ]
     },
     "execution_count": 94,
     "metadata": {},
     "output_type": "execute_result"
    }
   ],
   "source": [
    "#Create Benchmark of Mean Values\n",
    "\n",
    "y_pred_null = np.ones(y_test.shape) * y_train.mean()\n",
    "\n",
    "#compare y_test against the y_means\n",
    "metrics.mean_squared_error(y_test, y_pred_null)"
   ]
  },
  {
   "cell_type": "code",
   "execution_count": 95,
   "metadata": {},
   "outputs": [
    {
     "name": "stdout",
     "output_type": "stream",
     "text": [
      "11.226384712\n",
      "[-1.97232317 -0.25955238 -0.24490816 -0.28486298 -0.08210169  0.10024365\n",
      "  0.22730542]\n"
     ]
    }
   ],
   "source": [
    "print(lr.intercept_)\n",
    "print(lr.coef_)"
   ]
  },
  {
   "cell_type": "code",
   "execution_count": null,
   "metadata": {
    "collapsed": true
   },
   "outputs": [],
   "source": []
  },
  {
   "cell_type": "code",
   "execution_count": null,
   "metadata": {
    "collapsed": true
   },
   "outputs": [],
   "source": []
  },
  {
   "cell_type": "markdown",
   "metadata": {
    "collapsed": true
   },
   "source": [
    "# Conclusion"
   ]
  },
  {
   "cell_type": "markdown",
   "metadata": {},
   "source": [
    "lorem ipsum\n",
    "\n",
    "Run metrics\n",
    "\n",
    "Run Cross Validations\n",
    "\n",
    "dig into the #hashtags"
   ]
  },
  {
   "cell_type": "code",
   "execution_count": 96,
   "metadata": {},
   "outputs": [],
   "source": [
    "#run metrics on both the test and train set"
   ]
  },
  {
   "cell_type": "code",
   "execution_count": null,
   "metadata": {
    "collapsed": true
   },
   "outputs": [],
   "source": []
  }
 ],
 "metadata": {
  "kernelspec": {
   "display_name": "Python 3",
   "language": "python",
   "name": "python3"
  },
  "language_info": {
   "codemirror_mode": {
    "name": "ipython",
    "version": 3
   },
   "file_extension": ".py",
   "mimetype": "text/x-python",
   "name": "python",
   "nbconvert_exporter": "python",
   "pygments_lexer": "ipython3",
   "version": "3.6.3"
  }
 },
 "nbformat": 4,
 "nbformat_minor": 2
}
