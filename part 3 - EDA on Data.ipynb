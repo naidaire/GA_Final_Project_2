{
 "cells": [
  {
   "cell_type": "markdown",
   "metadata": {
    "collapsed": true
   },
   "source": [
    "# Import & Review Data"
   ]
  },
  {
   "cell_type": "code",
   "execution_count": 1,
   "metadata": {
    "collapsed": true
   },
   "outputs": [],
   "source": [
    "import pandas as pd\n",
    "import numpy as np\n",
    "import matplotlib.pyplot as plt\n",
    "from sklearn.linear_model import LinearRegression\n",
    "from sklearn.model_selection import train_test_split\n",
    "from sklearn import metrics\n",
    "import seaborn as sns\n",
    "\n",
    "\n",
    "plt.style.use('fivethirtyeight')\n",
    "%matplotlib inline"
   ]
  },
  {
   "cell_type": "code",
   "execution_count": 2,
   "metadata": {
    "collapsed": true
   },
   "outputs": [],
   "source": [
    "file = './data/trumptweets_all.csv'\n"
   ]
  },
  {
   "cell_type": "code",
   "execution_count": 3,
   "metadata": {
    "collapsed": true,
    "scrolled": true
   },
   "outputs": [],
   "source": [
    "trumptweets = pd.read_csv(file, encoding = 'latin1',\n",
    "                          index_col='created_at')"
   ]
  },
  {
   "cell_type": "code",
   "execution_count": 4,
   "metadata": {},
   "outputs": [],
   "source": [
    "trumptweets.index = pd.to_datetime(trumptweets.index)"
   ]
  },
  {
   "cell_type": "code",
   "execution_count": 5,
   "metadata": {},
   "outputs": [],
   "source": [
    "# Only analyzing data since the 2016 Republican National Convention on 7/18/2016\n",
    "\n",
    "trumptweets = trumptweets.loc[trumptweets.index > '2016-7-18 00:00:00', :]"
   ]
  },
  {
   "cell_type": "code",
   "execution_count": 6,
   "metadata": {},
   "outputs": [
    {
     "data": {
      "text/plain": [
       "(4675, 6)"
      ]
     },
     "execution_count": 6,
     "metadata": {},
     "output_type": "execute_result"
    }
   ],
   "source": [
    "trumptweets.shape"
   ]
  },
  {
   "cell_type": "code",
   "execution_count": null,
   "metadata": {
    "collapsed": true
   },
   "outputs": [],
   "source": []
  },
  {
   "cell_type": "markdown",
   "metadata": {},
   "source": [
    "# Prepare Data for Analysis"
   ]
  },
  {
   "cell_type": "code",
   "execution_count": 7,
   "metadata": {},
   "outputs": [],
   "source": [
    "#add new column for HOUR when the tweet occurred\n",
    "\n",
    "trumptweets.loc[:, 'tweet_hour'] = trumptweets.index.hour"
   ]
  },
  {
   "cell_type": "code",
   "execution_count": 9,
   "metadata": {},
   "outputs": [
    {
     "data": {
      "text/plain": [
       "Twitter for iPhone     3341\n",
       "Twitter for Android     861\n",
       "Twitter Web Client      195\n",
       "Media Studio            130\n",
       "Twitter Ads              94\n",
       "Twitter for iPad         51\n",
       "TweetDeck                 2\n",
       "Periscope                 1\n",
       "Name: source, dtype: int64"
      ]
     },
     "execution_count": 9,
     "metadata": {},
     "output_type": "execute_result"
    }
   ],
   "source": [
    "trumptweets.loc[:, 'source'].value_counts()"
   ]
  },
  {
   "cell_type": "code",
   "execution_count": 10,
   "metadata": {},
   "outputs": [],
   "source": [
    "# Convert Source column to dummy variables\n",
    "\n",
    "#map source twitter for the 19 source values into integers\n",
    "\n",
    "trumptweets.loc[:, 'source_num'] = trumptweets.loc[:,'source'].map({'Twitter for iPhone':0, \n",
    "                                                                    'Twitter for Android':1, \n",
    "                                                                    'Twitter Web Client':2, \n",
    "                                                                    'Media Studio':3, \n",
    "                                                                    'Twitter Ads':4, \n",
    "                                                                    'Twitter for iPad':5, \n",
    "                                                                    'TweetDeck':6, \n",
    "                                                                    'Periscope':7, \n",
    "                                                                    })"
   ]
  },
  {
   "cell_type": "code",
   "execution_count": 11,
   "metadata": {},
   "outputs": [
    {
     "data": {
      "text/html": [
       "<div>\n",
       "<style>\n",
       "    .dataframe thead tr:only-child th {\n",
       "        text-align: right;\n",
       "    }\n",
       "\n",
       "    .dataframe thead th {\n",
       "        text-align: left;\n",
       "    }\n",
       "\n",
       "    .dataframe tbody tr th {\n",
       "        vertical-align: top;\n",
       "    }\n",
       "</style>\n",
       "<table border=\"1\" class=\"dataframe\">\n",
       "  <thead>\n",
       "    <tr style=\"text-align: right;\">\n",
       "      <th></th>\n",
       "      <th>source</th>\n",
       "      <th>text</th>\n",
       "      <th>retweet_count</th>\n",
       "      <th>favorite_count</th>\n",
       "      <th>is_retweet</th>\n",
       "      <th>id_str</th>\n",
       "      <th>tweet_hour</th>\n",
       "      <th>source_num</th>\n",
       "    </tr>\n",
       "    <tr>\n",
       "      <th>created_at</th>\n",
       "      <th></th>\n",
       "      <th></th>\n",
       "      <th></th>\n",
       "      <th></th>\n",
       "      <th></th>\n",
       "      <th></th>\n",
       "      <th></th>\n",
       "      <th></th>\n",
       "    </tr>\n",
       "  </thead>\n",
       "  <tbody>\n",
       "    <tr>\n",
       "      <th>2016-12-30 22:18:00</th>\n",
       "      <td>Twitter for Android</td>\n",
       "      <td>Russians are playing @CNN and @NBCNews for suc...</td>\n",
       "      <td>23213</td>\n",
       "      <td>84254</td>\n",
       "      <td>False</td>\n",
       "      <td>814958820980039681</td>\n",
       "      <td>22</td>\n",
       "      <td>1</td>\n",
       "    </tr>\n",
       "    <tr>\n",
       "      <th>2016-12-30 19:46:00</th>\n",
       "      <td>Twitter for iPhone</td>\n",
       "      <td>Join @AmerIcan32 founded by Hall of Fame legen...</td>\n",
       "      <td>7366</td>\n",
       "      <td>25336</td>\n",
       "      <td>False</td>\n",
       "      <td>814920722208296960</td>\n",
       "      <td>19</td>\n",
       "      <td>0</td>\n",
       "    </tr>\n",
       "    <tr>\n",
       "      <th>2016-12-30 19:41:00</th>\n",
       "      <td>Twitter for Android</td>\n",
       "      <td>Great move on delay (by V. Putin) - I always k...</td>\n",
       "      <td>34415</td>\n",
       "      <td>97669</td>\n",
       "      <td>False</td>\n",
       "      <td>814919370711461890</td>\n",
       "      <td>19</td>\n",
       "      <td>1</td>\n",
       "    </tr>\n",
       "    <tr>\n",
       "      <th>2016-12-29 14:54:00</th>\n",
       "      <td>Twitter for iPhone</td>\n",
       "      <td>My Administration will follow two simple rules...</td>\n",
       "      <td>11330</td>\n",
       "      <td>45609</td>\n",
       "      <td>False</td>\n",
       "      <td>814484710025994241</td>\n",
       "      <td>14</td>\n",
       "      <td>0</td>\n",
       "    </tr>\n",
       "    <tr>\n",
       "      <th>2016-12-28 22:06:00</th>\n",
       "      <td>Twitter for iPhone</td>\n",
       "      <td>'Economists say Trump delivered hope' https://...</td>\n",
       "      <td>13919</td>\n",
       "      <td>51857</td>\n",
       "      <td>False</td>\n",
       "      <td>814231064847728640</td>\n",
       "      <td>22</td>\n",
       "      <td>0</td>\n",
       "    </tr>\n",
       "  </tbody>\n",
       "</table>\n",
       "</div>"
      ],
      "text/plain": [
       "                                  source  \\\n",
       "created_at                                 \n",
       "2016-12-30 22:18:00  Twitter for Android   \n",
       "2016-12-30 19:46:00   Twitter for iPhone   \n",
       "2016-12-30 19:41:00  Twitter for Android   \n",
       "2016-12-29 14:54:00   Twitter for iPhone   \n",
       "2016-12-28 22:06:00   Twitter for iPhone   \n",
       "\n",
       "                                                                  text  \\\n",
       "created_at                                                               \n",
       "2016-12-30 22:18:00  Russians are playing @CNN and @NBCNews for suc...   \n",
       "2016-12-30 19:46:00  Join @AmerIcan32 founded by Hall of Fame legen...   \n",
       "2016-12-30 19:41:00  Great move on delay (by V. Putin) - I always k...   \n",
       "2016-12-29 14:54:00  My Administration will follow two simple rules...   \n",
       "2016-12-28 22:06:00  'Economists say Trump delivered hope' https://...   \n",
       "\n",
       "                     retweet_count  favorite_count  is_retweet  \\\n",
       "created_at                                                       \n",
       "2016-12-30 22:18:00          23213           84254       False   \n",
       "2016-12-30 19:46:00           7366           25336       False   \n",
       "2016-12-30 19:41:00          34415           97669       False   \n",
       "2016-12-29 14:54:00          11330           45609       False   \n",
       "2016-12-28 22:06:00          13919           51857       False   \n",
       "\n",
       "                                 id_str  tweet_hour  source_num  \n",
       "created_at                                                       \n",
       "2016-12-30 22:18:00  814958820980039681          22           1  \n",
       "2016-12-30 19:46:00  814920722208296960          19           0  \n",
       "2016-12-30 19:41:00  814919370711461890          19           1  \n",
       "2016-12-29 14:54:00  814484710025994241          14           0  \n",
       "2016-12-28 22:06:00  814231064847728640          22           0  "
      ]
     },
     "execution_count": 11,
     "metadata": {},
     "output_type": "execute_result"
    }
   ],
   "source": [
    "trumptweets.head()"
   ]
  },
  {
   "cell_type": "code",
   "execution_count": 12,
   "metadata": {
    "collapsed": true
   },
   "outputs": [],
   "source": [
    "#Convert Source_num to dummy variables.  Twitter for iPhone is src=0\n",
    "\n",
    "dummy_trumptweets = pd.get_dummies(trumptweets, columns=['source_num']).drop('source_num_0', axis=1)"
   ]
  },
  {
   "cell_type": "code",
   "execution_count": null,
   "metadata": {
    "collapsed": true
   },
   "outputs": [],
   "source": [
    "'Twitter for iPhone':0, \n",
    "                                                                    'Twitter for Android':1, \n",
    "                                                                    'Twitter Web Client':2, \n",
    "                                                                    'Media Studio':3, \n",
    "                                                                    'Twitter Ads':4, \n",
    "                                                                    'Twitter for iPad':5, \n",
    "                                                                    'TweetDeck':6, \n",
    "                                                                    'Periscope':7, "
   ]
  },
  {
   "cell_type": "code",
   "execution_count": 14,
   "metadata": {},
   "outputs": [],
   "source": [
    "# Rename Dummy source_num columns\n",
    "\n",
    "dummy_trumptweets.rename(columns={'source_num_1': 'src_android',\n",
    "                                  'source_num_2': 'src_webclient',\n",
    "                                  'source_num_3': 'src_mediastudio',\n",
    "                                  'source_num_4': 'src_twitterads',\n",
    "                                  'source_num_5': 'src_ipad',\n",
    "                                  'source_num_6': 'src_tweetdeck',\n",
    "                                  'source_num_7': 'src_periscope'},\n",
    "                                  inplace=True)"
   ]
  },
  {
   "cell_type": "markdown",
   "metadata": {},
   "source": [
    "   \n",
    "   "
   ]
  },
  {
   "cell_type": "code",
   "execution_count": 16,
   "metadata": {
    "collapsed": true
   },
   "outputs": [],
   "source": [
    "#Create new column, engagement, that sums retweet and favorite counts.  This will become my target y\n",
    "\n",
    "dummy_trumptweets.loc[:, 'engagement'] = (dummy_trumptweets.loc[:, 'retweet_count'] +\n",
    "                                          dummy_trumptweets.loc[:, 'favorite_count'])"
   ]
  },
  {
   "cell_type": "code",
   "execution_count": 17,
   "metadata": {
    "collapsed": true
   },
   "outputs": [],
   "source": [
    "# Convert hours to morning, afternoon, evening, latenight dummy variables.  Timestamp column is in GMT, so converting daytime hours to EST\n",
    "# Default is morning\n",
    "\n",
    "\n",
    "# EST 12-6pm is GMT 18-23\n",
    "dummy_trumptweets.loc[:, 'is_afternoon'] = ((dummy_trumptweets.loc[:, 'tweet_hour'] >= 17) & (dummy_trumptweets.loc[:,'tweet_hour'] < 23)).astype(int)  \n",
    "\n",
    "# EST 6pm-12am is 23 - 5\n",
    "dummy_trumptweets.loc[:, 'is_evening'] = ((dummy_trumptweets.loc[:, 'tweet_hour'] >= 23) | (dummy_trumptweets.loc[:,'tweet_hour'] < 5)).astype(int)\n",
    "\n",
    "# Late Night is EST 12am-5am is GMT 5-10\n",
    "dummy_trumptweets.loc[:, 'is_latenight'] = ((dummy_trumptweets.loc[:, 'tweet_hour'] >= 5) & (dummy_trumptweets.loc[:,'tweet_hour'] < 10)).astype(int)\n"
   ]
  },
  {
   "cell_type": "code",
   "execution_count": 18,
   "metadata": {
    "collapsed": true
   },
   "outputs": [],
   "source": [
    "# try log(y)\n",
    "# caution on interpretation of coefficients\n",
    "\n",
    "# Because Log(0) returns infinite, set engagement to 1 where it was previously 0.\n",
    "# Justifying this because 0 and 1 is insignificant as a low engagement tweets\n",
    "\n",
    "zero_tweets = dummy_trumptweets.loc[:,'engagement'] == 0\n",
    "dummy_trumptweets.loc[zero_tweets, 'engagement'] = 1"
   ]
  },
  {
   "cell_type": "code",
   "execution_count": 19,
   "metadata": {
    "collapsed": true
   },
   "outputs": [],
   "source": [
    "# add new column for log(engagement)\n",
    "\n",
    "dummy_trumptweets.loc[:, 'log_engagement'] = np.log(dummy_trumptweets.loc[:,'engagement'])"
   ]
  },
  {
   "cell_type": "code",
   "execution_count": null,
   "metadata": {
    "collapsed": true
   },
   "outputs": [],
   "source": []
  },
  {
   "cell_type": "code",
   "execution_count": null,
   "metadata": {
    "collapsed": true
   },
   "outputs": [],
   "source": []
  },
  {
   "cell_type": "markdown",
   "metadata": {},
   "source": [
    "# Natural Language Processing"
   ]
  },
  {
   "cell_type": "code",
   "execution_count": 23,
   "metadata": {},
   "outputs": [
    {
     "ename": "ModuleNotFoundError",
     "evalue": "No module named 'textblob'",
     "output_type": "error",
     "traceback": [
      "\u001b[1;31m---------------------------------------------------------------------------\u001b[0m",
      "\u001b[1;31mModuleNotFoundError\u001b[0m                       Traceback (most recent call last)",
      "\u001b[1;32m<ipython-input-23-b894f424422a>\u001b[0m in \u001b[0;36m<module>\u001b[1;34m()\u001b[0m\n\u001b[1;32m----> 1\u001b[1;33m \u001b[1;32mfrom\u001b[0m \u001b[0mtextblob\u001b[0m \u001b[1;32mimport\u001b[0m \u001b[0mTextBlob\u001b[0m\u001b[1;33m,\u001b[0m \u001b[0mWord\u001b[0m\u001b[1;33m\u001b[0m\u001b[0m\n\u001b[0m\u001b[0;32m      2\u001b[0m \u001b[1;32mfrom\u001b[0m \u001b[0mnltk\u001b[0m\u001b[1;33m.\u001b[0m\u001b[0mstem\u001b[0m\u001b[1;33m.\u001b[0m\u001b[0msnowball\u001b[0m \u001b[1;32mimport\u001b[0m \u001b[0mSnowballStemmer\u001b[0m\u001b[1;33m\u001b[0m\u001b[0m\n",
      "\u001b[1;31mModuleNotFoundError\u001b[0m: No module named 'textblob'"
     ]
    }
   ],
   "source": [
    "from textblob import TextBlob, Word\n",
    "from nltk.stem.snowball import SnowballStemmer"
   ]
  },
  {
   "cell_type": "code",
   "execution_count": null,
   "metadata": {
    "collapsed": true
   },
   "outputs": [],
   "source": [
    "tweet = TextBlob(dummy_trumptweets.loc[:,'text'][100])"
   ]
  },
  {
   "cell_type": "code",
   "execution_count": null,
   "metadata": {},
   "outputs": [],
   "source": [
    "# conver to all lower case\n",
    "\n",
    "tweet.lower()"
   ]
  },
  {
   "cell_type": "code",
   "execution_count": null,
   "metadata": {
    "collapsed": true
   },
   "outputs": [],
   "source": [
    "stemmer = SnowballStemmer('english')"
   ]
  },
  {
   "cell_type": "code",
   "execution_count": null,
   "metadata": {},
   "outputs": [],
   "source": [
    "# stemming  off 's', 'es', 'ing'\n",
    "[stemmer.stem(text) for text in tweet.words.lower()]"
   ]
  },
  {
   "cell_type": "code",
   "execution_count": null,
   "metadata": {},
   "outputs": [],
   "source": [
    "#lemmatize words - more advanced form of deriving the root\n",
    "[text.lemmatize() for text in tweet.words.lower()]"
   ]
  },
  {
   "cell_type": "code",
   "execution_count": null,
   "metadata": {},
   "outputs": [],
   "source": [
    "#lemmatize words - but assume words is a verb\n",
    "[text.lemmatize(pos='v') for text in tweet.words.lower()]"
   ]
  },
  {
   "cell_type": "code",
   "execution_count": null,
   "metadata": {
    "collapsed": true
   },
   "outputs": [],
   "source": []
  },
  {
   "cell_type": "markdown",
   "metadata": {},
   "source": [
    "# Sentiment Analysis"
   ]
  },
  {
   "cell_type": "code",
   "execution_count": null,
   "metadata": {
    "collapsed": true
   },
   "outputs": [],
   "source": [
    "# Define a function that accepts text and returns the polarity\n",
    "\n",
    "def detect_sentiment(text):\n",
    "    return TextBlob(text).sentiment.polarity"
   ]
  },
  {
   "cell_type": "code",
   "execution_count": null,
   "metadata": {
    "collapsed": true
   },
   "outputs": [],
   "source": [
    "# Create new sentiment column to the dataframe\n",
    "dummy_trumptweets.loc[:, 'sentiment'] = dummy_trumptweets.loc[:, 'text'].apply(detect_sentiment)\n"
   ]
  },
  {
   "cell_type": "code",
   "execution_count": null,
   "metadata": {
    "collapsed": true
   },
   "outputs": [],
   "source": []
  },
  {
   "cell_type": "code",
   "execution_count": null,
   "metadata": {
    "collapsed": true
   },
   "outputs": [],
   "source": [
    "#Bin Sentimentl into dummy variables"
   ]
  },
  {
   "cell_type": "code",
   "execution_count": null,
   "metadata": {
    "collapsed": true
   },
   "outputs": [],
   "source": [
    "# dummy_trumptweets.loc[:, 'high_positive_sentiment'] = np.where(dummy_trumptweets.loc[:, 'sentiment'] > 0.5, 1, 0)"
   ]
  },
  {
   "cell_type": "code",
   "execution_count": null,
   "metadata": {
    "collapsed": true
   },
   "outputs": [],
   "source": [
    "dummy_trumptweets.loc[:, 'moderately_positive_sentiment'] = np.where((dummy_trumptweets.loc[:, 'sentiment'] >= 0) & (dummy_trumptweets.loc[:, 'sentiment'] < .5), 1, 0)"
   ]
  },
  {
   "cell_type": "code",
   "execution_count": null,
   "metadata": {
    "collapsed": true
   },
   "outputs": [],
   "source": [
    "dummy_trumptweets.loc[:, 'moderately_negative_sentiment'] = np.where((dummy_trumptweets.loc[:, 'sentiment'] >= -.5) & (dummy_trumptweets.loc[:, 'sentiment'] < 0), 1, 0)"
   ]
  },
  {
   "cell_type": "code",
   "execution_count": null,
   "metadata": {
    "collapsed": true
   },
   "outputs": [],
   "source": [
    "dummy_trumptweets.loc[:, 'very_negative_sentiment'] = np.where((dummy_trumptweets.loc[:, 'sentiment'] >= -1) & (dummy_trumptweets.loc[:, 'sentiment'] < -.5), 1, 0)"
   ]
  },
  {
   "cell_type": "code",
   "execution_count": null,
   "metadata": {
    "collapsed": true
   },
   "outputs": [],
   "source": []
  },
  {
   "cell_type": "code",
   "execution_count": null,
   "metadata": {
    "collapsed": true
   },
   "outputs": [],
   "source": []
  },
  {
   "cell_type": "code",
   "execution_count": null,
   "metadata": {
    "collapsed": true
   },
   "outputs": [],
   "source": [
    "#Testing Polynomial Features on Sentiment\n",
    "\n",
    "from sklearn.preprocessing import PolynomialFeatures\n",
    "\n",
    "X = (dummy_trumptweets.loc[:, ['sentiment']])\n",
    "\n",
    "pf = PolynomialFeatures(degree=3, include_bias=False)\n",
    "pf.fit(X)\n",
    "X = pf.transform(X)"
   ]
  },
  {
   "cell_type": "code",
   "execution_count": null,
   "metadata": {},
   "outputs": [],
   "source": [
    "X"
   ]
  },
  {
   "cell_type": "code",
   "execution_count": null,
   "metadata": {
    "collapsed": true
   },
   "outputs": [],
   "source": [
    "lr = LinearRegression()\n",
    "lr.fit(X, y)\n",
    "\n",
    "y_fit = lr.predict(X)\n"
   ]
  },
  {
   "cell_type": "code",
   "execution_count": null,
   "metadata": {
    "collapsed": true
   },
   "outputs": [],
   "source": []
  },
  {
   "cell_type": "code",
   "execution_count": null,
   "metadata": {},
   "outputs": [],
   "source": [
    "plt.plot(dummy_trumptweets.loc[:, 'sentiment'].values, y_fit, color='r')\n",
    "plt.scatter(dummy_trumptweets.loc[:, 'sentiment'], y)"
   ]
  },
  {
   "cell_type": "code",
   "execution_count": null,
   "metadata": {
    "collapsed": true
   },
   "outputs": [],
   "source": []
  },
  {
   "cell_type": "markdown",
   "metadata": {},
   "source": [
    "# Analysis and Visualizations"
   ]
  },
  {
   "cell_type": "code",
   "execution_count": null,
   "metadata": {},
   "outputs": [],
   "source": [
    "dummy_trumptweets.source.value_counts()"
   ]
  },
  {
   "cell_type": "code",
   "execution_count": null,
   "metadata": {},
   "outputs": [],
   "source": [
    "#describe all\n",
    "\n",
    "dummy_trumptweets.describe(include='all')"
   ]
  },
  {
   "cell_type": "code",
   "execution_count": null,
   "metadata": {
    "collapsed": true
   },
   "outputs": [],
   "source": [
    "#boxplot of log(engagement)\n",
    "\n",
    "dummy_trumptweets.loc[:,'log_engagement'].plot(kind='box')"
   ]
  },
  {
   "cell_type": "code",
   "execution_count": null,
   "metadata": {
    "collapsed": true
   },
   "outputs": [],
   "source": [
    "#Histogram of log(engagement)\n",
    "\n",
    "dummy_trumptweets.loc[:, 'log_engagement'].hist(bins=100)"
   ]
  },
  {
   "cell_type": "code",
   "execution_count": null,
   "metadata": {
    "collapsed": true
   },
   "outputs": [],
   "source": [
    "#Histogram of tweet_hour \n",
    "\n",
    "dummy_trumptweets.loc[:, 'tweet_hour'].hist(bins=24)"
   ]
  },
  {
   "cell_type": "code",
   "execution_count": null,
   "metadata": {},
   "outputs": [],
   "source": [
    "dummy_trumptweets.columns"
   ]
  },
  {
   "cell_type": "code",
   "execution_count": null,
   "metadata": {},
   "outputs": [],
   "source": [
    "\n",
    "\n",
    "\n",
    "feature_cols = ['is_retweet',\n",
    "                'src_web_client', \n",
    "                'src_iphone', \n",
    "                'src_tweetdeck',\n",
    "                'src_twitlonger', \n",
    "                'src_instagram', \n",
    "                'src_mediastudio', \n",
    "                'src_facebook',\n",
    "                'src_bberry', \n",
    "                'src_twitter_ads', \n",
    "                'src_mobilewebm5', \n",
    "                'src_ipad',\n",
    "                'src_twitlonger', \n",
    "                'src_qanda', \n",
    "                'src_vine', \n",
    "                'src_periscope',\n",
    "                'src_neatly_bberry', \n",
    "                'src_mirror_ipad', \n",
    "                'src_forwebsites', \n",
    "                'is_afternoon', \n",
    "                'is_evening', \n",
    "                'is_latenight', \n",
    "                'moderately_positive_sentiment',\n",
    "                'moderately_negative_sentiment', \n",
    "                'very_negative_sentiment']"
   ]
  },
  {
   "cell_type": "code",
   "execution_count": null,
   "metadata": {
    "collapsed": true
   },
   "outputs": [],
   "source": [
    "feature_cols = ['is_retweet', \n",
    "                'is_afternoon', \n",
    "                'is_evening', \n",
    "                'is_latenight', \n",
    "                'moderately_positive_sentiment',\n",
    "                'moderately_negative_sentiment', \n",
    "                'very_negative_sentiment']"
   ]
  },
  {
   "cell_type": "code",
   "execution_count": null,
   "metadata": {},
   "outputs": [],
   "source": [
    "sns.pairplot(dummy_trumptweets,\n",
    "            x_vars=feature_cols,\n",
    "            y_vars='log_engagement',\n",
    "            kind='reg',\n",
    "            plot_kws={'scatter_kws': {'s':1, 'alpha':.3},\n",
    "                      'line_kws': {'color':'red'}\n",
    "                     }\n",
    "            );"
   ]
  },
  {
   "cell_type": "code",
   "execution_count": null,
   "metadata": {},
   "outputs": [],
   "source": [
    "#Insert Correlation Matrix with HeatMap\n",
    "\n",
    "sns.heatmap(dummy_trumptweets.corr(),\n",
    "            vmin=-1,\n",
    "            vmax = 1,\n",
    "            cmap = sns.diverging_palette(220, 10, n=21),\n",
    "            );"
   ]
  },
  {
   "cell_type": "code",
   "execution_count": null,
   "metadata": {
    "scrolled": false
   },
   "outputs": [],
   "source": [
    "#Review Scatter Plots\n",
    "\n",
    "y = dummy_trumptweets.loc[:, 'log_engagement']\n",
    "\n",
    "for var in feature_cols:\n",
    "    print(var)\n",
    "    x = dummy_trumptweets.loc[:, var]\n",
    "    plt.scatter(x, y)\n",
    "    plt.show()"
   ]
  },
  {
   "cell_type": "code",
   "execution_count": null,
   "metadata": {
    "collapsed": true
   },
   "outputs": [],
   "source": []
  },
  {
   "cell_type": "markdown",
   "metadata": {},
   "source": [
    "# Linear Regression"
   ]
  },
  {
   "cell_type": "code",
   "execution_count": null,
   "metadata": {
    "collapsed": true
   },
   "outputs": [],
   "source": []
  },
  {
   "cell_type": "code",
   "execution_count": null,
   "metadata": {
    "collapsed": true
   },
   "outputs": [],
   "source": [
    "X = dummy_trumptweets.loc[:, feature_cols]\n",
    "y = dummy_trumptweets.loc[:, 'log_engagement']\n"
   ]
  },
  {
   "cell_type": "code",
   "execution_count": null,
   "metadata": {
    "collapsed": true
   },
   "outputs": [],
   "source": [
    "#Split Train and Test\n",
    "\n",
    "X_train, X_test, y_train, y_test = train_test_split(X, y, random_state=1)"
   ]
  },
  {
   "cell_type": "code",
   "execution_count": null,
   "metadata": {},
   "outputs": [],
   "source": [
    "# model on the training set of data\n",
    "\n",
    "lr = LinearRegression()\n",
    "lr.fit(X_train, y_train)"
   ]
  },
  {
   "cell_type": "code",
   "execution_count": null,
   "metadata": {
    "collapsed": true
   },
   "outputs": [],
   "source": [
    "# predict on the test set for X\n",
    "\n",
    "y_pred = lr.predict(X_test)"
   ]
  },
  {
   "cell_type": "code",
   "execution_count": null,
   "metadata": {},
   "outputs": [],
   "source": [
    "# compare predicted results against the test set\n",
    "\n",
    "#print(metrics.mean_squared_error(y_train, lr.predict(X_train)))\n",
    "\n",
    "print(metrics.mean_squared_error(y_test, y_pred))"
   ]
  },
  {
   "cell_type": "code",
   "execution_count": null,
   "metadata": {
    "collapsed": true
   },
   "outputs": [],
   "source": []
  },
  {
   "cell_type": "code",
   "execution_count": null,
   "metadata": {},
   "outputs": [],
   "source": [
    "#Create Benchmark of Mean Values\n",
    "\n",
    "y_pred_null = np.ones(y_test.shape) * y_train.mean()\n",
    "\n",
    "#compare y_test against the y_means\n",
    "metrics.mean_squared_error(y_test, y_pred_null)"
   ]
  },
  {
   "cell_type": "code",
   "execution_count": null,
   "metadata": {},
   "outputs": [],
   "source": [
    "print(lr.intercept_)\n",
    "print(lr.coef_)"
   ]
  },
  {
   "cell_type": "code",
   "execution_count": null,
   "metadata": {
    "collapsed": true
   },
   "outputs": [],
   "source": []
  },
  {
   "cell_type": "code",
   "execution_count": null,
   "metadata": {
    "collapsed": true
   },
   "outputs": [],
   "source": []
  },
  {
   "cell_type": "code",
   "execution_count": null,
   "metadata": {
    "collapsed": true
   },
   "outputs": [],
   "source": []
  }
 ],
 "metadata": {
  "kernelspec": {
   "display_name": "Python 3",
   "language": "python",
   "name": "python3"
  },
  "language_info": {
   "codemirror_mode": {
    "name": "ipython",
    "version": 3
   },
   "file_extension": ".py",
   "mimetype": "text/x-python",
   "name": "python",
   "nbconvert_exporter": "python",
   "pygments_lexer": "ipython3",
   "version": "3.6.3"
  }
 },
 "nbformat": 4,
 "nbformat_minor": 2
}
