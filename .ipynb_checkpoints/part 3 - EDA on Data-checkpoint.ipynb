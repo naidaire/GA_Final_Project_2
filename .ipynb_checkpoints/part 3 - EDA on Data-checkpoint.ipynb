{
 "cells": [
  {
   "cell_type": "markdown",
   "metadata": {
    "collapsed": true
   },
   "source": [
    "# Import & Review Data"
   ]
  },
  {
   "cell_type": "code",
   "execution_count": 1,
   "metadata": {
    "collapsed": true
   },
   "outputs": [],
   "source": [
    "import pandas as pd\n",
    "import numpy as np\n",
    "import matplotlib.pyplot as plt\n",
    "from sklearn.linear_model import LinearRegression\n",
    "from sklearn.model_selection import train_test_split\n",
    "from sklearn import metrics\n",
    "import seaborn as sns\n",
    "\n",
    "plt.style.use('fivethirtyeight')\n",
    "%matplotlib inline"
   ]
  },
  {
   "cell_type": "code",
   "execution_count": 2,
   "metadata": {
    "collapsed": true
   },
   "outputs": [],
   "source": [
    "file = './data/trumptweets_all.csv'\n"
   ]
  },
  {
   "cell_type": "code",
   "execution_count": 3,
   "metadata": {
    "collapsed": true,
    "scrolled": true
   },
   "outputs": [],
   "source": [
    "trumptweets = pd.read_csv(file, encoding = 'latin1',\n",
    "                          index_col='created_at')"
   ]
  },
  {
   "cell_type": "code",
   "execution_count": 4,
   "metadata": {},
   "outputs": [
    {
     "data": {
      "text/html": [
       "<div>\n",
       "<style>\n",
       "    .dataframe thead tr:only-child th {\n",
       "        text-align: right;\n",
       "    }\n",
       "\n",
       "    .dataframe thead th {\n",
       "        text-align: left;\n",
       "    }\n",
       "\n",
       "    .dataframe tbody tr th {\n",
       "        vertical-align: top;\n",
       "    }\n",
       "</style>\n",
       "<table border=\"1\" class=\"dataframe\">\n",
       "  <thead>\n",
       "    <tr style=\"text-align: right;\">\n",
       "      <th></th>\n",
       "      <th>source</th>\n",
       "      <th>text</th>\n",
       "      <th>retweet_count</th>\n",
       "      <th>favorite_count</th>\n",
       "      <th>is_retweet</th>\n",
       "      <th>id_str</th>\n",
       "    </tr>\n",
       "    <tr>\n",
       "      <th>created_at</th>\n",
       "      <th></th>\n",
       "      <th></th>\n",
       "      <th></th>\n",
       "      <th></th>\n",
       "      <th></th>\n",
       "      <th></th>\n",
       "    </tr>\n",
       "  </thead>\n",
       "  <tbody>\n",
       "    <tr>\n",
       "      <th>12/28/2012 21:23</th>\n",
       "      <td>Twitter Web Client</td>\n",
       "      <td>@opus_6  Thanks it's a wonderful place to be--...</td>\n",
       "      <td>1</td>\n",
       "      <td>1</td>\n",
       "      <td>False</td>\n",
       "      <td>284771680499408896</td>\n",
       "    </tr>\n",
       "    <tr>\n",
       "      <th>12/28/2012 21:22</th>\n",
       "      <td>Twitter Web Client</td>\n",
       "      <td>@Earther57  Sounds nice--and thanks. Happy New...</td>\n",
       "      <td>3</td>\n",
       "      <td>2</td>\n",
       "      <td>False</td>\n",
       "      <td>284771320418410496</td>\n",
       "    </tr>\n",
       "    <tr>\n",
       "      <th>12/28/2012 21:20</th>\n",
       "      <td>Twitter Web Client</td>\n",
       "      <td>You have to set higher and higher goals.  You...</td>\n",
       "      <td>1038</td>\n",
       "      <td>458</td>\n",
       "      <td>False</td>\n",
       "      <td>284770791126601728</td>\n",
       "    </tr>\n",
       "    <tr>\n",
       "      <th>12/28/2012 21:19</th>\n",
       "      <td>Twitter Web Client</td>\n",
       "      <td>Visiting New York City?  Make sure to skate in...</td>\n",
       "      <td>72</td>\n",
       "      <td>38</td>\n",
       "      <td>False</td>\n",
       "      <td>284770536779829248</td>\n",
       "    </tr>\n",
       "    <tr>\n",
       "      <th>12/28/2012 21:13</th>\n",
       "      <td>Twitter Web Client</td>\n",
       "      <td>@sixelA1984 @LilJon @CelebApprentice  Raising ...</td>\n",
       "      <td>2</td>\n",
       "      <td>1</td>\n",
       "      <td>False</td>\n",
       "      <td>284769064302280704</td>\n",
       "    </tr>\n",
       "  </tbody>\n",
       "</table>\n",
       "</div>"
      ],
      "text/plain": [
       "                              source  \\\n",
       "created_at                             \n",
       "12/28/2012 21:23  Twitter Web Client   \n",
       "12/28/2012 21:22  Twitter Web Client   \n",
       "12/28/2012 21:20  Twitter Web Client   \n",
       "12/28/2012 21:19  Twitter Web Client   \n",
       "12/28/2012 21:13  Twitter Web Client   \n",
       "\n",
       "                                                               text  \\\n",
       "created_at                                                            \n",
       "12/28/2012 21:23  @opus_6  Thanks it's a wonderful place to be--...   \n",
       "12/28/2012 21:22  @Earther57  Sounds nice--and thanks. Happy New...   \n",
       "12/28/2012 21:20  You have to set higher and higher goals.  You...   \n",
       "12/28/2012 21:19  Visiting New York City?  Make sure to skate in...   \n",
       "12/28/2012 21:13  @sixelA1984 @LilJon @CelebApprentice  Raising ...   \n",
       "\n",
       "                  retweet_count  favorite_count  is_retweet  \\\n",
       "created_at                                                    \n",
       "12/28/2012 21:23              1               1       False   \n",
       "12/28/2012 21:22              3               2       False   \n",
       "12/28/2012 21:20           1038             458       False   \n",
       "12/28/2012 21:19             72              38       False   \n",
       "12/28/2012 21:13              2               1       False   \n",
       "\n",
       "                              id_str  \n",
       "created_at                            \n",
       "12/28/2012 21:23  284771680499408896  \n",
       "12/28/2012 21:22  284771320418410496  \n",
       "12/28/2012 21:20  284770791126601728  \n",
       "12/28/2012 21:19  284770536779829248  \n",
       "12/28/2012 21:13  284769064302280704  "
      ]
     },
     "execution_count": 4,
     "metadata": {},
     "output_type": "execute_result"
    }
   ],
   "source": [
    "trumptweets.head()"
   ]
  },
  {
   "cell_type": "code",
   "execution_count": 5,
   "metadata": {},
   "outputs": [
    {
     "data": {
      "text/plain": [
       "(32959, 6)"
      ]
     },
     "execution_count": 5,
     "metadata": {},
     "output_type": "execute_result"
    }
   ],
   "source": [
    "trumptweets.shape"
   ]
  },
  {
   "cell_type": "code",
   "execution_count": null,
   "metadata": {
    "collapsed": true
   },
   "outputs": [],
   "source": []
  },
  {
   "cell_type": "code",
   "execution_count": null,
   "metadata": {
    "collapsed": true
   },
   "outputs": [],
   "source": []
  },
  {
   "cell_type": "markdown",
   "metadata": {},
   "source": [
    "# Prepare Data for Analysis"
   ]
  },
  {
   "cell_type": "code",
   "execution_count": 6,
   "metadata": {
    "collapsed": true
   },
   "outputs": [],
   "source": [
    "#Cast index of created_at dates to datetime format\n",
    "\n",
    "trumptweets.index = pd.to_datetime(trumptweets.index)"
   ]
  },
  {
   "cell_type": "code",
   "execution_count": 7,
   "metadata": {
    "collapsed": true
   },
   "outputs": [],
   "source": [
    "#add new column for HOUR when the tweet occurred\n",
    "\n",
    "trumptweets.loc[:, 'tweet_hour'] = trumptweets.index.hour"
   ]
  },
  {
   "cell_type": "code",
   "execution_count": 8,
   "metadata": {},
   "outputs": [
    {
     "data": {
      "text/plain": [
       "Twitter for Android         14545\n",
       "Twitter Web Client          11978\n",
       "Twitter for iPhone           4825\n",
       "TweetDeck                     480\n",
       "TwitLonger Beta               405\n",
       "Instagram                     133\n",
       "Media Studio                  130\n",
       "Facebook                      105\n",
       "Twitter Ads                    97\n",
       "Twitter for BlackBerry         97\n",
       "Mobile Web (M5)                56\n",
       "Twitter for iPad               51\n",
       "Twitlonger                     23\n",
       "Vine - Make a Scene            10\n",
       "Twitter QandA                  10\n",
       "Periscope                       7\n",
       "Neatly For BlackBerry 10        5\n",
       "Twitter for Websites            1\n",
       "Twitter Mirror for iPad         1\n",
       "Name: source, dtype: int64"
      ]
     },
     "execution_count": 8,
     "metadata": {},
     "output_type": "execute_result"
    }
   ],
   "source": [
    "trumptweets.loc[:, 'source'].value_counts()"
   ]
  },
  {
   "cell_type": "code",
   "execution_count": 9,
   "metadata": {
    "collapsed": true
   },
   "outputs": [],
   "source": [
    "# Convert Source column to dummy variables\n",
    "\n",
    "#map source twitter for the 19 source values into integers\n",
    "\n",
    "trumptweets.loc[:, 'source_num'] = trumptweets.loc[:,'source'].map({'Twitter for Android':0,\n",
    "                                                                    'Twitter Web Client':1,\n",
    "                                                                    'Twitter for iPhone':2,\n",
    "                                                                    'TweetDeck':3,\n",
    "                                                                    'TwitLonger Beta':4,\n",
    "                                                                    'Instagram':5,\n",
    "                                                                    'Media Studio':6,\n",
    "                                                                    'Facebook':7,\n",
    "                                                                    'Twitter for BlackBerry':8,\n",
    "                                                                    'Twitter Ads':9,\n",
    "                                                                    'Mobile Web (M5)':10,\n",
    "                                                                    'Twitter for iPad':11,\n",
    "                                                                    'Twitlonger':12,\n",
    "                                                                    'Twitter QandA':13,\n",
    "                                                                    'Vine - Make a Scene':14,\n",
    "                                                                    'Periscope':15,\n",
    "                                                                    'Neatly For BlackBerry 10':16,\n",
    "                                                                    'Twitter Mirror for iPad':17,\n",
    "                                                                    'Twitter for Websites':18})"
   ]
  },
  {
   "cell_type": "code",
   "execution_count": 10,
   "metadata": {},
   "outputs": [
    {
     "data": {
      "text/html": [
       "<div>\n",
       "<style>\n",
       "    .dataframe thead tr:only-child th {\n",
       "        text-align: right;\n",
       "    }\n",
       "\n",
       "    .dataframe thead th {\n",
       "        text-align: left;\n",
       "    }\n",
       "\n",
       "    .dataframe tbody tr th {\n",
       "        vertical-align: top;\n",
       "    }\n",
       "</style>\n",
       "<table border=\"1\" class=\"dataframe\">\n",
       "  <thead>\n",
       "    <tr style=\"text-align: right;\">\n",
       "      <th></th>\n",
       "      <th>source</th>\n",
       "      <th>text</th>\n",
       "      <th>retweet_count</th>\n",
       "      <th>favorite_count</th>\n",
       "      <th>is_retweet</th>\n",
       "      <th>id_str</th>\n",
       "      <th>tweet_hour</th>\n",
       "      <th>source_num</th>\n",
       "    </tr>\n",
       "    <tr>\n",
       "      <th>created_at</th>\n",
       "      <th></th>\n",
       "      <th></th>\n",
       "      <th></th>\n",
       "      <th></th>\n",
       "      <th></th>\n",
       "      <th></th>\n",
       "      <th></th>\n",
       "      <th></th>\n",
       "    </tr>\n",
       "  </thead>\n",
       "  <tbody>\n",
       "    <tr>\n",
       "      <th>2012-12-28 21:23:00</th>\n",
       "      <td>Twitter Web Client</td>\n",
       "      <td>@opus_6  Thanks it's a wonderful place to be--...</td>\n",
       "      <td>1</td>\n",
       "      <td>1</td>\n",
       "      <td>False</td>\n",
       "      <td>284771680499408896</td>\n",
       "      <td>21</td>\n",
       "      <td>1</td>\n",
       "    </tr>\n",
       "    <tr>\n",
       "      <th>2012-12-28 21:22:00</th>\n",
       "      <td>Twitter Web Client</td>\n",
       "      <td>@Earther57  Sounds nice--and thanks. Happy New...</td>\n",
       "      <td>3</td>\n",
       "      <td>2</td>\n",
       "      <td>False</td>\n",
       "      <td>284771320418410496</td>\n",
       "      <td>21</td>\n",
       "      <td>1</td>\n",
       "    </tr>\n",
       "    <tr>\n",
       "      <th>2012-12-28 21:20:00</th>\n",
       "      <td>Twitter Web Client</td>\n",
       "      <td>You have to set higher and higher goals.  You...</td>\n",
       "      <td>1038</td>\n",
       "      <td>458</td>\n",
       "      <td>False</td>\n",
       "      <td>284770791126601728</td>\n",
       "      <td>21</td>\n",
       "      <td>1</td>\n",
       "    </tr>\n",
       "    <tr>\n",
       "      <th>2012-12-28 21:19:00</th>\n",
       "      <td>Twitter Web Client</td>\n",
       "      <td>Visiting New York City?  Make sure to skate in...</td>\n",
       "      <td>72</td>\n",
       "      <td>38</td>\n",
       "      <td>False</td>\n",
       "      <td>284770536779829248</td>\n",
       "      <td>21</td>\n",
       "      <td>1</td>\n",
       "    </tr>\n",
       "    <tr>\n",
       "      <th>2012-12-28 21:13:00</th>\n",
       "      <td>Twitter Web Client</td>\n",
       "      <td>@sixelA1984 @LilJon @CelebApprentice  Raising ...</td>\n",
       "      <td>2</td>\n",
       "      <td>1</td>\n",
       "      <td>False</td>\n",
       "      <td>284769064302280704</td>\n",
       "      <td>21</td>\n",
       "      <td>1</td>\n",
       "    </tr>\n",
       "  </tbody>\n",
       "</table>\n",
       "</div>"
      ],
      "text/plain": [
       "                                 source  \\\n",
       "created_at                                \n",
       "2012-12-28 21:23:00  Twitter Web Client   \n",
       "2012-12-28 21:22:00  Twitter Web Client   \n",
       "2012-12-28 21:20:00  Twitter Web Client   \n",
       "2012-12-28 21:19:00  Twitter Web Client   \n",
       "2012-12-28 21:13:00  Twitter Web Client   \n",
       "\n",
       "                                                                  text  \\\n",
       "created_at                                                               \n",
       "2012-12-28 21:23:00  @opus_6  Thanks it's a wonderful place to be--...   \n",
       "2012-12-28 21:22:00  @Earther57  Sounds nice--and thanks. Happy New...   \n",
       "2012-12-28 21:20:00  You have to set higher and higher goals.  You...   \n",
       "2012-12-28 21:19:00  Visiting New York City?  Make sure to skate in...   \n",
       "2012-12-28 21:13:00  @sixelA1984 @LilJon @CelebApprentice  Raising ...   \n",
       "\n",
       "                     retweet_count  favorite_count  is_retweet  \\\n",
       "created_at                                                       \n",
       "2012-12-28 21:23:00              1               1       False   \n",
       "2012-12-28 21:22:00              3               2       False   \n",
       "2012-12-28 21:20:00           1038             458       False   \n",
       "2012-12-28 21:19:00             72              38       False   \n",
       "2012-12-28 21:13:00              2               1       False   \n",
       "\n",
       "                                 id_str  tweet_hour  source_num  \n",
       "created_at                                                       \n",
       "2012-12-28 21:23:00  284771680499408896          21           1  \n",
       "2012-12-28 21:22:00  284771320418410496          21           1  \n",
       "2012-12-28 21:20:00  284770791126601728          21           1  \n",
       "2012-12-28 21:19:00  284770536779829248          21           1  \n",
       "2012-12-28 21:13:00  284769064302280704          21           1  "
      ]
     },
     "execution_count": 10,
     "metadata": {},
     "output_type": "execute_result"
    }
   ],
   "source": [
    "trumptweets.head()"
   ]
  },
  {
   "cell_type": "code",
   "execution_count": 11,
   "metadata": {
    "collapsed": true
   },
   "outputs": [],
   "source": [
    "#Convert Source_num to dummy variables\n",
    "\n",
    "dummy_trumptweets = pd.get_dummies(trumptweets, columns=['source_num']).drop('source_num_0', axis=1)"
   ]
  },
  {
   "cell_type": "code",
   "execution_count": 12,
   "metadata": {
    "collapsed": true
   },
   "outputs": [],
   "source": [
    "# Rename Dummy variable columns\n",
    "\n",
    "dummy_trumptweets.rename(columns={'source_num_1': 'src_web_client',\n",
    "                                  'source_num_2': 'src_iphone',\n",
    "                                  'source_num_3': 'src_tweetdeck',\n",
    "                                  'source_num_4': 'src_twitlonger',\n",
    "                                  'source_num_5': 'src_instagram',\n",
    "                                  'source_num_6': 'src_mediastudio',\n",
    "                                  'source_num_7': 'src_facebook',\n",
    "                                  'source_num_8': 'src_bberry',\n",
    "                                  'source_num_9': 'src_twitter_ads',\n",
    "                                  'source_num_10': 'src_mobilewebm5',\n",
    "                                  'source_num_11': 'src_ipad',\n",
    "                                  'source_num_12': 'src_twitlonger',\n",
    "                                  'source_num_13': 'src_qanda',\n",
    "                                  'source_num_14': 'src_vine',\n",
    "                                  'source_num_15': 'src_periscope',\n",
    "                                  'source_num_16': 'src_neatly_bberry',\n",
    "                                  'source_num_17': 'src_mirror_ipad',\n",
    "                                  'source_num_18': 'src_forwebsites'}, \n",
    "                                  inplace=True)"
   ]
  },
  {
   "cell_type": "markdown",
   "metadata": {},
   "source": [
    "   \n",
    "   "
   ]
  },
  {
   "cell_type": "code",
   "execution_count": 13,
   "metadata": {
    "collapsed": true
   },
   "outputs": [],
   "source": [
    "#Create new column, engagement, that summs retweet and favorite counts.  This will become my target y\n",
    "\n",
    "dummy_trumptweets.loc[:, 'engagement'] = (dummy_trumptweets.loc[:, 'retweet_count'] +\n",
    "                                          dummy_trumptweets.loc[:, 'favorite_count'])"
   ]
  },
  {
   "cell_type": "code",
   "execution_count": null,
   "metadata": {
    "collapsed": true
   },
   "outputs": [],
   "source": []
  },
  {
   "cell_type": "code",
   "execution_count": null,
   "metadata": {
    "collapsed": true
   },
   "outputs": [],
   "source": []
  },
  {
   "cell_type": "code",
   "execution_count": null,
   "metadata": {
    "collapsed": true
   },
   "outputs": [],
   "source": []
  },
  {
   "cell_type": "code",
   "execution_count": 14,
   "metadata": {
    "collapsed": true
   },
   "outputs": [],
   "source": [
    "# Convert hours to morning, afternoon, evening, latenight dummy variables.  Timestamp column is in GMT, so converting daytime hours to EST\n",
    "# Default is morning\n",
    "\n",
    "\n",
    "# EST 12-6pm is GMT 18-23\n",
    "dummy_trumptweets.loc[:, 'is_afternoon'] = ((dummy_trumptweets.loc[:, 'tweet_hour'] >= 17) & (dummy_trumptweets.loc[:,'tweet_hour'] < 23)).astype(int)  \n",
    "\n",
    "# EST 6pm-12am is 23 - 5\n",
    "dummy_trumptweets.loc[:, 'is_evening'] = ((dummy_trumptweets.loc[:, 'tweet_hour'] >= 23) | (dummy_trumptweets.loc[:,'tweet_hour'] < 5)).astype(int)\n",
    "\n",
    "# Late Night is EST 12am-5am is GMT 5-10\n",
    "dummy_trumptweets.loc[:, 'is_latenight'] = ((dummy_trumptweets.loc[:, 'tweet_hour'] >= 5) & (dummy_trumptweets.loc[:,'tweet_hour'] < 10)).astype(int)\n"
   ]
  },
  {
   "cell_type": "code",
   "execution_count": null,
   "metadata": {
    "collapsed": true
   },
   "outputs": [],
   "source": []
  },
  {
   "cell_type": "code",
   "execution_count": 33,
   "metadata": {},
   "outputs": [],
   "source": [
    "# Only analyzing data since the 2016 Republican National Convention on 7/18/2016\n",
    "\n",
    "dummy_trumptweets = dummy_trumptweets.loc[dummy_trumptweets.index > '2016-7-18 00:00:00',:]"
   ]
  },
  {
   "cell_type": "markdown",
   "metadata": {},
   "source": [
    "# Analysis and Visualizations"
   ]
  },
  {
   "cell_type": "code",
   "execution_count": 34,
   "metadata": {},
   "outputs": [
    {
     "data": {
      "text/html": [
       "<div>\n",
       "<style>\n",
       "    .dataframe thead tr:only-child th {\n",
       "        text-align: right;\n",
       "    }\n",
       "\n",
       "    .dataframe thead th {\n",
       "        text-align: left;\n",
       "    }\n",
       "\n",
       "    .dataframe tbody tr th {\n",
       "        vertical-align: top;\n",
       "    }\n",
       "</style>\n",
       "<table border=\"1\" class=\"dataframe\">\n",
       "  <thead>\n",
       "    <tr style=\"text-align: right;\">\n",
       "      <th></th>\n",
       "      <th>source</th>\n",
       "      <th>text</th>\n",
       "      <th>retweet_count</th>\n",
       "      <th>favorite_count</th>\n",
       "      <th>is_retweet</th>\n",
       "      <th>id_str</th>\n",
       "      <th>tweet_hour</th>\n",
       "      <th>src_web_client</th>\n",
       "      <th>src_iphone</th>\n",
       "      <th>src_tweetdeck</th>\n",
       "      <th>...</th>\n",
       "      <th>src_qanda</th>\n",
       "      <th>src_vine</th>\n",
       "      <th>src_periscope</th>\n",
       "      <th>src_neatly_bberry</th>\n",
       "      <th>src_mirror_ipad</th>\n",
       "      <th>src_forwebsites</th>\n",
       "      <th>engagement</th>\n",
       "      <th>is_afternoon</th>\n",
       "      <th>is_evening</th>\n",
       "      <th>is_latenight</th>\n",
       "    </tr>\n",
       "  </thead>\n",
       "  <tbody>\n",
       "    <tr>\n",
       "      <th>count</th>\n",
       "      <td>4675</td>\n",
       "      <td>4675</td>\n",
       "      <td>4675.000000</td>\n",
       "      <td>4675.000000</td>\n",
       "      <td>4675</td>\n",
       "      <td>4.675000e+03</td>\n",
       "      <td>4675.000000</td>\n",
       "      <td>4675.000000</td>\n",
       "      <td>4675.000000</td>\n",
       "      <td>4675.000000</td>\n",
       "      <td>...</td>\n",
       "      <td>4675.0</td>\n",
       "      <td>4675.0</td>\n",
       "      <td>4675.000000</td>\n",
       "      <td>4675.0</td>\n",
       "      <td>4675.0</td>\n",
       "      <td>4675.0</td>\n",
       "      <td>4675.000000</td>\n",
       "      <td>4675.000000</td>\n",
       "      <td>4675.000000</td>\n",
       "      <td>4675.000000</td>\n",
       "    </tr>\n",
       "    <tr>\n",
       "      <th>unique</th>\n",
       "      <td>8</td>\n",
       "      <td>4665</td>\n",
       "      <td>NaN</td>\n",
       "      <td>NaN</td>\n",
       "      <td>2</td>\n",
       "      <td>NaN</td>\n",
       "      <td>NaN</td>\n",
       "      <td>NaN</td>\n",
       "      <td>NaN</td>\n",
       "      <td>NaN</td>\n",
       "      <td>...</td>\n",
       "      <td>NaN</td>\n",
       "      <td>NaN</td>\n",
       "      <td>NaN</td>\n",
       "      <td>NaN</td>\n",
       "      <td>NaN</td>\n",
       "      <td>NaN</td>\n",
       "      <td>NaN</td>\n",
       "      <td>NaN</td>\n",
       "      <td>NaN</td>\n",
       "      <td>NaN</td>\n",
       "    </tr>\n",
       "    <tr>\n",
       "      <th>top</th>\n",
       "      <td>Twitter for iPhone</td>\n",
       "      <td>MAKE AMERICA GREAT AGAIN!</td>\n",
       "      <td>NaN</td>\n",
       "      <td>NaN</td>\n",
       "      <td>False</td>\n",
       "      <td>NaN</td>\n",
       "      <td>NaN</td>\n",
       "      <td>NaN</td>\n",
       "      <td>NaN</td>\n",
       "      <td>NaN</td>\n",
       "      <td>...</td>\n",
       "      <td>NaN</td>\n",
       "      <td>NaN</td>\n",
       "      <td>NaN</td>\n",
       "      <td>NaN</td>\n",
       "      <td>NaN</td>\n",
       "      <td>NaN</td>\n",
       "      <td>NaN</td>\n",
       "      <td>NaN</td>\n",
       "      <td>NaN</td>\n",
       "      <td>NaN</td>\n",
       "    </tr>\n",
       "    <tr>\n",
       "      <th>freq</th>\n",
       "      <td>3341</td>\n",
       "      <td>7</td>\n",
       "      <td>NaN</td>\n",
       "      <td>NaN</td>\n",
       "      <td>4228</td>\n",
       "      <td>NaN</td>\n",
       "      <td>NaN</td>\n",
       "      <td>NaN</td>\n",
       "      <td>NaN</td>\n",
       "      <td>NaN</td>\n",
       "      <td>...</td>\n",
       "      <td>NaN</td>\n",
       "      <td>NaN</td>\n",
       "      <td>NaN</td>\n",
       "      <td>NaN</td>\n",
       "      <td>NaN</td>\n",
       "      <td>NaN</td>\n",
       "      <td>NaN</td>\n",
       "      <td>NaN</td>\n",
       "      <td>NaN</td>\n",
       "      <td>NaN</td>\n",
       "    </tr>\n",
       "    <tr>\n",
       "      <th>mean</th>\n",
       "      <td>NaN</td>\n",
       "      <td>NaN</td>\n",
       "      <td>16402.736898</td>\n",
       "      <td>60308.453904</td>\n",
       "      <td>NaN</td>\n",
       "      <td>8.542120e+17</td>\n",
       "      <td>12.643636</td>\n",
       "      <td>0.041711</td>\n",
       "      <td>0.714652</td>\n",
       "      <td>0.000428</td>\n",
       "      <td>...</td>\n",
       "      <td>0.0</td>\n",
       "      <td>0.0</td>\n",
       "      <td>0.000214</td>\n",
       "      <td>0.0</td>\n",
       "      <td>0.0</td>\n",
       "      <td>0.0</td>\n",
       "      <td>76711.190802</td>\n",
       "      <td>0.278503</td>\n",
       "      <td>0.263529</td>\n",
       "      <td>0.019037</td>\n",
       "    </tr>\n",
       "    <tr>\n",
       "      <th>std</th>\n",
       "      <td>NaN</td>\n",
       "      <td>NaN</td>\n",
       "      <td>13960.319769</td>\n",
       "      <td>48323.015209</td>\n",
       "      <td>NaN</td>\n",
       "      <td>6.611347e+16</td>\n",
       "      <td>6.973148</td>\n",
       "      <td>0.199950</td>\n",
       "      <td>0.451628</td>\n",
       "      <td>0.020681</td>\n",
       "      <td>...</td>\n",
       "      <td>0.0</td>\n",
       "      <td>0.0</td>\n",
       "      <td>0.014625</td>\n",
       "      <td>0.0</td>\n",
       "      <td>0.0</td>\n",
       "      <td>0.0</td>\n",
       "      <td>60347.751316</td>\n",
       "      <td>0.448310</td>\n",
       "      <td>0.440594</td>\n",
       "      <td>0.136671</td>\n",
       "    </tr>\n",
       "    <tr>\n",
       "      <th>min</th>\n",
       "      <td>NaN</td>\n",
       "      <td>NaN</td>\n",
       "      <td>0.000000</td>\n",
       "      <td>0.000000</td>\n",
       "      <td>NaN</td>\n",
       "      <td>7.549926e+17</td>\n",
       "      <td>0.000000</td>\n",
       "      <td>0.000000</td>\n",
       "      <td>0.000000</td>\n",
       "      <td>0.000000</td>\n",
       "      <td>...</td>\n",
       "      <td>0.0</td>\n",
       "      <td>0.0</td>\n",
       "      <td>0.000000</td>\n",
       "      <td>0.0</td>\n",
       "      <td>0.0</td>\n",
       "      <td>0.0</td>\n",
       "      <td>0.000000</td>\n",
       "      <td>0.000000</td>\n",
       "      <td>0.000000</td>\n",
       "      <td>0.000000</td>\n",
       "    </tr>\n",
       "    <tr>\n",
       "      <th>25%</th>\n",
       "      <td>NaN</td>\n",
       "      <td>NaN</td>\n",
       "      <td>8770.000000</td>\n",
       "      <td>23298.500000</td>\n",
       "      <td>NaN</td>\n",
       "      <td>7.889149e+17</td>\n",
       "      <td>10.000000</td>\n",
       "      <td>0.000000</td>\n",
       "      <td>0.000000</td>\n",
       "      <td>0.000000</td>\n",
       "      <td>...</td>\n",
       "      <td>0.0</td>\n",
       "      <td>0.0</td>\n",
       "      <td>0.000000</td>\n",
       "      <td>0.0</td>\n",
       "      <td>0.0</td>\n",
       "      <td>0.0</td>\n",
       "      <td>32523.000000</td>\n",
       "      <td>0.000000</td>\n",
       "      <td>0.000000</td>\n",
       "      <td>0.000000</td>\n",
       "    </tr>\n",
       "    <tr>\n",
       "      <th>50%</th>\n",
       "      <td>NaN</td>\n",
       "      <td>NaN</td>\n",
       "      <td>13781.000000</td>\n",
       "      <td>55454.000000</td>\n",
       "      <td>NaN</td>\n",
       "      <td>8.569286e+17</td>\n",
       "      <td>13.000000</td>\n",
       "      <td>0.000000</td>\n",
       "      <td>1.000000</td>\n",
       "      <td>0.000000</td>\n",
       "      <td>...</td>\n",
       "      <td>0.0</td>\n",
       "      <td>0.0</td>\n",
       "      <td>0.000000</td>\n",
       "      <td>0.0</td>\n",
       "      <td>0.0</td>\n",
       "      <td>0.0</td>\n",
       "      <td>68421.000000</td>\n",
       "      <td>0.000000</td>\n",
       "      <td>0.000000</td>\n",
       "      <td>0.000000</td>\n",
       "    </tr>\n",
       "    <tr>\n",
       "      <th>75%</th>\n",
       "      <td>NaN</td>\n",
       "      <td>NaN</td>\n",
       "      <td>20583.000000</td>\n",
       "      <td>86214.000000</td>\n",
       "      <td>NaN</td>\n",
       "      <td>9.131525e+17</td>\n",
       "      <td>19.000000</td>\n",
       "      <td>0.000000</td>\n",
       "      <td>1.000000</td>\n",
       "      <td>0.000000</td>\n",
       "      <td>...</td>\n",
       "      <td>0.0</td>\n",
       "      <td>0.0</td>\n",
       "      <td>0.000000</td>\n",
       "      <td>0.0</td>\n",
       "      <td>0.0</td>\n",
       "      <td>0.0</td>\n",
       "      <td>106072.500000</td>\n",
       "      <td>1.000000</td>\n",
       "      <td>1.000000</td>\n",
       "      <td>0.000000</td>\n",
       "    </tr>\n",
       "    <tr>\n",
       "      <th>max</th>\n",
       "      <td>NaN</td>\n",
       "      <td>NaN</td>\n",
       "      <td>369530.000000</td>\n",
       "      <td>633253.000000</td>\n",
       "      <td>NaN</td>\n",
       "      <td>9.714098e+17</td>\n",
       "      <td>23.000000</td>\n",
       "      <td>1.000000</td>\n",
       "      <td>1.000000</td>\n",
       "      <td>1.000000</td>\n",
       "      <td>...</td>\n",
       "      <td>0.0</td>\n",
       "      <td>0.0</td>\n",
       "      <td>1.000000</td>\n",
       "      <td>0.0</td>\n",
       "      <td>0.0</td>\n",
       "      <td>0.0</td>\n",
       "      <td>974628.000000</td>\n",
       "      <td>1.000000</td>\n",
       "      <td>1.000000</td>\n",
       "      <td>1.000000</td>\n",
       "    </tr>\n",
       "  </tbody>\n",
       "</table>\n",
       "<p>11 rows × 29 columns</p>\n",
       "</div>"
      ],
      "text/plain": [
       "                    source                       text  retweet_count  \\\n",
       "count                 4675                       4675    4675.000000   \n",
       "unique                   8                       4665            NaN   \n",
       "top     Twitter for iPhone  MAKE AMERICA GREAT AGAIN!            NaN   \n",
       "freq                  3341                          7            NaN   \n",
       "mean                   NaN                        NaN   16402.736898   \n",
       "std                    NaN                        NaN   13960.319769   \n",
       "min                    NaN                        NaN       0.000000   \n",
       "25%                    NaN                        NaN    8770.000000   \n",
       "50%                    NaN                        NaN   13781.000000   \n",
       "75%                    NaN                        NaN   20583.000000   \n",
       "max                    NaN                        NaN  369530.000000   \n",
       "\n",
       "        favorite_count is_retweet        id_str   tweet_hour  src_web_client  \\\n",
       "count      4675.000000       4675  4.675000e+03  4675.000000     4675.000000   \n",
       "unique             NaN          2           NaN          NaN             NaN   \n",
       "top                NaN      False           NaN          NaN             NaN   \n",
       "freq               NaN       4228           NaN          NaN             NaN   \n",
       "mean      60308.453904        NaN  8.542120e+17    12.643636        0.041711   \n",
       "std       48323.015209        NaN  6.611347e+16     6.973148        0.199950   \n",
       "min           0.000000        NaN  7.549926e+17     0.000000        0.000000   \n",
       "25%       23298.500000        NaN  7.889149e+17    10.000000        0.000000   \n",
       "50%       55454.000000        NaN  8.569286e+17    13.000000        0.000000   \n",
       "75%       86214.000000        NaN  9.131525e+17    19.000000        0.000000   \n",
       "max      633253.000000        NaN  9.714098e+17    23.000000        1.000000   \n",
       "\n",
       "         src_iphone  src_tweetdeck      ...       src_qanda  src_vine  \\\n",
       "count   4675.000000    4675.000000      ...          4675.0    4675.0   \n",
       "unique          NaN            NaN      ...             NaN       NaN   \n",
       "top             NaN            NaN      ...             NaN       NaN   \n",
       "freq            NaN            NaN      ...             NaN       NaN   \n",
       "mean       0.714652       0.000428      ...             0.0       0.0   \n",
       "std        0.451628       0.020681      ...             0.0       0.0   \n",
       "min        0.000000       0.000000      ...             0.0       0.0   \n",
       "25%        0.000000       0.000000      ...             0.0       0.0   \n",
       "50%        1.000000       0.000000      ...             0.0       0.0   \n",
       "75%        1.000000       0.000000      ...             0.0       0.0   \n",
       "max        1.000000       1.000000      ...             0.0       0.0   \n",
       "\n",
       "        src_periscope  src_neatly_bberry  src_mirror_ipad  src_forwebsites  \\\n",
       "count     4675.000000             4675.0           4675.0           4675.0   \n",
       "unique            NaN                NaN              NaN              NaN   \n",
       "top               NaN                NaN              NaN              NaN   \n",
       "freq              NaN                NaN              NaN              NaN   \n",
       "mean         0.000214                0.0              0.0              0.0   \n",
       "std          0.014625                0.0              0.0              0.0   \n",
       "min          0.000000                0.0              0.0              0.0   \n",
       "25%          0.000000                0.0              0.0              0.0   \n",
       "50%          0.000000                0.0              0.0              0.0   \n",
       "75%          0.000000                0.0              0.0              0.0   \n",
       "max          1.000000                0.0              0.0              0.0   \n",
       "\n",
       "           engagement  is_afternoon   is_evening  is_latenight  \n",
       "count     4675.000000   4675.000000  4675.000000   4675.000000  \n",
       "unique            NaN           NaN          NaN           NaN  \n",
       "top               NaN           NaN          NaN           NaN  \n",
       "freq              NaN           NaN          NaN           NaN  \n",
       "mean     76711.190802      0.278503     0.263529      0.019037  \n",
       "std      60347.751316      0.448310     0.440594      0.136671  \n",
       "min          0.000000      0.000000     0.000000      0.000000  \n",
       "25%      32523.000000      0.000000     0.000000      0.000000  \n",
       "50%      68421.000000      0.000000     0.000000      0.000000  \n",
       "75%     106072.500000      1.000000     1.000000      0.000000  \n",
       "max     974628.000000      1.000000     1.000000      1.000000  \n",
       "\n",
       "[11 rows x 29 columns]"
      ]
     },
     "execution_count": 34,
     "metadata": {},
     "output_type": "execute_result"
    }
   ],
   "source": [
    "#describe all\n",
    "\n",
    "dummy_trumptweets.describe(include='all')"
   ]
  },
  {
   "cell_type": "code",
   "execution_count": 35,
   "metadata": {
    "collapsed": true
   },
   "outputs": [],
   "source": [
    "# try log(y)\n",
    "# caution on interpretation of coefficients\n",
    "\n",
    "# Because Log(0) returns infinite, set engagement to 1 where it was previously 0.\n",
    "# Justifying this because 0 and 1 is insignificant as a low engagement tweets\n",
    "\n",
    "zero_tweets = dummy_trumptweets.loc[:,'engagement'] == 0\n",
    "dummy_trumptweets.loc[zero_tweets, 'engagement'] = 1"
   ]
  },
  {
   "cell_type": "code",
   "execution_count": null,
   "metadata": {
    "collapsed": true
   },
   "outputs": [],
   "source": []
  },
  {
   "cell_type": "code",
   "execution_count": 36,
   "metadata": {
    "collapsed": true
   },
   "outputs": [],
   "source": [
    "# add new column for log(engagement)\n",
    "\n",
    "dummy_trumptweets.loc[:, 'log_engagement'] = np.log(dummy_trumptweets.loc[:,'engagement'])"
   ]
  },
  {
   "cell_type": "code",
   "execution_count": 37,
   "metadata": {},
   "outputs": [
    {
     "data": {
      "text/plain": [
       "<matplotlib.axes._subplots.AxesSubplot at 0x116e7a4a8>"
      ]
     },
     "execution_count": 37,
     "metadata": {},
     "output_type": "execute_result"
    },
    {
     "data": {
      "image/png": "[encoded data removed]",
      "text/plain": [
       "<matplotlib.figure.Figure at 0x11707e9e8>"
      ]
     },
     "metadata": {},
     "output_type": "display_data"
    }
   ],
   "source": [
    "#boxplot of log(engagement)\n",
    "\n",
    "dummy_trumptweets.loc[:,'log_engagement'].plot(kind='box')"
   ]
  },
  {
   "cell_type": "code",
   "execution_count": 38,
   "metadata": {},
   "outputs": [
    {
     "data": {
      "text/plain": [
       "<matplotlib.axes._subplots.AxesSubplot at 0x1a1f9e2d68>"
      ]
     },
     "execution_count": 38,
     "metadata": {},
     "output_type": "execute_result"
    },
    {
     "data": {
      "image/png": "[encoded data removed]",
      "text/plain": [
       "<matplotlib.figure.Figure at 0x1170bb9e8>"
      ]
     },
     "metadata": {},
     "output_type": "display_data"
    }
   ],
   "source": [
    "#Histogram of log(engagement)\n",
    "\n",
    "dummy_trumptweets.loc[:, 'log_engagement'].hist(bins=100)"
   ]
  },
  {
   "cell_type": "code",
   "execution_count": 39,
   "metadata": {},
   "outputs": [
    {
     "data": {
      "text/plain": [
       "<matplotlib.axes._subplots.AxesSubplot at 0x1a1c5d6128>"
      ]
     },
     "execution_count": 39,
     "metadata": {},
     "output_type": "execute_result"
    },
    {
     "data": {
      "image/png": "[encoded data removed]",
      "text/plain": [
       "<matplotlib.figure.Figure at 0x10fb85240>"
      ]
     },
     "metadata": {},
     "output_type": "display_data"
    }
   ],
   "source": [
    "#Histogram of tweet_hour \n",
    "\n",
    "dummy_trumptweets.loc[:, 'tweet_hour'].hist(bins=24)"
   ]
  },
  {
   "cell_type": "code",
   "execution_count": 40,
   "metadata": {
    "collapsed": true
   },
   "outputs": [],
   "source": [
    "feature_cols = ['is_retweet', \n",
    "                'tweet_hour', \n",
    "                'src_iphone', \n",
    "                'src_web_client']"
   ]
  },
  {
   "cell_type": "code",
   "execution_count": 41,
   "metadata": {},
   "outputs": [
    {
     "data": {
      "image/png": "[encoded data removed]",
      "text/plain": [
       "<matplotlib.figure.Figure at 0x10fb90ef0>"
      ]
     },
     "metadata": {},
     "output_type": "display_data"
    }
   ],
   "source": [
    "sns.pairplot(dummy_trumptweets,\n",
    "            x_vars=feature_cols,\n",
    "            y_vars='log_engagement',\n",
    "            kind='reg',\n",
    "            plot_kws={'scatter_kws': {'s':1, 'alpha':.3},\n",
    "                      'line_kws': {'color':'red'}\n",
    "                     }\n",
    "            );"
   ]
  },
  {
   "cell_type": "code",
   "execution_count": 42,
   "metadata": {},
   "outputs": [
    {
     "data": {
      "image/png": "[encoded data removed]",
      "text/plain": [
       "<matplotlib.figure.Figure at 0x1a1e652ac8>"
      ]
     },
     "metadata": {},
     "output_type": "display_data"
    }
   ],
   "source": [
    "#Insert Correlation Matrix with HeatMap\n",
    "\n",
    "sns.heatmap(dummy_trumptweets.corr(),\n",
    "            vmin=-1,\n",
    "            vmax = 1,\n",
    "            cmap = sns.diverging_palette(220, 10, n=21),\n",
    "            );"
   ]
  },
  {
   "cell_type": "code",
   "execution_count": 43,
   "metadata": {},
   "outputs": [
    {
     "name": "stdout",
     "output_type": "stream",
     "text": [
      "is_retweet\n"
     ]
    },
    {
     "data": {
      "image/png": "[encoded data removed]",
      "text/plain": [
       "<matplotlib.figure.Figure at 0x1a1e3427b8>"
      ]
     },
     "metadata": {},
     "output_type": "display_data"
    },
    {
     "name": "stdout",
     "output_type": "stream",
     "text": [
      "tweet_hour\n"
     ]
    },
    {
     "data": {
      "image/png": "[encoded data removed]",
      "text/plain": [
       "<matplotlib.figure.Figure at 0x1a1e304f98>"
      ]
     },
     "metadata": {},
     "output_type": "display_data"
    },
    {
     "name": "stdout",
     "output_type": "stream",
     "text": [
      "src_iphone\n"
     ]
    },
    {
     "data": {
      "image/png": "[encoded data removed]",
      "text/plain": [
       "<matplotlib.figure.Figure at 0x1a1e308208>"
      ]
     },
     "metadata": {},
     "output_type": "display_data"
    },
    {
     "name": "stdout",
     "output_type": "stream",
     "text": [
      "src_web_client\n"
     ]
    },
    {
     "data": {
      "image/png": "[encoded data removed]",
      "text/plain": [
       "<matplotlib.figure.Figure at 0x1a1e35aba8>"
      ]
     },
     "metadata": {},
     "output_type": "display_data"
    }
   ],
   "source": [
    "# Review Scatter plots\n",
    "\n",
    "y = dummy_trumptweets.loc[:, 'log_engagement']\n",
    "\n",
    "for var in feature_cols:\n",
    "    print(var)\n",
    "    x = dummy_trumptweets.loc[:, var]\n",
    "    plt.scatter(x, y)\n",
    "    plt.show()"
   ]
  },
  {
   "cell_type": "code",
   "execution_count": null,
   "metadata": {
    "collapsed": true
   },
   "outputs": [],
   "source": []
  },
  {
   "cell_type": "code",
   "execution_count": null,
   "metadata": {
    "collapsed": true
   },
   "outputs": [],
   "source": []
  },
  {
   "cell_type": "markdown",
   "metadata": {},
   "source": [
    "# Linear Regression"
   ]
  },
  {
   "cell_type": "code",
   "execution_count": 44,
   "metadata": {
    "collapsed": true
   },
   "outputs": [],
   "source": [
    "feature_cols = ['is_retweet', \n",
    "                'tweet_hour', \n",
    "                'src_iphone', \n",
    "                'src_web_client']"
   ]
  },
  {
   "cell_type": "code",
   "execution_count": 45,
   "metadata": {
    "collapsed": true
   },
   "outputs": [],
   "source": [
    "X = dummy_trumptweets.loc[:, feature_cols]\n",
    "y = dummy_trumptweets.loc[:, 'log_engagement']\n"
   ]
  },
  {
   "cell_type": "code",
   "execution_count": 46,
   "metadata": {
    "collapsed": true
   },
   "outputs": [],
   "source": [
    "#Split Train and Test\n",
    "\n",
    "X_train, X_test, y_train, y_test = train_test_split(X, y, random_state=1)"
   ]
  },
  {
   "cell_type": "code",
   "execution_count": 47,
   "metadata": {},
   "outputs": [
    {
     "data": {
      "text/plain": [
       "LinearRegression(copy_X=True, fit_intercept=True, n_jobs=1, normalize=False)"
      ]
     },
     "execution_count": 47,
     "metadata": {},
     "output_type": "execute_result"
    }
   ],
   "source": [
    "# model on the training set of data\n",
    "\n",
    "lr = LinearRegression()\n",
    "lr.fit(X_train, y_train)"
   ]
  },
  {
   "cell_type": "code",
   "execution_count": 48,
   "metadata": {
    "collapsed": true
   },
   "outputs": [],
   "source": [
    "# predict on the test set for X\n",
    "\n",
    "y_pred = lr.predict(X_test)"
   ]
  },
  {
   "cell_type": "code",
   "execution_count": 49,
   "metadata": {},
   "outputs": [
    {
     "name": "stdout",
     "output_type": "stream",
     "text": [
      "0.816506888095\n"
     ]
    }
   ],
   "source": [
    "# compare predicted results against the test set\n",
    "\n",
    "#print(metrics.mean_squared_error(y_train, lr.predict(X_train)))\n",
    "\n",
    "print(metrics.mean_squared_error(y_test, y_pred))"
   ]
  },
  {
   "cell_type": "code",
   "execution_count": null,
   "metadata": {
    "collapsed": true
   },
   "outputs": [],
   "source": []
  },
  {
   "cell_type": "code",
   "execution_count": 50,
   "metadata": {},
   "outputs": [
    {
     "data": {
      "text/plain": [
       "1.1827115079589294"
      ]
     },
     "execution_count": 50,
     "metadata": {},
     "output_type": "execute_result"
    }
   ],
   "source": [
    "#Create Benchmark of Mean Values\n",
    "\n",
    "y_pred_null = np.ones(y_test.shape) * y_train.mean()\n",
    "\n",
    "#compare y_test against the y_means\n",
    "metrics.mean_squared_error(y_test, y_pred_null)"
   ]
  },
  {
   "cell_type": "code",
   "execution_count": 51,
   "metadata": {},
   "outputs": [
    {
     "name": "stdout",
     "output_type": "stream",
     "text": [
      "10.9377083799\n",
      "[-2.04020465 -0.00383141  0.26865519 -0.3038917 ]\n"
     ]
    }
   ],
   "source": [
    "print(lr.intercept_)\n",
    "print(lr.coef_)"
   ]
  },
  {
   "cell_type": "code",
   "execution_count": null,
   "metadata": {
    "collapsed": true
   },
   "outputs": [],
   "source": []
  },
  {
   "cell_type": "code",
   "execution_count": null,
   "metadata": {
    "collapsed": true
   },
   "outputs": [],
   "source": []
  },
  {
   "cell_type": "code",
   "execution_count": null,
   "metadata": {
    "collapsed": true
   },
   "outputs": [],
   "source": []
  }
 ],
 "metadata": {
  "kernelspec": {
   "display_name": "Python 3",
   "language": "python",
   "name": "python3"
  },
  "language_info": {
   "codemirror_mode": {
    "name": "ipython",
    "version": 3
   },
   "file_extension": ".py",
   "mimetype": "text/x-python",
   "name": "python",
   "nbconvert_exporter": "python",
   "pygments_lexer": "ipython3",
   "version": "3.6.3"
  }
 },
 "nbformat": 4,
 "nbformat_minor": 2
}
