{
 "cells": [
  {
   "cell_type": "markdown",
   "metadata": {
    "collapsed": true
   },
   "source": [
    "# Import & Review Data"
   ]
  },
  {
   "cell_type": "code",
   "execution_count": 1,
   "metadata": {
    "collapsed": true
   },
   "outputs": [],
   "source": [
    "import pandas as pd\n",
    "import numpy as np\n",
    "import matplotlib.pyplot as plt\n",
    "from sklearn.linear_model import LinearRegression\n",
    "from sklearn.model_selection import train_test_split\n",
    "from sklearn import metrics\n",
    "import seaborn as sns\n",
    "\n",
    "\n",
    "plt.style.use('fivethirtyeight')\n",
    "%matplotlib inline"
   ]
  },
  {
   "cell_type": "code",
   "execution_count": 2,
   "metadata": {
    "collapsed": true
   },
   "outputs": [],
   "source": [
    "file = './data/trumptweets_all.csv'\n"
   ]
  },
  {
   "cell_type": "code",
   "execution_count": 3,
   "metadata": {
    "collapsed": true,
    "scrolled": true
   },
   "outputs": [],
   "source": [
    "trumptweets = pd.read_csv(file, encoding = 'latin1',\n",
    "                          index_col='created_at')"
   ]
  },
  {
   "cell_type": "code",
   "execution_count": 4,
   "metadata": {},
   "outputs": [
    {
     "data": {
      "text/html": [
       "<div>\n",
       "<style>\n",
       "    .dataframe thead tr:only-child th {\n",
       "        text-align: right;\n",
       "    }\n",
       "\n",
       "    .dataframe thead th {\n",
       "        text-align: left;\n",
       "    }\n",
       "\n",
       "    .dataframe tbody tr th {\n",
       "        vertical-align: top;\n",
       "    }\n",
       "</style>\n",
       "<table border=\"1\" class=\"dataframe\">\n",
       "  <thead>\n",
       "    <tr style=\"text-align: right;\">\n",
       "      <th></th>\n",
       "      <th>source</th>\n",
       "      <th>text</th>\n",
       "      <th>retweet_count</th>\n",
       "      <th>favorite_count</th>\n",
       "      <th>is_retweet</th>\n",
       "      <th>id_str</th>\n",
       "    </tr>\n",
       "    <tr>\n",
       "      <th>created_at</th>\n",
       "      <th></th>\n",
       "      <th></th>\n",
       "      <th></th>\n",
       "      <th></th>\n",
       "      <th></th>\n",
       "      <th></th>\n",
       "    </tr>\n",
       "  </thead>\n",
       "  <tbody>\n",
       "    <tr>\n",
       "      <th>12/28/2012 21:23</th>\n",
       "      <td>Twitter Web Client</td>\n",
       "      <td>@opus_6  Thanks it's a wonderful place to be--...</td>\n",
       "      <td>1</td>\n",
       "      <td>1</td>\n",
       "      <td>False</td>\n",
       "      <td>284771680499408896</td>\n",
       "    </tr>\n",
       "    <tr>\n",
       "      <th>12/28/2012 21:22</th>\n",
       "      <td>Twitter Web Client</td>\n",
       "      <td>@Earther57  Sounds nice--and thanks. Happy New...</td>\n",
       "      <td>3</td>\n",
       "      <td>2</td>\n",
       "      <td>False</td>\n",
       "      <td>284771320418410496</td>\n",
       "    </tr>\n",
       "    <tr>\n",
       "      <th>12/28/2012 21:20</th>\n",
       "      <td>Twitter Web Client</td>\n",
       "      <td>You have to set higher and higher goals.  You...</td>\n",
       "      <td>1038</td>\n",
       "      <td>458</td>\n",
       "      <td>False</td>\n",
       "      <td>284770791126601728</td>\n",
       "    </tr>\n",
       "    <tr>\n",
       "      <th>12/28/2012 21:19</th>\n",
       "      <td>Twitter Web Client</td>\n",
       "      <td>Visiting New York City?  Make sure to skate in...</td>\n",
       "      <td>72</td>\n",
       "      <td>38</td>\n",
       "      <td>False</td>\n",
       "      <td>284770536779829248</td>\n",
       "    </tr>\n",
       "    <tr>\n",
       "      <th>12/28/2012 21:13</th>\n",
       "      <td>Twitter Web Client</td>\n",
       "      <td>@sixelA1984 @LilJon @CelebApprentice  Raising ...</td>\n",
       "      <td>2</td>\n",
       "      <td>1</td>\n",
       "      <td>False</td>\n",
       "      <td>284769064302280704</td>\n",
       "    </tr>\n",
       "  </tbody>\n",
       "</table>\n",
       "</div>"
      ],
      "text/plain": [
       "                              source  \\\n",
       "created_at                             \n",
       "12/28/2012 21:23  Twitter Web Client   \n",
       "12/28/2012 21:22  Twitter Web Client   \n",
       "12/28/2012 21:20  Twitter Web Client   \n",
       "12/28/2012 21:19  Twitter Web Client   \n",
       "12/28/2012 21:13  Twitter Web Client   \n",
       "\n",
       "                                                               text  \\\n",
       "created_at                                                            \n",
       "12/28/2012 21:23  @opus_6  Thanks it's a wonderful place to be--...   \n",
       "12/28/2012 21:22  @Earther57  Sounds nice--and thanks. Happy New...   \n",
       "12/28/2012 21:20  You have to set higher and higher goals.  You...   \n",
       "12/28/2012 21:19  Visiting New York City?  Make sure to skate in...   \n",
       "12/28/2012 21:13  @sixelA1984 @LilJon @CelebApprentice  Raising ...   \n",
       "\n",
       "                  retweet_count  favorite_count  is_retweet  \\\n",
       "created_at                                                    \n",
       "12/28/2012 21:23              1               1       False   \n",
       "12/28/2012 21:22              3               2       False   \n",
       "12/28/2012 21:20           1038             458       False   \n",
       "12/28/2012 21:19             72              38       False   \n",
       "12/28/2012 21:13              2               1       False   \n",
       "\n",
       "                              id_str  \n",
       "created_at                            \n",
       "12/28/2012 21:23  284771680499408896  \n",
       "12/28/2012 21:22  284771320418410496  \n",
       "12/28/2012 21:20  284770791126601728  \n",
       "12/28/2012 21:19  284770536779829248  \n",
       "12/28/2012 21:13  284769064302280704  "
      ]
     },
     "execution_count": 4,
     "metadata": {},
     "output_type": "execute_result"
    }
   ],
   "source": [
    "trumptweets.head()"
   ]
  },
  {
   "cell_type": "code",
   "execution_count": 5,
   "metadata": {},
   "outputs": [
    {
     "data": {
      "text/plain": [
       "(32959, 6)"
      ]
     },
     "execution_count": 5,
     "metadata": {},
     "output_type": "execute_result"
    }
   ],
   "source": [
    "trumptweets.shape"
   ]
  },
  {
   "cell_type": "code",
   "execution_count": null,
   "metadata": {
    "collapsed": true
   },
   "outputs": [],
   "source": []
  },
  {
   "cell_type": "code",
   "execution_count": null,
   "metadata": {
    "collapsed": true
   },
   "outputs": [],
   "source": []
  },
  {
   "cell_type": "markdown",
   "metadata": {},
   "source": [
    "# Prepare Data for Analysis"
   ]
  },
  {
   "cell_type": "code",
   "execution_count": 6,
   "metadata": {
    "collapsed": true
   },
   "outputs": [],
   "source": [
    "#Cast index of created_at dates to datetime format\n",
    "\n",
    "trumptweets.index = pd.to_datetime(trumptweets.index)"
   ]
  },
  {
   "cell_type": "code",
   "execution_count": 7,
   "metadata": {
    "collapsed": true
   },
   "outputs": [],
   "source": [
    "#add new column for HOUR when the tweet occurred\n",
    "\n",
    "trumptweets.loc[:, 'tweet_hour'] = trumptweets.index.hour"
   ]
  },
  {
   "cell_type": "code",
   "execution_count": 8,
   "metadata": {},
   "outputs": [
    {
     "data": {
      "text/plain": [
       "Twitter for Android         14545\n",
       "Twitter Web Client          11978\n",
       "Twitter for iPhone           4825\n",
       "TweetDeck                     480\n",
       "TwitLonger Beta               405\n",
       "Instagram                     133\n",
       "Media Studio                  130\n",
       "Facebook                      105\n",
       "Twitter for BlackBerry         97\n",
       "Twitter Ads                    97\n",
       "Mobile Web (M5)                56\n",
       "Twitter for iPad               51\n",
       "Twitlonger                     23\n",
       "Vine - Make a Scene            10\n",
       "Twitter QandA                  10\n",
       "Periscope                       7\n",
       "Neatly For BlackBerry 10        5\n",
       "Twitter for Websites            1\n",
       "Twitter Mirror for iPad         1\n",
       "Name: source, dtype: int64"
      ]
     },
     "execution_count": 8,
     "metadata": {},
     "output_type": "execute_result"
    }
   ],
   "source": [
    "trumptweets.loc[:, 'source'].value_counts()"
   ]
  },
  {
   "cell_type": "code",
   "execution_count": 9,
   "metadata": {
    "collapsed": true
   },
   "outputs": [],
   "source": [
    "# Convert Source column to dummy variables\n",
    "\n",
    "#map source twitter for the 19 source values into integers\n",
    "\n",
    "trumptweets.loc[:, 'source_num'] = trumptweets.loc[:,'source'].map({'Twitter for Android':0,\n",
    "                                                                    'Twitter Web Client':1,\n",
    "                                                                    'Twitter for iPhone':2,\n",
    "                                                                    'TweetDeck':3,\n",
    "                                                                    'TwitLonger Beta':4,\n",
    "                                                                    'Instagram':5,\n",
    "                                                                    'Media Studio':6,\n",
    "                                                                    'Facebook':7,\n",
    "                                                                    'Twitter for BlackBerry':8,\n",
    "                                                                    'Twitter Ads':9,\n",
    "                                                                    'Mobile Web (M5)':10,\n",
    "                                                                    'Twitter for iPad':11,\n",
    "                                                                    'Twitlonger':12,\n",
    "                                                                    'Twitter QandA':13,\n",
    "                                                                    'Vine - Make a Scene':14,\n",
    "                                                                    'Periscope':15,\n",
    "                                                                    'Neatly For BlackBerry 10':16,\n",
    "                                                                    'Twitter Mirror for iPad':17,\n",
    "                                                                    'Twitter for Websites':18})"
   ]
  },
  {
   "cell_type": "code",
   "execution_count": 10,
   "metadata": {},
   "outputs": [
    {
     "data": {
      "text/html": [
       "<div>\n",
       "<style>\n",
       "    .dataframe thead tr:only-child th {\n",
       "        text-align: right;\n",
       "    }\n",
       "\n",
       "    .dataframe thead th {\n",
       "        text-align: left;\n",
       "    }\n",
       "\n",
       "    .dataframe tbody tr th {\n",
       "        vertical-align: top;\n",
       "    }\n",
       "</style>\n",
       "<table border=\"1\" class=\"dataframe\">\n",
       "  <thead>\n",
       "    <tr style=\"text-align: right;\">\n",
       "      <th></th>\n",
       "      <th>source</th>\n",
       "      <th>text</th>\n",
       "      <th>retweet_count</th>\n",
       "      <th>favorite_count</th>\n",
       "      <th>is_retweet</th>\n",
       "      <th>id_str</th>\n",
       "      <th>tweet_hour</th>\n",
       "      <th>source_num</th>\n",
       "    </tr>\n",
       "    <tr>\n",
       "      <th>created_at</th>\n",
       "      <th></th>\n",
       "      <th></th>\n",
       "      <th></th>\n",
       "      <th></th>\n",
       "      <th></th>\n",
       "      <th></th>\n",
       "      <th></th>\n",
       "      <th></th>\n",
       "    </tr>\n",
       "  </thead>\n",
       "  <tbody>\n",
       "    <tr>\n",
       "      <th>2012-12-28 21:23:00</th>\n",
       "      <td>Twitter Web Client</td>\n",
       "      <td>@opus_6  Thanks it's a wonderful place to be--...</td>\n",
       "      <td>1</td>\n",
       "      <td>1</td>\n",
       "      <td>False</td>\n",
       "      <td>284771680499408896</td>\n",
       "      <td>21</td>\n",
       "      <td>1</td>\n",
       "    </tr>\n",
       "    <tr>\n",
       "      <th>2012-12-28 21:22:00</th>\n",
       "      <td>Twitter Web Client</td>\n",
       "      <td>@Earther57  Sounds nice--and thanks. Happy New...</td>\n",
       "      <td>3</td>\n",
       "      <td>2</td>\n",
       "      <td>False</td>\n",
       "      <td>284771320418410496</td>\n",
       "      <td>21</td>\n",
       "      <td>1</td>\n",
       "    </tr>\n",
       "    <tr>\n",
       "      <th>2012-12-28 21:20:00</th>\n",
       "      <td>Twitter Web Client</td>\n",
       "      <td>You have to set higher and higher goals.  You...</td>\n",
       "      <td>1038</td>\n",
       "      <td>458</td>\n",
       "      <td>False</td>\n",
       "      <td>284770791126601728</td>\n",
       "      <td>21</td>\n",
       "      <td>1</td>\n",
       "    </tr>\n",
       "    <tr>\n",
       "      <th>2012-12-28 21:19:00</th>\n",
       "      <td>Twitter Web Client</td>\n",
       "      <td>Visiting New York City?  Make sure to skate in...</td>\n",
       "      <td>72</td>\n",
       "      <td>38</td>\n",
       "      <td>False</td>\n",
       "      <td>284770536779829248</td>\n",
       "      <td>21</td>\n",
       "      <td>1</td>\n",
       "    </tr>\n",
       "    <tr>\n",
       "      <th>2012-12-28 21:13:00</th>\n",
       "      <td>Twitter Web Client</td>\n",
       "      <td>@sixelA1984 @LilJon @CelebApprentice  Raising ...</td>\n",
       "      <td>2</td>\n",
       "      <td>1</td>\n",
       "      <td>False</td>\n",
       "      <td>284769064302280704</td>\n",
       "      <td>21</td>\n",
       "      <td>1</td>\n",
       "    </tr>\n",
       "  </tbody>\n",
       "</table>\n",
       "</div>"
      ],
      "text/plain": [
       "                                 source  \\\n",
       "created_at                                \n",
       "2012-12-28 21:23:00  Twitter Web Client   \n",
       "2012-12-28 21:22:00  Twitter Web Client   \n",
       "2012-12-28 21:20:00  Twitter Web Client   \n",
       "2012-12-28 21:19:00  Twitter Web Client   \n",
       "2012-12-28 21:13:00  Twitter Web Client   \n",
       "\n",
       "                                                                  text  \\\n",
       "created_at                                                               \n",
       "2012-12-28 21:23:00  @opus_6  Thanks it's a wonderful place to be--...   \n",
       "2012-12-28 21:22:00  @Earther57  Sounds nice--and thanks. Happy New...   \n",
       "2012-12-28 21:20:00  You have to set higher and higher goals.  You...   \n",
       "2012-12-28 21:19:00  Visiting New York City?  Make sure to skate in...   \n",
       "2012-12-28 21:13:00  @sixelA1984 @LilJon @CelebApprentice  Raising ...   \n",
       "\n",
       "                     retweet_count  favorite_count  is_retweet  \\\n",
       "created_at                                                       \n",
       "2012-12-28 21:23:00              1               1       False   \n",
       "2012-12-28 21:22:00              3               2       False   \n",
       "2012-12-28 21:20:00           1038             458       False   \n",
       "2012-12-28 21:19:00             72              38       False   \n",
       "2012-12-28 21:13:00              2               1       False   \n",
       "\n",
       "                                 id_str  tweet_hour  source_num  \n",
       "created_at                                                       \n",
       "2012-12-28 21:23:00  284771680499408896          21           1  \n",
       "2012-12-28 21:22:00  284771320418410496          21           1  \n",
       "2012-12-28 21:20:00  284770791126601728          21           1  \n",
       "2012-12-28 21:19:00  284770536779829248          21           1  \n",
       "2012-12-28 21:13:00  284769064302280704          21           1  "
      ]
     },
     "execution_count": 10,
     "metadata": {},
     "output_type": "execute_result"
    }
   ],
   "source": [
    "trumptweets.head()"
   ]
  },
  {
   "cell_type": "code",
   "execution_count": 11,
   "metadata": {
    "collapsed": true
   },
   "outputs": [],
   "source": [
    "#Convert Source_num to dummy variables\n",
    "\n",
    "dummy_trumptweets = pd.get_dummies(trumptweets, columns=['source_num']).drop('source_num_0', axis=1)"
   ]
  },
  {
   "cell_type": "code",
   "execution_count": 12,
   "metadata": {
    "collapsed": true
   },
   "outputs": [],
   "source": [
    "# Rename Dummy variable columns\n",
    "\n",
    "dummy_trumptweets.rename(columns={'source_num_1': 'src_web_client',\n",
    "                                  'source_num_2': 'src_iphone',\n",
    "                                  'source_num_3': 'src_tweetdeck',\n",
    "                                  'source_num_4': 'src_twitlonger',\n",
    "                                  'source_num_5': 'src_instagram',\n",
    "                                  'source_num_6': 'src_mediastudio',\n",
    "                                  'source_num_7': 'src_facebook',\n",
    "                                  'source_num_8': 'src_bberry',\n",
    "                                  'source_num_9': 'src_twitter_ads',\n",
    "                                  'source_num_10': 'src_mobilewebm5',\n",
    "                                  'source_num_11': 'src_ipad',\n",
    "                                  'source_num_12': 'src_twitlonger',\n",
    "                                  'source_num_13': 'src_qanda',\n",
    "                                  'source_num_14': 'src_vine',\n",
    "                                  'source_num_15': 'src_periscope',\n",
    "                                  'source_num_16': 'src_neatly_bberry',\n",
    "                                  'source_num_17': 'src_mirror_ipad',\n",
    "                                  'source_num_18': 'src_forwebsites'}, \n",
    "                                  inplace=True)"
   ]
  },
  {
   "cell_type": "markdown",
   "metadata": {},
   "source": [
    "   \n",
    "   "
   ]
  },
  {
   "cell_type": "code",
   "execution_count": 13,
   "metadata": {
    "collapsed": true
   },
   "outputs": [],
   "source": [
    "#Create new column, engagement, that summs retweet and favorite counts.  This will become my target y\n",
    "\n",
    "dummy_trumptweets.loc[:, 'engagement'] = (dummy_trumptweets.loc[:, 'retweet_count'] +\n",
    "                                          dummy_trumptweets.loc[:, 'favorite_count'])"
   ]
  },
  {
   "cell_type": "code",
   "execution_count": null,
   "metadata": {
    "collapsed": true
   },
   "outputs": [],
   "source": []
  },
  {
   "cell_type": "code",
   "execution_count": null,
   "metadata": {
    "collapsed": true
   },
   "outputs": [],
   "source": []
  },
  {
   "cell_type": "code",
   "execution_count": null,
   "metadata": {
    "collapsed": true
   },
   "outputs": [],
   "source": []
  },
  {
   "cell_type": "code",
   "execution_count": 14,
   "metadata": {
    "collapsed": true
   },
   "outputs": [],
   "source": [
    "# Convert hours to morning, afternoon, evening, latenight dummy variables.  Timestamp column is in GMT, so converting daytime hours to EST\n",
    "# Default is morning\n",
    "\n",
    "\n",
    "# EST 12-6pm is GMT 18-23\n",
    "dummy_trumptweets.loc[:, 'is_afternoon'] = ((dummy_trumptweets.loc[:, 'tweet_hour'] >= 17) & (dummy_trumptweets.loc[:,'tweet_hour'] < 23)).astype(int)  \n",
    "\n",
    "# EST 6pm-12am is 23 - 5\n",
    "dummy_trumptweets.loc[:, 'is_evening'] = ((dummy_trumptweets.loc[:, 'tweet_hour'] >= 23) | (dummy_trumptweets.loc[:,'tweet_hour'] < 5)).astype(int)\n",
    "\n",
    "# Late Night is EST 12am-5am is GMT 5-10\n",
    "dummy_trumptweets.loc[:, 'is_latenight'] = ((dummy_trumptweets.loc[:, 'tweet_hour'] >= 5) & (dummy_trumptweets.loc[:,'tweet_hour'] < 10)).astype(int)\n"
   ]
  },
  {
   "cell_type": "code",
   "execution_count": null,
   "metadata": {
    "collapsed": true
   },
   "outputs": [],
   "source": []
  },
  {
   "cell_type": "code",
   "execution_count": 15,
   "metadata": {
    "collapsed": true
   },
   "outputs": [],
   "source": [
    "# Only analyzing data since the 2016 Republican National Convention on 7/18/2016\n",
    "\n",
    "dummy_trumptweets = dummy_trumptweets.loc[dummy_trumptweets.index > '2016-7-18 00:00:00',:]"
   ]
  },
  {
   "cell_type": "code",
   "execution_count": null,
   "metadata": {
    "collapsed": true
   },
   "outputs": [],
   "source": []
  },
  {
   "cell_type": "code",
   "execution_count": null,
   "metadata": {
    "collapsed": true
   },
   "outputs": [],
   "source": []
  },
  {
   "cell_type": "code",
   "execution_count": null,
   "metadata": {
    "collapsed": true
   },
   "outputs": [],
   "source": [
    "# try log(y)\n",
    "# caution on interpretation of coefficients\n",
    "\n",
    "# Because Log(0) returns infinite, set engagement to 1 where it was previously 0.\n",
    "# Justifying this because 0 and 1 is insignificant as a low engagement tweets\n",
    "\n",
    "zero_tweets = dummy_trumptweets.loc[:,'engagement'] == 0\n",
    "dummy_trumptweets.loc[zero_tweets, 'engagement'] = 1"
   ]
  },
  {
   "cell_type": "code",
   "execution_count": null,
   "metadata": {
    "collapsed": true
   },
   "outputs": [],
   "source": [
    "# add new column for log(engagement)\n",
    "\n",
    "dummy_trumptweets.loc[:, 'log_engagement'] = np.log(dummy_trumptweets.loc[:,'engagement'])"
   ]
  },
  {
   "cell_type": "code",
   "execution_count": null,
   "metadata": {
    "collapsed": true
   },
   "outputs": [],
   "source": []
  },
  {
   "cell_type": "code",
   "execution_count": null,
   "metadata": {
    "collapsed": true
   },
   "outputs": [],
   "source": []
  },
  {
   "cell_type": "code",
   "execution_count": null,
   "metadata": {
    "collapsed": true
   },
   "outputs": [],
   "source": []
  },
  {
   "cell_type": "markdown",
   "metadata": {},
   "source": [
    "# Analysis and Visualizations"
   ]
  },
  {
   "cell_type": "code",
   "execution_count": 16,
   "metadata": {},
   "outputs": [
    {
     "data": {
      "text/html": [
       "<div>\n",
       "<style>\n",
       "    .dataframe thead tr:only-child th {\n",
       "        text-align: right;\n",
       "    }\n",
       "\n",
       "    .dataframe thead th {\n",
       "        text-align: left;\n",
       "    }\n",
       "\n",
       "    .dataframe tbody tr th {\n",
       "        vertical-align: top;\n",
       "    }\n",
       "</style>\n",
       "<table border=\"1\" class=\"dataframe\">\n",
       "  <thead>\n",
       "    <tr style=\"text-align: right;\">\n",
       "      <th></th>\n",
       "      <th>source</th>\n",
       "      <th>text</th>\n",
       "      <th>retweet_count</th>\n",
       "      <th>favorite_count</th>\n",
       "      <th>is_retweet</th>\n",
       "      <th>id_str</th>\n",
       "      <th>tweet_hour</th>\n",
       "      <th>src_web_client</th>\n",
       "      <th>src_iphone</th>\n",
       "      <th>src_tweetdeck</th>\n",
       "      <th>...</th>\n",
       "      <th>src_qanda</th>\n",
       "      <th>src_vine</th>\n",
       "      <th>src_periscope</th>\n",
       "      <th>src_neatly_bberry</th>\n",
       "      <th>src_mirror_ipad</th>\n",
       "      <th>src_forwebsites</th>\n",
       "      <th>engagement</th>\n",
       "      <th>is_afternoon</th>\n",
       "      <th>is_evening</th>\n",
       "      <th>is_latenight</th>\n",
       "    </tr>\n",
       "  </thead>\n",
       "  <tbody>\n",
       "    <tr>\n",
       "      <th>count</th>\n",
       "      <td>4675</td>\n",
       "      <td>4675</td>\n",
       "      <td>4675.000000</td>\n",
       "      <td>4675.000000</td>\n",
       "      <td>4675</td>\n",
       "      <td>4.675000e+03</td>\n",
       "      <td>4675.000000</td>\n",
       "      <td>4675.000000</td>\n",
       "      <td>4675.000000</td>\n",
       "      <td>4675.000000</td>\n",
       "      <td>...</td>\n",
       "      <td>4675.0</td>\n",
       "      <td>4675.0</td>\n",
       "      <td>4675.000000</td>\n",
       "      <td>4675.0</td>\n",
       "      <td>4675.0</td>\n",
       "      <td>4675.0</td>\n",
       "      <td>4675.000000</td>\n",
       "      <td>4675.000000</td>\n",
       "      <td>4675.000000</td>\n",
       "      <td>4675.000000</td>\n",
       "    </tr>\n",
       "    <tr>\n",
       "      <th>unique</th>\n",
       "      <td>8</td>\n",
       "      <td>4665</td>\n",
       "      <td>NaN</td>\n",
       "      <td>NaN</td>\n",
       "      <td>2</td>\n",
       "      <td>NaN</td>\n",
       "      <td>NaN</td>\n",
       "      <td>NaN</td>\n",
       "      <td>NaN</td>\n",
       "      <td>NaN</td>\n",
       "      <td>...</td>\n",
       "      <td>NaN</td>\n",
       "      <td>NaN</td>\n",
       "      <td>NaN</td>\n",
       "      <td>NaN</td>\n",
       "      <td>NaN</td>\n",
       "      <td>NaN</td>\n",
       "      <td>NaN</td>\n",
       "      <td>NaN</td>\n",
       "      <td>NaN</td>\n",
       "      <td>NaN</td>\n",
       "    </tr>\n",
       "    <tr>\n",
       "      <th>top</th>\n",
       "      <td>Twitter for iPhone</td>\n",
       "      <td>MAKE AMERICA GREAT AGAIN!</td>\n",
       "      <td>NaN</td>\n",
       "      <td>NaN</td>\n",
       "      <td>False</td>\n",
       "      <td>NaN</td>\n",
       "      <td>NaN</td>\n",
       "      <td>NaN</td>\n",
       "      <td>NaN</td>\n",
       "      <td>NaN</td>\n",
       "      <td>...</td>\n",
       "      <td>NaN</td>\n",
       "      <td>NaN</td>\n",
       "      <td>NaN</td>\n",
       "      <td>NaN</td>\n",
       "      <td>NaN</td>\n",
       "      <td>NaN</td>\n",
       "      <td>NaN</td>\n",
       "      <td>NaN</td>\n",
       "      <td>NaN</td>\n",
       "      <td>NaN</td>\n",
       "    </tr>\n",
       "    <tr>\n",
       "      <th>freq</th>\n",
       "      <td>3341</td>\n",
       "      <td>7</td>\n",
       "      <td>NaN</td>\n",
       "      <td>NaN</td>\n",
       "      <td>4228</td>\n",
       "      <td>NaN</td>\n",
       "      <td>NaN</td>\n",
       "      <td>NaN</td>\n",
       "      <td>NaN</td>\n",
       "      <td>NaN</td>\n",
       "      <td>...</td>\n",
       "      <td>NaN</td>\n",
       "      <td>NaN</td>\n",
       "      <td>NaN</td>\n",
       "      <td>NaN</td>\n",
       "      <td>NaN</td>\n",
       "      <td>NaN</td>\n",
       "      <td>NaN</td>\n",
       "      <td>NaN</td>\n",
       "      <td>NaN</td>\n",
       "      <td>NaN</td>\n",
       "    </tr>\n",
       "    <tr>\n",
       "      <th>mean</th>\n",
       "      <td>NaN</td>\n",
       "      <td>NaN</td>\n",
       "      <td>16402.736898</td>\n",
       "      <td>60308.453904</td>\n",
       "      <td>NaN</td>\n",
       "      <td>8.542120e+17</td>\n",
       "      <td>12.643636</td>\n",
       "      <td>0.041711</td>\n",
       "      <td>0.714652</td>\n",
       "      <td>0.000428</td>\n",
       "      <td>...</td>\n",
       "      <td>0.0</td>\n",
       "      <td>0.0</td>\n",
       "      <td>0.000214</td>\n",
       "      <td>0.0</td>\n",
       "      <td>0.0</td>\n",
       "      <td>0.0</td>\n",
       "      <td>76711.190802</td>\n",
       "      <td>0.278503</td>\n",
       "      <td>0.263529</td>\n",
       "      <td>0.019037</td>\n",
       "    </tr>\n",
       "    <tr>\n",
       "      <th>std</th>\n",
       "      <td>NaN</td>\n",
       "      <td>NaN</td>\n",
       "      <td>13960.319769</td>\n",
       "      <td>48323.015209</td>\n",
       "      <td>NaN</td>\n",
       "      <td>6.611347e+16</td>\n",
       "      <td>6.973148</td>\n",
       "      <td>0.199950</td>\n",
       "      <td>0.451628</td>\n",
       "      <td>0.020681</td>\n",
       "      <td>...</td>\n",
       "      <td>0.0</td>\n",
       "      <td>0.0</td>\n",
       "      <td>0.014625</td>\n",
       "      <td>0.0</td>\n",
       "      <td>0.0</td>\n",
       "      <td>0.0</td>\n",
       "      <td>60347.751316</td>\n",
       "      <td>0.448310</td>\n",
       "      <td>0.440594</td>\n",
       "      <td>0.136671</td>\n",
       "    </tr>\n",
       "    <tr>\n",
       "      <th>min</th>\n",
       "      <td>NaN</td>\n",
       "      <td>NaN</td>\n",
       "      <td>0.000000</td>\n",
       "      <td>0.000000</td>\n",
       "      <td>NaN</td>\n",
       "      <td>7.549926e+17</td>\n",
       "      <td>0.000000</td>\n",
       "      <td>0.000000</td>\n",
       "      <td>0.000000</td>\n",
       "      <td>0.000000</td>\n",
       "      <td>...</td>\n",
       "      <td>0.0</td>\n",
       "      <td>0.0</td>\n",
       "      <td>0.000000</td>\n",
       "      <td>0.0</td>\n",
       "      <td>0.0</td>\n",
       "      <td>0.0</td>\n",
       "      <td>0.000000</td>\n",
       "      <td>0.000000</td>\n",
       "      <td>0.000000</td>\n",
       "      <td>0.000000</td>\n",
       "    </tr>\n",
       "    <tr>\n",
       "      <th>25%</th>\n",
       "      <td>NaN</td>\n",
       "      <td>NaN</td>\n",
       "      <td>8770.000000</td>\n",
       "      <td>23298.500000</td>\n",
       "      <td>NaN</td>\n",
       "      <td>7.889149e+17</td>\n",
       "      <td>10.000000</td>\n",
       "      <td>0.000000</td>\n",
       "      <td>0.000000</td>\n",
       "      <td>0.000000</td>\n",
       "      <td>...</td>\n",
       "      <td>0.0</td>\n",
       "      <td>0.0</td>\n",
       "      <td>0.000000</td>\n",
       "      <td>0.0</td>\n",
       "      <td>0.0</td>\n",
       "      <td>0.0</td>\n",
       "      <td>32523.000000</td>\n",
       "      <td>0.000000</td>\n",
       "      <td>0.000000</td>\n",
       "      <td>0.000000</td>\n",
       "    </tr>\n",
       "    <tr>\n",
       "      <th>50%</th>\n",
       "      <td>NaN</td>\n",
       "      <td>NaN</td>\n",
       "      <td>13781.000000</td>\n",
       "      <td>55454.000000</td>\n",
       "      <td>NaN</td>\n",
       "      <td>8.569286e+17</td>\n",
       "      <td>13.000000</td>\n",
       "      <td>0.000000</td>\n",
       "      <td>1.000000</td>\n",
       "      <td>0.000000</td>\n",
       "      <td>...</td>\n",
       "      <td>0.0</td>\n",
       "      <td>0.0</td>\n",
       "      <td>0.000000</td>\n",
       "      <td>0.0</td>\n",
       "      <td>0.0</td>\n",
       "      <td>0.0</td>\n",
       "      <td>68421.000000</td>\n",
       "      <td>0.000000</td>\n",
       "      <td>0.000000</td>\n",
       "      <td>0.000000</td>\n",
       "    </tr>\n",
       "    <tr>\n",
       "      <th>75%</th>\n",
       "      <td>NaN</td>\n",
       "      <td>NaN</td>\n",
       "      <td>20583.000000</td>\n",
       "      <td>86214.000000</td>\n",
       "      <td>NaN</td>\n",
       "      <td>9.131525e+17</td>\n",
       "      <td>19.000000</td>\n",
       "      <td>0.000000</td>\n",
       "      <td>1.000000</td>\n",
       "      <td>0.000000</td>\n",
       "      <td>...</td>\n",
       "      <td>0.0</td>\n",
       "      <td>0.0</td>\n",
       "      <td>0.000000</td>\n",
       "      <td>0.0</td>\n",
       "      <td>0.0</td>\n",
       "      <td>0.0</td>\n",
       "      <td>106072.500000</td>\n",
       "      <td>1.000000</td>\n",
       "      <td>1.000000</td>\n",
       "      <td>0.000000</td>\n",
       "    </tr>\n",
       "    <tr>\n",
       "      <th>max</th>\n",
       "      <td>NaN</td>\n",
       "      <td>NaN</td>\n",
       "      <td>369530.000000</td>\n",
       "      <td>633253.000000</td>\n",
       "      <td>NaN</td>\n",
       "      <td>9.714098e+17</td>\n",
       "      <td>23.000000</td>\n",
       "      <td>1.000000</td>\n",
       "      <td>1.000000</td>\n",
       "      <td>1.000000</td>\n",
       "      <td>...</td>\n",
       "      <td>0.0</td>\n",
       "      <td>0.0</td>\n",
       "      <td>1.000000</td>\n",
       "      <td>0.0</td>\n",
       "      <td>0.0</td>\n",
       "      <td>0.0</td>\n",
       "      <td>974628.000000</td>\n",
       "      <td>1.000000</td>\n",
       "      <td>1.000000</td>\n",
       "      <td>1.000000</td>\n",
       "    </tr>\n",
       "  </tbody>\n",
       "</table>\n",
       "<p>11 rows × 29 columns</p>\n",
       "</div>"
      ],
      "text/plain": [
       "                    source                       text  retweet_count  \\\n",
       "count                 4675                       4675    4675.000000   \n",
       "unique                   8                       4665            NaN   \n",
       "top     Twitter for iPhone  MAKE AMERICA GREAT AGAIN!            NaN   \n",
       "freq                  3341                          7            NaN   \n",
       "mean                   NaN                        NaN   16402.736898   \n",
       "std                    NaN                        NaN   13960.319769   \n",
       "min                    NaN                        NaN       0.000000   \n",
       "25%                    NaN                        NaN    8770.000000   \n",
       "50%                    NaN                        NaN   13781.000000   \n",
       "75%                    NaN                        NaN   20583.000000   \n",
       "max                    NaN                        NaN  369530.000000   \n",
       "\n",
       "        favorite_count is_retweet        id_str   tweet_hour  src_web_client  \\\n",
       "count      4675.000000       4675  4.675000e+03  4675.000000     4675.000000   \n",
       "unique             NaN          2           NaN          NaN             NaN   \n",
       "top                NaN      False           NaN          NaN             NaN   \n",
       "freq               NaN       4228           NaN          NaN             NaN   \n",
       "mean      60308.453904        NaN  8.542120e+17    12.643636        0.041711   \n",
       "std       48323.015209        NaN  6.611347e+16     6.973148        0.199950   \n",
       "min           0.000000        NaN  7.549926e+17     0.000000        0.000000   \n",
       "25%       23298.500000        NaN  7.889149e+17    10.000000        0.000000   \n",
       "50%       55454.000000        NaN  8.569286e+17    13.000000        0.000000   \n",
       "75%       86214.000000        NaN  9.131525e+17    19.000000        0.000000   \n",
       "max      633253.000000        NaN  9.714098e+17    23.000000        1.000000   \n",
       "\n",
       "         src_iphone  src_tweetdeck      ...       src_qanda  src_vine  \\\n",
       "count   4675.000000    4675.000000      ...          4675.0    4675.0   \n",
       "unique          NaN            NaN      ...             NaN       NaN   \n",
       "top             NaN            NaN      ...             NaN       NaN   \n",
       "freq            NaN            NaN      ...             NaN       NaN   \n",
       "mean       0.714652       0.000428      ...             0.0       0.0   \n",
       "std        0.451628       0.020681      ...             0.0       0.0   \n",
       "min        0.000000       0.000000      ...             0.0       0.0   \n",
       "25%        0.000000       0.000000      ...             0.0       0.0   \n",
       "50%        1.000000       0.000000      ...             0.0       0.0   \n",
       "75%        1.000000       0.000000      ...             0.0       0.0   \n",
       "max        1.000000       1.000000      ...             0.0       0.0   \n",
       "\n",
       "        src_periscope  src_neatly_bberry  src_mirror_ipad  src_forwebsites  \\\n",
       "count     4675.000000             4675.0           4675.0           4675.0   \n",
       "unique            NaN                NaN              NaN              NaN   \n",
       "top               NaN                NaN              NaN              NaN   \n",
       "freq              NaN                NaN              NaN              NaN   \n",
       "mean         0.000214                0.0              0.0              0.0   \n",
       "std          0.014625                0.0              0.0              0.0   \n",
       "min          0.000000                0.0              0.0              0.0   \n",
       "25%          0.000000                0.0              0.0              0.0   \n",
       "50%          0.000000                0.0              0.0              0.0   \n",
       "75%          0.000000                0.0              0.0              0.0   \n",
       "max          1.000000                0.0              0.0              0.0   \n",
       "\n",
       "           engagement  is_afternoon   is_evening  is_latenight  \n",
       "count     4675.000000   4675.000000  4675.000000   4675.000000  \n",
       "unique            NaN           NaN          NaN           NaN  \n",
       "top               NaN           NaN          NaN           NaN  \n",
       "freq              NaN           NaN          NaN           NaN  \n",
       "mean     76711.190802      0.278503     0.263529      0.019037  \n",
       "std      60347.751316      0.448310     0.440594      0.136671  \n",
       "min          0.000000      0.000000     0.000000      0.000000  \n",
       "25%      32523.000000      0.000000     0.000000      0.000000  \n",
       "50%      68421.000000      0.000000     0.000000      0.000000  \n",
       "75%     106072.500000      1.000000     1.000000      0.000000  \n",
       "max     974628.000000      1.000000     1.000000      1.000000  \n",
       "\n",
       "[11 rows x 29 columns]"
      ]
     },
     "execution_count": 16,
     "metadata": {},
     "output_type": "execute_result"
    }
   ],
   "source": []
  },
  {
   "cell_type": "code",
   "execution_count": 17,
   "metadata": {
    "collapsed": true
   },
   "outputs": [],
   "source": []
  },
  {
   "cell_type": "code",
   "execution_count": null,
   "metadata": {
    "collapsed": true
   },
   "outputs": [],
   "source": []
  },
  {
   "cell_type": "code",
   "execution_count": 18,
   "metadata": {
    "collapsed": true
   },
   "outputs": [],
   "source": []
  },
  {
   "cell_type": "code",
   "execution_count": null,
   "metadata": {},
   "outputs": [],
   "source": []
  },
  {
   "cell_type": "code",
   "execution_count": null,
   "metadata": {},
   "outputs": [],
   "source": []
  },
  {
   "cell_type": "code",
   "execution_count": null,
   "metadata": {},
   "outputs": [],
   "source": []
  },
  {
   "cell_type": "code",
   "execution_count": null,
   "metadata": {
    "collapsed": true
   },
   "outputs": [],
   "source": []
  },
  {
   "cell_type": "code",
   "execution_count": null,
   "metadata": {},
   "outputs": [],
   "source": []
  },
  {
   "cell_type": "code",
   "execution_count": null,
   "metadata": {},
   "outputs": [],
   "source": []
  },
  {
   "cell_type": "code",
   "execution_count": 25,
   "metadata": {},
   "outputs": [
    {
     "name": "stdout",
     "output_type": "stream",
     "text": [
      "is_retweet\n"
     ]
    },
    {
     "data": {
      "image/png": "[encoded data removed]",
      "text/plain": [
       "<matplotlib.figure.Figure at 0x110a29710>"
      ]
     },
     "metadata": {},
     "output_type": "display_data"
    },
    {
     "name": "stdout",
     "output_type": "stream",
     "text": [
      "tweet_hour\n"
     ]
    },
    {
     "data": {
      "image/png": "[encoded data removed]",
      "text/plain": [
       "<matplotlib.figure.Figure at 0x1115c86d8>"
      ]
     },
     "metadata": {},
     "output_type": "display_data"
    },
    {
     "name": "stdout",
     "output_type": "stream",
     "text": [
      "src_iphone\n"
     ]
    },
    {
     "data": {
      "image/png": "[encoded data removed]",
      "text/plain": [
       "<matplotlib.figure.Figure at 0x111624eb8>"
      ]
     },
     "metadata": {},
     "output_type": "display_data"
    },
    {
     "name": "stdout",
     "output_type": "stream",
     "text": [
      "src_web_client\n"
     ]
    },
    {
     "data": {
      "image/png": "[encoded data removed]",
      "text/plain": [
       "<matplotlib.figure.Figure at 0x11161e470>"
      ]
     },
     "metadata": {},
     "output_type": "display_data"
    }
   ],
   "source": [
    "# Review Scatter plots\n",
    "\n"
   ]
  },
  {
   "cell_type": "code",
   "execution_count": null,
   "metadata": {
    "collapsed": true
   },
   "outputs": [],
   "source": []
  },
  {
   "cell_type": "code",
   "execution_count": null,
   "metadata": {
    "collapsed": true
   },
   "outputs": [],
   "source": []
  },
  {
   "cell_type": "markdown",
   "metadata": {},
   "source": [
    "# Natural Language Processing"
   ]
  },
  {
   "cell_type": "code",
   "execution_count": 26,
   "metadata": {},
   "outputs": [],
   "source": [
    "from textblob import TextBlob, Word\n",
    "from nltk.stem.snowball import SnowballStemmer"
   ]
  },
  {
   "cell_type": "code",
   "execution_count": 27,
   "metadata": {},
   "outputs": [],
   "source": [
    "tweet = TextBlob(dummy_trumptweets.loc[:,'text'][100])"
   ]
  },
  {
   "cell_type": "code",
   "execution_count": 28,
   "metadata": {},
   "outputs": [
    {
     "data": {
      "text/plain": [
       "TextBlob(\"chuck jones who is president of united steelworkers 1999 has done a terrible job representing workers. no wonder companies flee country!\")"
      ]
     },
     "execution_count": 28,
     "metadata": {},
     "output_type": "execute_result"
    }
   ],
   "source": [
    "# conver to all lower case\n",
    "\n",
    "tweet.lower()"
   ]
  },
  {
   "cell_type": "code",
   "execution_count": 29,
   "metadata": {},
   "outputs": [],
   "source": [
    "stemmer = SnowballStemmer('english')"
   ]
  },
  {
   "cell_type": "code",
   "execution_count": 30,
   "metadata": {},
   "outputs": [
    {
     "data": {
      "text/plain": [
       "['chuck',\n",
       " 'jone',\n",
       " 'who',\n",
       " 'is',\n",
       " 'presid',\n",
       " 'of',\n",
       " 'unit',\n",
       " 'steelwork',\n",
       " '1999',\n",
       " 'has',\n",
       " 'done',\n",
       " 'a',\n",
       " 'terribl',\n",
       " 'job',\n",
       " 'repres',\n",
       " 'worker',\n",
       " 'no',\n",
       " 'wonder',\n",
       " 'compani',\n",
       " 'flee',\n",
       " 'countri']"
      ]
     },
     "execution_count": 30,
     "metadata": {},
     "output_type": "execute_result"
    }
   ],
   "source": [
    "# stemming  off 's', 'es', 'ing'\n",
    "[stemmer.stem(text) for text in tweet.words.lower()]"
   ]
  },
  {
   "cell_type": "code",
   "execution_count": 31,
   "metadata": {},
   "outputs": [
    {
     "data": {
      "text/plain": [
       "['chuck',\n",
       " 'jones',\n",
       " 'who',\n",
       " 'is',\n",
       " 'president',\n",
       " 'of',\n",
       " 'united',\n",
       " 'steelworker',\n",
       " '1999',\n",
       " 'ha',\n",
       " 'done',\n",
       " 'a',\n",
       " 'terrible',\n",
       " 'job',\n",
       " 'representing',\n",
       " 'worker',\n",
       " 'no',\n",
       " 'wonder',\n",
       " 'company',\n",
       " 'flee',\n",
       " 'country']"
      ]
     },
     "execution_count": 31,
     "metadata": {},
     "output_type": "execute_result"
    }
   ],
   "source": [
    "#lemmatize words - more advanced form of deriving the root\n",
    "[text.lemmatize() for text in tweet.words.lower()]"
   ]
  },
  {
   "cell_type": "code",
   "execution_count": 32,
   "metadata": {},
   "outputs": [
    {
     "data": {
      "text/plain": [
       "['chuck',\n",
       " 'jones',\n",
       " 'who',\n",
       " 'be',\n",
       " 'president',\n",
       " 'of',\n",
       " 'unite',\n",
       " 'steelworkers',\n",
       " '1999',\n",
       " 'have',\n",
       " 'do',\n",
       " 'a',\n",
       " 'terrible',\n",
       " 'job',\n",
       " 'represent',\n",
       " 'workers',\n",
       " 'no',\n",
       " 'wonder',\n",
       " 'company',\n",
       " 'flee',\n",
       " 'country']"
      ]
     },
     "execution_count": 32,
     "metadata": {},
     "output_type": "execute_result"
    }
   ],
   "source": [
    "#lemmatize words - but assume words is a verb\n",
    "[text.lemmatize(pos='v') for text in tweet.words.lower()]"
   ]
  },
  {
   "cell_type": "code",
   "execution_count": null,
   "metadata": {
    "collapsed": true
   },
   "outputs": [],
   "source": []
  },
  {
   "cell_type": "markdown",
   "metadata": {},
   "source": [
    "# Sentiment Analysis"
   ]
  },
  {
   "cell_type": "code",
   "execution_count": 36,
   "metadata": {
    "collapsed": true
   },
   "outputs": [],
   "source": [
    "# Define a function that accepts text and returns the polarity\n",
    "\n",
    "def detect_sentiment(text):\n",
    "    return TextBlob(text).sentiment.polarity"
   ]
  },
  {
   "cell_type": "code",
   "execution_count": 91,
   "metadata": {},
   "outputs": [],
   "source": [
    "# Create new sentiment column to the dataframe\n",
    "dummy_trumptweets.loc[:, 'sentiment'] = dummy_trumptweets.loc[:, 'text'].apply(detect_sentiment)\n"
   ]
  },
  {
   "cell_type": "code",
   "execution_count": 59,
   "metadata": {},
   "outputs": [],
   "source": []
  },
  {
   "cell_type": "code",
   "execution_count": 63,
   "metadata": {
    "collapsed": true
   },
   "outputs": [],
   "source": [
    "#Bin Sentimentl into dummy variables"
   ]
  },
  {
   "cell_type": "code",
   "execution_count": 71,
   "metadata": {},
   "outputs": [],
   "source": [
    "# dummy_trumptweets.loc[:, 'high_positive_sentiment'] = np.where(dummy_trumptweets.loc[:, 'sentiment'] > 0.5, 1, 0)"
   ]
  },
  {
   "cell_type": "code",
   "execution_count": 76,
   "metadata": {},
   "outputs": [],
   "source": [
    "dummy_trumptweets.loc[:, 'moderately_positive_sentiment'] = np.where((dummy_trumptweets.loc[:, 'sentiment'] >= 0) & (dummy_trumptweets.loc[:, 'sentiment'] < .5), 1, 0)"
   ]
  },
  {
   "cell_type": "code",
   "execution_count": 78,
   "metadata": {
    "collapsed": true
   },
   "outputs": [],
   "source": [
    "dummy_trumptweets.loc[:, 'moderately_negative_sentiment'] = np.where((dummy_trumptweets.loc[:, 'sentiment'] >= -.5) & (dummy_trumptweets.loc[:, 'sentiment'] < 0), 1, 0)"
   ]
  },
  {
   "cell_type": "code",
   "execution_count": 80,
   "metadata": {
    "collapsed": true
   },
   "outputs": [],
   "source": [
    "dummy_trumptweets.loc[:, 'very_negative_sentiment'] = np.where((dummy_trumptweets.loc[:, 'sentiment'] >= -1) & (dummy_trumptweets.loc[:, 'sentiment'] < -.5), 1, 0)"
   ]
  },
  {
   "cell_type": "code",
   "execution_count": null,
   "metadata": {
    "collapsed": true
   },
   "outputs": [],
   "source": []
  },
  {
   "cell_type": "code",
   "execution_count": null,
   "metadata": {
    "collapsed": true
   },
   "outputs": [],
   "source": []
  },
  {
   "cell_type": "code",
   "execution_count": null,
   "metadata": {},
   "outputs": [],
   "source": [
    "#Testing Polynomial Features on Sentiment\n",
    "\n",
    "from sklearn.preprocessing import PolynomialFeatures\n",
    "\n",
    "X = (dummy_trumptweets.loc[:, ['sentiment']])\n",
    "\n",
    "pf = PolynomialFeatures(degree=3, include_bias=False)\n",
    "pf.fit(X)\n",
    "X = pf.transform(X)"
   ]
  },
  {
   "cell_type": "code",
   "execution_count": 60,
   "metadata": {},
   "outputs": [
    {
     "data": {
      "text/plain": [
       "array([[ 0.10416667,  0.01085069,  0.00113028],\n",
       "       [ 0.        ,  0.        ,  0.        ],\n",
       "       [ 0.57410714,  0.32959901,  0.18922515],\n",
       "       ..., \n",
       "       [ 0.34965986,  0.12226202,  0.04275012],\n",
       "       [ 0.16111111,  0.02595679,  0.00418193],\n",
       "       [ 0.18      ,  0.0324    ,  0.005832  ]])"
      ]
     },
     "execution_count": 60,
     "metadata": {},
     "output_type": "execute_result"
    }
   ],
   "source": [
    "X"
   ]
  },
  {
   "cell_type": "code",
   "execution_count": 61,
   "metadata": {
    "collapsed": true
   },
   "outputs": [],
   "source": [
    "lr = LinearRegression()\n",
    "lr.fit(X, y)\n",
    "\n",
    "y_fit = lr.predict(X)\n"
   ]
  },
  {
   "cell_type": "code",
   "execution_count": null,
   "metadata": {
    "collapsed": true
   },
   "outputs": [],
   "source": []
  },
  {
   "cell_type": "code",
   "execution_count": 62,
   "metadata": {},
   "outputs": [
    {
     "data": {
      "text/plain": [
       "<matplotlib.collections.PathCollection at 0x1a21979208>"
      ]
     },
     "execution_count": 62,
     "metadata": {},
     "output_type": "execute_result"
    },
    {
     "data": {
      "image/png": "[encoded data removed]",
      "text/plain": [
       "<matplotlib.figure.Figure at 0x1a21a69908>"
      ]
     },
     "metadata": {},
     "output_type": "display_data"
    }
   ],
   "source": [
    "plt.plot(dummy_trumptweets.loc[:, 'sentiment'].values, y_fit, color='r')\n",
    "plt.scatter(dummy_trumptweets.loc[:, 'sentiment'], y)"
   ]
  },
  {
   "cell_type": "code",
   "execution_count": null,
   "metadata": {
    "collapsed": true
   },
   "outputs": [],
   "source": []
  },
  {
   "cell_type": "markdown",
   "metadata": {},
   "source": [
    "# Analysis and Visualizations"
   ]
  },
  {
   "cell_type": "code",
   "execution_count": 113,
   "metadata": {},
   "outputs": [
    {
     "data": {
      "text/plain": [
       "Twitter for iPhone     3341\n",
       "Twitter for Android     861\n",
       "Twitter Web Client      195\n",
       "Media Studio            130\n",
       "Twitter Ads              94\n",
       "Twitter for iPad         51\n",
       "TweetDeck                 2\n",
       "Periscope                 1\n",
       "Name: source, dtype: int64"
      ]
     },
     "execution_count": 113,
     "metadata": {},
     "output_type": "execute_result"
    }
   ],
   "source": [
    "dummy_trumptweets.source.value_counts()"
   ]
  },
  {
   "cell_type": "code",
   "execution_count": 92,
   "metadata": {},
   "outputs": [
    {
     "data": {
      "text/html": [
       "<div>\n",
       "<style>\n",
       "    .dataframe thead tr:only-child th {\n",
       "        text-align: right;\n",
       "    }\n",
       "\n",
       "    .dataframe thead th {\n",
       "        text-align: left;\n",
       "    }\n",
       "\n",
       "    .dataframe tbody tr th {\n",
       "        vertical-align: top;\n",
       "    }\n",
       "</style>\n",
       "<table border=\"1\" class=\"dataframe\">\n",
       "  <thead>\n",
       "    <tr style=\"text-align: right;\">\n",
       "      <th></th>\n",
       "      <th>source</th>\n",
       "      <th>text</th>\n",
       "      <th>retweet_count</th>\n",
       "      <th>favorite_count</th>\n",
       "      <th>is_retweet</th>\n",
       "      <th>id_str</th>\n",
       "      <th>tweet_hour</th>\n",
       "      <th>src_web_client</th>\n",
       "      <th>src_iphone</th>\n",
       "      <th>src_tweetdeck</th>\n",
       "      <th>...</th>\n",
       "      <th>src_forwebsites</th>\n",
       "      <th>engagement</th>\n",
       "      <th>is_afternoon</th>\n",
       "      <th>is_evening</th>\n",
       "      <th>is_latenight</th>\n",
       "      <th>log_engagement</th>\n",
       "      <th>sentiment</th>\n",
       "      <th>moderately_positive_sentiment</th>\n",
       "      <th>moderately_negative_sentiment</th>\n",
       "      <th>very_negative_sentiment</th>\n",
       "    </tr>\n",
       "  </thead>\n",
       "  <tbody>\n",
       "    <tr>\n",
       "      <th>count</th>\n",
       "      <td>4675</td>\n",
       "      <td>4675</td>\n",
       "      <td>4675.000000</td>\n",
       "      <td>4675.000000</td>\n",
       "      <td>4675</td>\n",
       "      <td>4.675000e+03</td>\n",
       "      <td>4675.000000</td>\n",
       "      <td>4675.000000</td>\n",
       "      <td>4675.000000</td>\n",
       "      <td>4675.000000</td>\n",
       "      <td>...</td>\n",
       "      <td>4675.0</td>\n",
       "      <td>4675.000000</td>\n",
       "      <td>4675.000000</td>\n",
       "      <td>4675.000000</td>\n",
       "      <td>4675.000000</td>\n",
       "      <td>4675.000000</td>\n",
       "      <td>4675.000000</td>\n",
       "      <td>4675.000000</td>\n",
       "      <td>4675.000000</td>\n",
       "      <td>4675.000000</td>\n",
       "    </tr>\n",
       "    <tr>\n",
       "      <th>unique</th>\n",
       "      <td>8</td>\n",
       "      <td>4665</td>\n",
       "      <td>NaN</td>\n",
       "      <td>NaN</td>\n",
       "      <td>2</td>\n",
       "      <td>NaN</td>\n",
       "      <td>NaN</td>\n",
       "      <td>NaN</td>\n",
       "      <td>NaN</td>\n",
       "      <td>NaN</td>\n",
       "      <td>...</td>\n",
       "      <td>NaN</td>\n",
       "      <td>NaN</td>\n",
       "      <td>NaN</td>\n",
       "      <td>NaN</td>\n",
       "      <td>NaN</td>\n",
       "      <td>NaN</td>\n",
       "      <td>NaN</td>\n",
       "      <td>NaN</td>\n",
       "      <td>NaN</td>\n",
       "      <td>NaN</td>\n",
       "    </tr>\n",
       "    <tr>\n",
       "      <th>top</th>\n",
       "      <td>Twitter for iPhone</td>\n",
       "      <td>MAKE AMERICA GREAT AGAIN!</td>\n",
       "      <td>NaN</td>\n",
       "      <td>NaN</td>\n",
       "      <td>False</td>\n",
       "      <td>NaN</td>\n",
       "      <td>NaN</td>\n",
       "      <td>NaN</td>\n",
       "      <td>NaN</td>\n",
       "      <td>NaN</td>\n",
       "      <td>...</td>\n",
       "      <td>NaN</td>\n",
       "      <td>NaN</td>\n",
       "      <td>NaN</td>\n",
       "      <td>NaN</td>\n",
       "      <td>NaN</td>\n",
       "      <td>NaN</td>\n",
       "      <td>NaN</td>\n",
       "      <td>NaN</td>\n",
       "      <td>NaN</td>\n",
       "      <td>NaN</td>\n",
       "    </tr>\n",
       "    <tr>\n",
       "      <th>freq</th>\n",
       "      <td>3341</td>\n",
       "      <td>7</td>\n",
       "      <td>NaN</td>\n",
       "      <td>NaN</td>\n",
       "      <td>4228</td>\n",
       "      <td>NaN</td>\n",
       "      <td>NaN</td>\n",
       "      <td>NaN</td>\n",
       "      <td>NaN</td>\n",
       "      <td>NaN</td>\n",
       "      <td>...</td>\n",
       "      <td>NaN</td>\n",
       "      <td>NaN</td>\n",
       "      <td>NaN</td>\n",
       "      <td>NaN</td>\n",
       "      <td>NaN</td>\n",
       "      <td>NaN</td>\n",
       "      <td>NaN</td>\n",
       "      <td>NaN</td>\n",
       "      <td>NaN</td>\n",
       "      <td>NaN</td>\n",
       "    </tr>\n",
       "    <tr>\n",
       "      <th>mean</th>\n",
       "      <td>NaN</td>\n",
       "      <td>NaN</td>\n",
       "      <td>16402.736898</td>\n",
       "      <td>60308.453904</td>\n",
       "      <td>NaN</td>\n",
       "      <td>8.542120e+17</td>\n",
       "      <td>12.643636</td>\n",
       "      <td>0.041711</td>\n",
       "      <td>0.714652</td>\n",
       "      <td>0.000428</td>\n",
       "      <td>...</td>\n",
       "      <td>0.0</td>\n",
       "      <td>76711.191658</td>\n",
       "      <td>0.278503</td>\n",
       "      <td>0.263529</td>\n",
       "      <td>0.019037</td>\n",
       "      <td>10.874569</td>\n",
       "      <td>0.143641</td>\n",
       "      <td>0.606203</td>\n",
       "      <td>0.191016</td>\n",
       "      <td>0.026738</td>\n",
       "    </tr>\n",
       "    <tr>\n",
       "      <th>std</th>\n",
       "      <td>NaN</td>\n",
       "      <td>NaN</td>\n",
       "      <td>13960.319769</td>\n",
       "      <td>48323.015209</td>\n",
       "      <td>NaN</td>\n",
       "      <td>6.611347e+16</td>\n",
       "      <td>6.973148</td>\n",
       "      <td>0.199950</td>\n",
       "      <td>0.451628</td>\n",
       "      <td>0.020681</td>\n",
       "      <td>...</td>\n",
       "      <td>0.0</td>\n",
       "      <td>60347.750228</td>\n",
       "      <td>0.448310</td>\n",
       "      <td>0.440594</td>\n",
       "      <td>0.136671</td>\n",
       "      <td>1.084766</td>\n",
       "      <td>0.354736</td>\n",
       "      <td>0.488643</td>\n",
       "      <td>0.393144</td>\n",
       "      <td>0.161334</td>\n",
       "    </tr>\n",
       "    <tr>\n",
       "      <th>min</th>\n",
       "      <td>NaN</td>\n",
       "      <td>NaN</td>\n",
       "      <td>0.000000</td>\n",
       "      <td>0.000000</td>\n",
       "      <td>NaN</td>\n",
       "      <td>7.549926e+17</td>\n",
       "      <td>0.000000</td>\n",
       "      <td>0.000000</td>\n",
       "      <td>0.000000</td>\n",
       "      <td>0.000000</td>\n",
       "      <td>...</td>\n",
       "      <td>0.0</td>\n",
       "      <td>1.000000</td>\n",
       "      <td>0.000000</td>\n",
       "      <td>0.000000</td>\n",
       "      <td>0.000000</td>\n",
       "      <td>0.000000</td>\n",
       "      <td>-1.000000</td>\n",
       "      <td>0.000000</td>\n",
       "      <td>0.000000</td>\n",
       "      <td>0.000000</td>\n",
       "    </tr>\n",
       "    <tr>\n",
       "      <th>25%</th>\n",
       "      <td>NaN</td>\n",
       "      <td>NaN</td>\n",
       "      <td>8770.000000</td>\n",
       "      <td>23298.500000</td>\n",
       "      <td>NaN</td>\n",
       "      <td>7.889149e+17</td>\n",
       "      <td>10.000000</td>\n",
       "      <td>0.000000</td>\n",
       "      <td>0.000000</td>\n",
       "      <td>0.000000</td>\n",
       "      <td>...</td>\n",
       "      <td>0.0</td>\n",
       "      <td>32523.000000</td>\n",
       "      <td>0.000000</td>\n",
       "      <td>0.000000</td>\n",
       "      <td>0.000000</td>\n",
       "      <td>10.389703</td>\n",
       "      <td>0.000000</td>\n",
       "      <td>0.000000</td>\n",
       "      <td>0.000000</td>\n",
       "      <td>0.000000</td>\n",
       "    </tr>\n",
       "    <tr>\n",
       "      <th>50%</th>\n",
       "      <td>NaN</td>\n",
       "      <td>NaN</td>\n",
       "      <td>13781.000000</td>\n",
       "      <td>55454.000000</td>\n",
       "      <td>NaN</td>\n",
       "      <td>8.569286e+17</td>\n",
       "      <td>13.000000</td>\n",
       "      <td>0.000000</td>\n",
       "      <td>1.000000</td>\n",
       "      <td>0.000000</td>\n",
       "      <td>...</td>\n",
       "      <td>0.0</td>\n",
       "      <td>68421.000000</td>\n",
       "      <td>0.000000</td>\n",
       "      <td>0.000000</td>\n",
       "      <td>0.000000</td>\n",
       "      <td>11.133435</td>\n",
       "      <td>0.008333</td>\n",
       "      <td>1.000000</td>\n",
       "      <td>0.000000</td>\n",
       "      <td>0.000000</td>\n",
       "    </tr>\n",
       "    <tr>\n",
       "      <th>75%</th>\n",
       "      <td>NaN</td>\n",
       "      <td>NaN</td>\n",
       "      <td>20583.000000</td>\n",
       "      <td>86214.000000</td>\n",
       "      <td>NaN</td>\n",
       "      <td>9.131525e+17</td>\n",
       "      <td>19.000000</td>\n",
       "      <td>0.000000</td>\n",
       "      <td>1.000000</td>\n",
       "      <td>0.000000</td>\n",
       "      <td>...</td>\n",
       "      <td>0.0</td>\n",
       "      <td>106072.500000</td>\n",
       "      <td>1.000000</td>\n",
       "      <td>1.000000</td>\n",
       "      <td>0.000000</td>\n",
       "      <td>11.571878</td>\n",
       "      <td>0.350000</td>\n",
       "      <td>1.000000</td>\n",
       "      <td>0.000000</td>\n",
       "      <td>0.000000</td>\n",
       "    </tr>\n",
       "    <tr>\n",
       "      <th>max</th>\n",
       "      <td>NaN</td>\n",
       "      <td>NaN</td>\n",
       "      <td>369530.000000</td>\n",
       "      <td>633253.000000</td>\n",
       "      <td>NaN</td>\n",
       "      <td>9.714098e+17</td>\n",
       "      <td>23.000000</td>\n",
       "      <td>1.000000</td>\n",
       "      <td>1.000000</td>\n",
       "      <td>1.000000</td>\n",
       "      <td>...</td>\n",
       "      <td>0.0</td>\n",
       "      <td>974628.000000</td>\n",
       "      <td>1.000000</td>\n",
       "      <td>1.000000</td>\n",
       "      <td>1.000000</td>\n",
       "      <td>13.789811</td>\n",
       "      <td>1.000000</td>\n",
       "      <td>1.000000</td>\n",
       "      <td>1.000000</td>\n",
       "      <td>1.000000</td>\n",
       "    </tr>\n",
       "  </tbody>\n",
       "</table>\n",
       "<p>11 rows × 34 columns</p>\n",
       "</div>"
      ],
      "text/plain": [
       "                    source                       text  retweet_count  \\\n",
       "count                 4675                       4675    4675.000000   \n",
       "unique                   8                       4665            NaN   \n",
       "top     Twitter for iPhone  MAKE AMERICA GREAT AGAIN!            NaN   \n",
       "freq                  3341                          7            NaN   \n",
       "mean                   NaN                        NaN   16402.736898   \n",
       "std                    NaN                        NaN   13960.319769   \n",
       "min                    NaN                        NaN       0.000000   \n",
       "25%                    NaN                        NaN    8770.000000   \n",
       "50%                    NaN                        NaN   13781.000000   \n",
       "75%                    NaN                        NaN   20583.000000   \n",
       "max                    NaN                        NaN  369530.000000   \n",
       "\n",
       "        favorite_count is_retweet        id_str   tweet_hour  src_web_client  \\\n",
       "count      4675.000000       4675  4.675000e+03  4675.000000     4675.000000   \n",
       "unique             NaN          2           NaN          NaN             NaN   \n",
       "top                NaN      False           NaN          NaN             NaN   \n",
       "freq               NaN       4228           NaN          NaN             NaN   \n",
       "mean      60308.453904        NaN  8.542120e+17    12.643636        0.041711   \n",
       "std       48323.015209        NaN  6.611347e+16     6.973148        0.199950   \n",
       "min           0.000000        NaN  7.549926e+17     0.000000        0.000000   \n",
       "25%       23298.500000        NaN  7.889149e+17    10.000000        0.000000   \n",
       "50%       55454.000000        NaN  8.569286e+17    13.000000        0.000000   \n",
       "75%       86214.000000        NaN  9.131525e+17    19.000000        0.000000   \n",
       "max      633253.000000        NaN  9.714098e+17    23.000000        1.000000   \n",
       "\n",
       "         src_iphone  src_tweetdeck           ...             src_forwebsites  \\\n",
       "count   4675.000000    4675.000000           ...                      4675.0   \n",
       "unique          NaN            NaN           ...                         NaN   \n",
       "top             NaN            NaN           ...                         NaN   \n",
       "freq            NaN            NaN           ...                         NaN   \n",
       "mean       0.714652       0.000428           ...                         0.0   \n",
       "std        0.451628       0.020681           ...                         0.0   \n",
       "min        0.000000       0.000000           ...                         0.0   \n",
       "25%        0.000000       0.000000           ...                         0.0   \n",
       "50%        1.000000       0.000000           ...                         0.0   \n",
       "75%        1.000000       0.000000           ...                         0.0   \n",
       "max        1.000000       1.000000           ...                         0.0   \n",
       "\n",
       "           engagement  is_afternoon   is_evening  is_latenight  \\\n",
       "count     4675.000000   4675.000000  4675.000000   4675.000000   \n",
       "unique            NaN           NaN          NaN           NaN   \n",
       "top               NaN           NaN          NaN           NaN   \n",
       "freq              NaN           NaN          NaN           NaN   \n",
       "mean     76711.191658      0.278503     0.263529      0.019037   \n",
       "std      60347.750228      0.448310     0.440594      0.136671   \n",
       "min          1.000000      0.000000     0.000000      0.000000   \n",
       "25%      32523.000000      0.000000     0.000000      0.000000   \n",
       "50%      68421.000000      0.000000     0.000000      0.000000   \n",
       "75%     106072.500000      1.000000     1.000000      0.000000   \n",
       "max     974628.000000      1.000000     1.000000      1.000000   \n",
       "\n",
       "        log_engagement    sentiment  moderately_positive_sentiment  \\\n",
       "count      4675.000000  4675.000000                    4675.000000   \n",
       "unique             NaN          NaN                            NaN   \n",
       "top                NaN          NaN                            NaN   \n",
       "freq               NaN          NaN                            NaN   \n",
       "mean         10.874569     0.143641                       0.606203   \n",
       "std           1.084766     0.354736                       0.488643   \n",
       "min           0.000000    -1.000000                       0.000000   \n",
       "25%          10.389703     0.000000                       0.000000   \n",
       "50%          11.133435     0.008333                       1.000000   \n",
       "75%          11.571878     0.350000                       1.000000   \n",
       "max          13.789811     1.000000                       1.000000   \n",
       "\n",
       "        moderately_negative_sentiment  very_negative_sentiment  \n",
       "count                     4675.000000              4675.000000  \n",
       "unique                            NaN                      NaN  \n",
       "top                               NaN                      NaN  \n",
       "freq                              NaN                      NaN  \n",
       "mean                         0.191016                 0.026738  \n",
       "std                          0.393144                 0.161334  \n",
       "min                          0.000000                 0.000000  \n",
       "25%                          0.000000                 0.000000  \n",
       "50%                          0.000000                 0.000000  \n",
       "75%                          0.000000                 0.000000  \n",
       "max                          1.000000                 1.000000  \n",
       "\n",
       "[11 rows x 34 columns]"
      ]
     },
     "execution_count": 92,
     "metadata": {},
     "output_type": "execute_result"
    }
   ],
   "source": [
    "#describe all\n",
    "\n",
    "dummy_trumptweets.describe(include='all')"
   ]
  },
  {
   "cell_type": "code",
   "execution_count": null,
   "metadata": {
    "collapsed": true
   },
   "outputs": [],
   "source": [
    "#boxplot of log(engagement)\n",
    "\n",
    "dummy_trumptweets.loc[:,'log_engagement'].plot(kind='box')"
   ]
  },
  {
   "cell_type": "code",
   "execution_count": null,
   "metadata": {
    "collapsed": true
   },
   "outputs": [],
   "source": [
    "#Histogram of log(engagement)\n",
    "\n",
    "dummy_trumptweets.loc[:, 'log_engagement'].hist(bins=100)"
   ]
  },
  {
   "cell_type": "code",
   "execution_count": null,
   "metadata": {
    "collapsed": true
   },
   "outputs": [],
   "source": [
    "#Histogram of tweet_hour \n",
    "\n",
    "dummy_trumptweets.loc[:, 'tweet_hour'].hist(bins=24)"
   ]
  },
  {
   "cell_type": "code",
   "execution_count": 93,
   "metadata": {},
   "outputs": [
    {
     "data": {
      "text/plain": [
       "Index(['source', 'text', 'retweet_count', 'favorite_count', 'is_retweet',\n",
       "       'id_str', 'tweet_hour', 'src_web_client', 'src_iphone', 'src_tweetdeck',\n",
       "       'src_twitlonger', 'src_instagram', 'src_mediastudio', 'src_facebook',\n",
       "       'src_bberry', 'src_twitter_ads', 'src_mobilewebm5', 'src_ipad',\n",
       "       'src_twitlonger', 'src_qanda', 'src_vine', 'src_periscope',\n",
       "       'src_neatly_bberry', 'src_mirror_ipad', 'src_forwebsites', 'engagement',\n",
       "       'is_afternoon', 'is_evening', 'is_latenight', 'log_engagement',\n",
       "       'sentiment', 'moderately_positive_sentiment',\n",
       "       'moderately_negative_sentiment', 'very_negative_sentiment'],\n",
       "      dtype='object')"
      ]
     },
     "execution_count": 93,
     "metadata": {},
     "output_type": "execute_result"
    }
   ],
   "source": [
    "dummy_trumptweets.columns"
   ]
  },
  {
   "cell_type": "code",
   "execution_count": 100,
   "metadata": {},
   "outputs": [
    {
     "ename": "IndentationError",
     "evalue": "unexpected indent (<ipython-input-100-42ff276aeb96>, line 2)",
     "output_type": "error",
     "traceback": [
      "\u001b[0;36m  File \u001b[0;32m\"<ipython-input-100-42ff276aeb96>\"\u001b[0;36m, line \u001b[0;32m2\u001b[0m\n\u001b[0;31m    'src_web_client',\u001b[0m\n\u001b[0m    ^\u001b[0m\n\u001b[0;31mIndentationError\u001b[0m\u001b[0;31m:\u001b[0m unexpected indent\n"
     ]
    }
   ],
   "source": [
    "\n",
    "\n",
    "\n",
    "feature_cols = ['is_retweet',\n",
    "                'src_web_client', \n",
    "                'src_iphone', \n",
    "                'src_tweetdeck',\n",
    "                'src_twitlonger', \n",
    "                'src_instagram', \n",
    "                'src_mediastudio', \n",
    "                'src_facebook',\n",
    "                'src_bberry', \n",
    "                'src_twitter_ads', \n",
    "                'src_mobilewebm5', \n",
    "                'src_ipad',\n",
    "                'src_twitlonger', \n",
    "                'src_qanda', \n",
    "                'src_vine', \n",
    "                'src_periscope',\n",
    "                'src_neatly_bberry', \n",
    "                'src_mirror_ipad', \n",
    "                'src_forwebsites', \n",
    "                'is_afternoon', \n",
    "                'is_evening', \n",
    "                'is_latenight', \n",
    "                'moderately_positive_sentiment',\n",
    "                'moderately_negative_sentiment', \n",
    "                'very_negative_sentiment']"
   ]
  },
  {
   "cell_type": "code",
   "execution_count": 101,
   "metadata": {
    "collapsed": true
   },
   "outputs": [],
   "source": [
    "feature_cols = ['is_retweet', \n",
    "                'is_afternoon', \n",
    "                'is_evening', \n",
    "                'is_latenight', \n",
    "                'moderately_positive_sentiment',\n",
    "                'moderately_negative_sentiment', \n",
    "                'very_negative_sentiment']"
   ]
  },
  {
   "cell_type": "code",
   "execution_count": 105,
   "metadata": {},
   "outputs": [
    {
     "data": {
      "image/png": "[encoded data removed]",
      "text/plain": [
       "<matplotlib.figure.Figure at 0x1a24f1ee10>"
      ]
     },
     "metadata": {},
     "output_type": "display_data"
    }
   ],
   "source": [
    "sns.pairplot(dummy_trumptweets,\n",
    "            x_vars=feature_cols,\n",
    "            y_vars='log_engagement',\n",
    "            kind='reg',\n",
    "            plot_kws={'scatter_kws': {'s':1, 'alpha':.3},\n",
    "                      'line_kws': {'color':'red'}\n",
    "                     }\n",
    "            );"
   ]
  },
  {
   "cell_type": "code",
   "execution_count": 103,
   "metadata": {},
   "outputs": [
    {
     "data": {
      "image/png": "[encoded data removed]",
      "text/plain": [
       "<matplotlib.figure.Figure at 0x1a2533ecf8>"
      ]
     },
     "metadata": {},
     "output_type": "display_data"
    }
   ],
   "source": [
    "#Insert Correlation Matrix with HeatMap\n",
    "\n",
    "sns.heatmap(dummy_trumptweets.corr(),\n",
    "            vmin=-1,\n",
    "            vmax = 1,\n",
    "            cmap = sns.diverging_palette(220, 10, n=21),\n",
    "            );"
   ]
  },
  {
   "cell_type": "code",
   "execution_count": 104,
   "metadata": {
    "scrolled": false
   },
   "outputs": [
    {
     "name": "stdout",
     "output_type": "stream",
     "text": [
      "is_retweet\n"
     ]
    },
    {
     "data": {
      "image/png": "[encoded data removed]",
      "text/plain": [
       "<matplotlib.figure.Figure at 0x1a24e01780>"
      ]
     },
     "metadata": {},
     "output_type": "display_data"
    },
    {
     "name": "stdout",
     "output_type": "stream",
     "text": [
      "is_afternoon\n"
     ]
    },
    {
     "data": {
      "image/png": "[encoded data removed]",
      "text/plain": [
       "<matplotlib.figure.Figure at 0x1a218d3a20>"
      ]
     },
     "metadata": {},
     "output_type": "display_data"
    },
    {
     "name": "stdout",
     "output_type": "stream",
     "text": [
      "is_evening\n"
     ]
    },
    {
     "data": {
      "image/png": "[encoded data removed]",
      "text/plain": [
       "<matplotlib.figure.Figure at 0x1a24d57b70>"
      ]
     },
     "metadata": {},
     "output_type": "display_data"
    },
    {
     "name": "stdout",
     "output_type": "stream",
     "text": [
      "is_latenight\n"
     ]
    },
    {
     "data": {
      "image/png": "[encoded data removed]",
      "text/plain": [
       "<matplotlib.figure.Figure at 0x1a24fada58>"
      ]
     },
     "metadata": {},
     "output_type": "display_data"
    },
    {
     "name": "stdout",
     "output_type": "stream",
     "text": [
      "moderately_positive_sentiment\n"
     ]
    },
    {
     "data": {
      "image/png": "[encoded data removed]",
      "text/plain": [
       "<matplotlib.figure.Figure at 0x1a24e183c8>"
      ]
     },
     "metadata": {},
     "output_type": "display_data"
    },
    {
     "name": "stdout",
     "output_type": "stream",
     "text": [
      "moderately_negative_sentiment\n"
     ]
    },
    {
     "data": {
      "image/png": "[encoded data removed]",
      "text/plain": [
       "<matplotlib.figure.Figure at 0x1a24d8a470>"
      ]
     },
     "metadata": {},
     "output_type": "display_data"
    },
    {
     "name": "stdout",
     "output_type": "stream",
     "text": [
      "very_negative_sentiment\n"
     ]
    },
    {
     "data": {
      "image/png": "[encoded data removed]",
      "text/plain": [
       "<matplotlib.figure.Figure at 0x1a24d8a6d8>"
      ]
     },
     "metadata": {},
     "output_type": "display_data"
    }
   ],
   "source": [
    "#Review Scatter Plots\n",
    "\n",
    "y = dummy_trumptweets.loc[:, 'log_engagement']\n",
    "\n",
    "for var in feature_cols:\n",
    "    print(var)\n",
    "    x = dummy_trumptweets.loc[:, var]\n",
    "    plt.scatter(x, y)\n",
    "    plt.show()"
   ]
  },
  {
   "cell_type": "code",
   "execution_count": null,
   "metadata": {
    "collapsed": true
   },
   "outputs": [],
   "source": []
  },
  {
   "cell_type": "markdown",
   "metadata": {},
   "source": [
    "# Linear Regression"
   ]
  },
  {
   "cell_type": "code",
   "execution_count": null,
   "metadata": {
    "collapsed": true
   },
   "outputs": [],
   "source": []
  },
  {
   "cell_type": "code",
   "execution_count": 106,
   "metadata": {
    "collapsed": true
   },
   "outputs": [],
   "source": [
    "X = dummy_trumptweets.loc[:, feature_cols]\n",
    "y = dummy_trumptweets.loc[:, 'log_engagement']\n"
   ]
  },
  {
   "cell_type": "code",
   "execution_count": 107,
   "metadata": {
    "collapsed": true
   },
   "outputs": [],
   "source": [
    "#Split Train and Test\n",
    "\n",
    "X_train, X_test, y_train, y_test = train_test_split(X, y, random_state=1)"
   ]
  },
  {
   "cell_type": "code",
   "execution_count": 108,
   "metadata": {},
   "outputs": [
    {
     "data": {
      "text/plain": [
       "LinearRegression(copy_X=True, fit_intercept=True, n_jobs=1, normalize=False)"
      ]
     },
     "execution_count": 108,
     "metadata": {},
     "output_type": "execute_result"
    }
   ],
   "source": [
    "# model on the training set of data\n",
    "\n",
    "lr = LinearRegression()\n",
    "lr.fit(X_train, y_train)"
   ]
  },
  {
   "cell_type": "code",
   "execution_count": 109,
   "metadata": {
    "collapsed": true
   },
   "outputs": [],
   "source": [
    "# predict on the test set for X\n",
    "\n",
    "y_pred = lr.predict(X_test)"
   ]
  },
  {
   "cell_type": "code",
   "execution_count": 110,
   "metadata": {},
   "outputs": [
    {
     "name": "stdout",
     "output_type": "stream",
     "text": [
      "0.81435367821\n"
     ]
    }
   ],
   "source": [
    "# compare predicted results against the test set\n",
    "\n",
    "#print(metrics.mean_squared_error(y_train, lr.predict(X_train)))\n",
    "\n",
    "print(metrics.mean_squared_error(y_test, y_pred))"
   ]
  },
  {
   "cell_type": "code",
   "execution_count": null,
   "metadata": {
    "collapsed": true
   },
   "outputs": [],
   "source": []
  },
  {
   "cell_type": "code",
   "execution_count": 111,
   "metadata": {},
   "outputs": [
    {
     "data": {
      "text/plain": [
       "1.1827115079589294"
      ]
     },
     "execution_count": 111,
     "metadata": {},
     "output_type": "execute_result"
    }
   ],
   "source": [
    "#Create Benchmark of Mean Values\n",
    "\n",
    "y_pred_null = np.ones(y_test.shape) * y_train.mean()\n",
    "\n",
    "#compare y_test against the y_means\n",
    "metrics.mean_squared_error(y_test, y_pred_null)"
   ]
  },
  {
   "cell_type": "code",
   "execution_count": 112,
   "metadata": {},
   "outputs": [
    {
     "name": "stdout",
     "output_type": "stream",
     "text": [
      "11.226384712\n",
      "[-1.97232317 -0.25955238 -0.24490816 -0.28486298 -0.08210169  0.10024365\n",
      "  0.22730542]\n"
     ]
    }
   ],
   "source": [
    "print(lr.intercept_)\n",
    "print(lr.coef_)"
   ]
  },
  {
   "cell_type": "code",
   "execution_count": null,
   "metadata": {
    "collapsed": true
   },
   "outputs": [],
   "source": []
  },
  {
   "cell_type": "code",
   "execution_count": null,
   "metadata": {
    "collapsed": true
   },
   "outputs": [],
   "source": []
  },
  {
   "cell_type": "code",
   "execution_count": null,
   "metadata": {
    "collapsed": true
   },
   "outputs": [],
   "source": []
  }
 ],
 "metadata": {
  "kernelspec": {
   "display_name": "Python 3",
   "language": "python",
   "name": "python3"
  },
  "language_info": {
   "codemirror_mode": {
    "name": "ipython",
    "version": 3
   },
   "file_extension": ".py",
   "mimetype": "text/x-python",
   "name": "python",
   "nbconvert_exporter": "python",
   "pygments_lexer": "ipython3",
   "version": "3.6.3"
  }
 },
 "nbformat": 4,
 "nbformat_minor": 2
}
