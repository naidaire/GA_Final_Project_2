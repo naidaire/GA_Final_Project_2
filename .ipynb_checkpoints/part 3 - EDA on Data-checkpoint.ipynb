{
 "cells": [
  {
   "cell_type": "markdown",
   "metadata": {
    "collapsed": true
   },
   "source": [
    "# TrumpTwitterArchive Project & Introduction"
   ]
  },
  {
   "cell_type": "markdown",
   "metadata": {},
   "source": [
    "Trump's use of Twitter for propaganda, promotion, and communication is unusual for the Presidency.  \n",
    "\n",
    "    \"David S. Ferriero informed two Democratic senators last week that the Trump tweets are being preserved for posterity, so future generations can revel in the president's peculiar and unprecedented use of Twitter as an art form and governing tool.\" -source theVerge\n",
    "\n",
    "  The trumptwitterarchive is a collection of his every tweet, retweet, and favorite, and this project plans to load and predict engagement levels based on text, hastags, sentiment, and other feature columns.  Analysis on data will start after Trump's acceptance as the republican nominee at National Republican Convention on July 18, 2017.\n",
    "\n",
    "**Hypothesis and Assumptions:**\n",
    "    - Build a model that predicts the level of engagement for the President's tweets\n",
    "    - Target Engagement (y), which is defined as the combination of favorite_count + retweet_count\n",
    "    - Feature Columns: ['source', 'text', 'created_at', 'is_retweet']\n",
    "    - Additional Feature Columns from Text:\n",
    "      Create a sentiment score on Text.  Does negative sentiment increase engagement?\n",
    "      Create Dummy variables for commonly used hashtags, which ones increase engagement?\n",
    "      \n",
    "      \n",
    "      \n",
    "**Table of Contents**\n",
    "    1. Import & Review Data\n",
    "    2. Prepare Data for Analysis\n",
    "    3. Natural Language Processing - Sentiment Analysis\n",
    "    4. Analysis and Visualizations\n",
    "    5. Linear Regression\n",
    "    6. Conclusion"
   ]
  },
  {
   "cell_type": "markdown",
   "metadata": {},
   "source": [
    "# Import and Review Data"
   ]
  },
  {
   "cell_type": "code",
   "execution_count": 70,
   "metadata": {
    "collapsed": true
   },
   "outputs": [],
   "source": [
    "import pandas as pd\n",
    "import numpy as np\n",
    "import matplotlib.pyplot as plt\n",
    "from sklearn.linear_model import LinearRegression\n",
    "from sklearn.model_selection import train_test_split\n",
    "from sklearn import metrics\n",
    "import seaborn as sns\n",
    "\n",
    "\n",
    "plt.style.use('fivethirtyeight')\n",
    "%matplotlib inline"
   ]
  },
  {
   "cell_type": "code",
   "execution_count": 71,
   "metadata": {
    "collapsed": true
   },
   "outputs": [],
   "source": [
    "file = './data/trumptweets_all.csv'\n"
   ]
  },
  {
   "cell_type": "code",
   "execution_count": 72,
   "metadata": {
    "collapsed": true,
    "scrolled": true
   },
   "outputs": [],
   "source": [
    "# reading in csv file, setting the 'created_at' column as the index\n",
    "\n",
    "trumptweets = pd.read_csv(file, encoding = 'latin1',\n",
    "                          index_col='created_at')"
   ]
  },
  {
   "cell_type": "code",
   "execution_count": 73,
   "metadata": {
    "collapsed": true
   },
   "outputs": [],
   "source": [
    "# setting index of dates to datetime() format\n",
    "\n",
    "trumptweets.index = pd.to_datetime(trumptweets.index)"
   ]
  },
  {
   "cell_type": "code",
   "execution_count": 74,
   "metadata": {
    "collapsed": true
   },
   "outputs": [],
   "source": [
    "# Only analyzing data since the 2016 Republican National Convention on 7/18/2016\n",
    "\n",
    "trumptweets = trumptweets.loc[trumptweets.index > '2016-7-18 00:00:00', :]"
   ]
  },
  {
   "cell_type": "code",
   "execution_count": 75,
   "metadata": {},
   "outputs": [
    {
     "data": {
      "text/plain": [
       "(4675, 6)"
      ]
     },
     "execution_count": 75,
     "metadata": {},
     "output_type": "execute_result"
    }
   ],
   "source": [
    "# Review size and shape of the data set\n",
    "\n",
    "trumptweets.shape"
   ]
  },
  {
   "cell_type": "code",
   "execution_count": 76,
   "metadata": {},
   "outputs": [
    {
     "data": {
      "text/plain": [
       "Index(['source', 'text', 'retweet_count', 'favorite_count', 'is_retweet',\n",
       "       'id_str'],\n",
       "      dtype='object')"
      ]
     },
     "execution_count": 76,
     "metadata": {},
     "output_type": "execute_result"
    }
   ],
   "source": [
    "trumptweets.columns"
   ]
  },
  {
   "cell_type": "markdown",
   "metadata": {},
   "source": [
    "# Prepare Data for Analysis"
   ]
  },
  {
   "cell_type": "code",
   "execution_count": 77,
   "metadata": {
    "collapsed": true
   },
   "outputs": [],
   "source": [
    "# Convert Source column to dummy variables\n",
    "\n",
    "#map source twitter for the 19 source values into integers\n",
    "\n",
    "trumptweets.loc[:, 'source_num'] = trumptweets.loc[:,'source'].map({'Twitter for iPhone':0, \n",
    "                                                                    'Twitter for Android':1, \n",
    "                                                                    'Twitter Web Client':2, \n",
    "                                                                    'Media Studio':3, \n",
    "                                                                    'Twitter Ads':4, \n",
    "                                                                    'Twitter for iPad':5, \n",
    "                                                                    'TweetDeck':6, \n",
    "                                                                    'Periscope':7, \n",
    "                                                                    })"
   ]
  },
  {
   "cell_type": "code",
   "execution_count": 78,
   "metadata": {
    "collapsed": true
   },
   "outputs": [],
   "source": [
    "#Convert Source_num to dummy variables.  Dropping Twitter for iPhone where src = 0 for the regression model\n",
    "\n",
    "dummy_trumptweets = pd.get_dummies(trumptweets, columns=['source_num']).drop('source_num_0', axis=1)"
   ]
  },
  {
   "cell_type": "code",
   "execution_count": 79,
   "metadata": {
    "collapsed": true
   },
   "outputs": [],
   "source": [
    "# Rename Dummy source_num columns\n",
    "\n",
    "dummy_trumptweets.rename(columns={'source_num_1': 'src_android',\n",
    "                                  'source_num_2': 'src_webclient',\n",
    "                                  'source_num_3': 'src_mediastudio',\n",
    "                                  'source_num_4': 'src_twitterads',\n",
    "                                  'source_num_5': 'src_ipad',\n",
    "                                  'source_num_6': 'src_tweetdeck',\n",
    "                                  'source_num_7': 'src_periscope'},\n",
    "                                  inplace=True)"
   ]
  },
  {
   "cell_type": "code",
   "execution_count": 80,
   "metadata": {
    "collapsed": true
   },
   "outputs": [],
   "source": [
    "#Create new column, engagement, that sums retweet and favorite counts.  This will become my target y\n",
    "\n",
    "dummy_trumptweets.loc[:, 'engagement'] = (dummy_trumptweets.loc[:, 'retweet_count'] +\n",
    "                                          dummy_trumptweets.loc[:, 'favorite_count'])"
   ]
  },
  {
   "cell_type": "code",
   "execution_count": 81,
   "metadata": {
    "collapsed": true
   },
   "outputs": [],
   "source": [
    "#add new column for HOUR when the tweet occurred\n",
    "\n",
    "dummy_trumptweets.loc[:, 'tweet_hour'] = dummy_trumptweets.index.hour"
   ]
  },
  {
   "cell_type": "code",
   "execution_count": 82,
   "metadata": {
    "collapsed": true
   },
   "outputs": [],
   "source": [
    "# Convert hours to morning, afternoon, evening, latenight dummy variables.  Timestamp column is in GMT, so converting daytime hours to EST\n",
    "# not calculating is_morning\n",
    "\n",
    "\n",
    "# EST 12-6pm is GMT 18-23\n",
    "dummy_trumptweets.loc[:, 'is_afternoon'] = ((dummy_trumptweets.loc[:, 'tweet_hour'] >= 17) & (dummy_trumptweets.loc[:,'tweet_hour'] < 23)).astype(int)  \n",
    "\n",
    "# EST 6pm-12am is 23 - 5\n",
    "dummy_trumptweets.loc[:, 'is_evening'] = ((dummy_trumptweets.loc[:, 'tweet_hour'] >= 23) | (dummy_trumptweets.loc[:,'tweet_hour'] < 5)).astype(int)\n",
    "\n",
    "# Late Night is EST 12am-5am is GMT 5-10\n",
    "dummy_trumptweets.loc[:, 'is_latenight'] = ((dummy_trumptweets.loc[:, 'tweet_hour'] >= 5) & (dummy_trumptweets.loc[:,'tweet_hour'] < 10)).astype(int)\n"
   ]
  },
  {
   "cell_type": "code",
   "execution_count": 83,
   "metadata": {},
   "outputs": [
    {
     "data": {
      "text/plain": [
       "\"RT @piersmorgan: Trump makes a funny obvious joke about Russia going after Hillary's emails &amp; U.S. media goes insane with fury.He plays t\\x85\""
      ]
     },
     "execution_count": 83,
     "metadata": {},
     "output_type": "execute_result"
    }
   ],
   "source": [
    "dummy_trumptweets.loc[dummy_trumptweets.loc[:, 'is_retweet'] == True, 'text'][100]"
   ]
  },
  {
   "cell_type": "code",
   "execution_count": 84,
   "metadata": {
    "collapsed": true
   },
   "outputs": [],
   "source": [
    "# try log(y)\n",
    "# caution on interpretation of coefficients\n",
    "\n",
    "# Because Log(0) returns infinite, set engagement to 1 where it was previously 0.\n",
    "# Justifying this because 0 and 1 is insignificant as a low engagement tweets\n",
    "\n",
    "zero_tweets = dummy_trumptweets.loc[:,'engagement'] == 0\n",
    "dummy_trumptweets.loc[zero_tweets, 'engagement'] = 1"
   ]
  },
  {
   "cell_type": "code",
   "execution_count": 85,
   "metadata": {
    "collapsed": true
   },
   "outputs": [],
   "source": [
    "# add new column for log(engagement)\n",
    "\n",
    "dummy_trumptweets.loc[:, 'log_engagement'] = np.log(dummy_trumptweets.loc[:,'engagement'])"
   ]
  },
  {
   "cell_type": "code",
   "execution_count": null,
   "metadata": {
    "collapsed": true
   },
   "outputs": [],
   "source": []
  },
  {
   "cell_type": "markdown",
   "metadata": {},
   "source": [
    "#Miscellaneous notes on Log interpretations:\n",
    "\n",
    "Outcome transformed\n",
    "log(DV) = Intercept + B1 * IV + Error \n",
    "\"One unit increase in IV is associated with a (B1 * 100) percent increase in DV.\"\n",
    "\n",
    "\n",
    "Outcome transformed and exposure transformed\n",
    "\n",
    "log(DV) = Intercept + B1 * log(IV) + Error \n",
    "\"One percent increase in IV is associated with a (B1) percent increase in DV.\""
   ]
  },
  {
   "cell_type": "code",
   "execution_count": null,
   "metadata": {
    "collapsed": true
   },
   "outputs": [],
   "source": []
  },
  {
   "cell_type": "markdown",
   "metadata": {},
   "source": [
    "# Natural Language Processing - Sentiment Analysis"
   ]
  },
  {
   "cell_type": "markdown",
   "metadata": {},
   "source": [
    "Goal of this section is to use NLP to derive a sentiment score on Trump's tweets.  We will store the scores, and create bins of:\n",
    "    - sentiment between 0.5 and 1 is \"High Positive\"\n",
    "    - sentiment between 0.0 and 0.5 is \"Moderately Positive\"\n",
    "    - sentiment between -0.5 and 0 is \"Moderately Negative\"\n",
    "    - sentiment between -1.0 and -0.5 is \"Very Negative\""
   ]
  },
  {
   "cell_type": "code",
   "execution_count": 86,
   "metadata": {
    "collapsed": true
   },
   "outputs": [],
   "source": [
    "from textblob import TextBlob, Word\n",
    "from nltk.stem.snowball import SnowballStemmer"
   ]
  },
  {
   "cell_type": "code",
   "execution_count": 87,
   "metadata": {
    "collapsed": true
   },
   "outputs": [],
   "source": [
    "# Define a function that accepts text and returns the polarity\n",
    "\n",
    "def detect_sentiment(text):\n",
    "    return TextBlob(text).sentiment.polarity"
   ]
  },
  {
   "cell_type": "code",
   "execution_count": 88,
   "metadata": {
    "collapsed": true
   },
   "outputs": [],
   "source": [
    "# Create new sentiment column to the dataframe\n",
    "dummy_trumptweets.loc[:, 'sentiment'] = dummy_trumptweets.loc[:, 'text'].apply(detect_sentiment)"
   ]
  },
  {
   "cell_type": "code",
   "execution_count": 89,
   "metadata": {
    "collapsed": true
   },
   "outputs": [],
   "source": [
    "# Bin sentiment > .5 to 1, or high positive sentiment' is dropped from columns for the regression model\n",
    "dummy_trumptweets.loc[:, 'very_positive_sentiment'] = np.where(dummy_trumptweets.loc[:, 'sentiment'] >= 0.5, 1, 0)\n",
    "\n",
    "# Bin sentiment >= 0 & <0.5 as moderately positive\n",
    "dummy_trumptweets.loc[:, 'moderately_positive_sentiment'] = np.where((dummy_trumptweets.loc[:, 'sentiment'] >= 0) & (dummy_trumptweets.loc[:, 'sentiment'] < .5), 1, 0)\n",
    "\n",
    "# Bin sentiment >=.5 and <0 as moderately negative\n",
    "dummy_trumptweets.loc[:, 'moderately_negative_sentiment'] = np.where((dummy_trumptweets.loc[:, 'sentiment'] >= -.5) & (dummy_trumptweets.loc[:, 'sentiment'] < 0), 1, 0)\n",
    "\n",
    "# Bin sentiment >= -1 and < -0.5 as very negative\n",
    "dummy_trumptweets.loc[:, 'very_negative_sentiment'] = np.where(dummy_trumptweets.loc[:, 'sentiment'] < -.5, 1, 0)"
   ]
  },
  {
   "cell_type": "code",
   "execution_count": 90,
   "metadata": {},
   "outputs": [
    {
     "data": {
      "image/png": "[encoded data removed]",
      "text/plain": [
       "<matplotlib.figure.Figure at 0x1a148b17f0>"
      ]
     },
     "metadata": {},
     "output_type": "display_data"
    }
   ],
   "source": [
    "sns.pairplot(dummy_trumptweets,\n",
    "            x_vars=['very_positive_sentiment', 'moderately_positive_sentiment', 'moderately_negative_sentiment',\n",
    "                    'very_negative_sentiment'],\n",
    "            y_vars='log_engagement',\n",
    "            kind='reg',\n",
    "            plot_kws={'scatter_kws': {'s':1, 'alpha':.3},\n",
    "                      'line_kws': {'color':'red'}\n",
    "                     },\n",
    "            size=6\n",
    "            );"
   ]
  },
  {
   "cell_type": "code",
   "execution_count": null,
   "metadata": {
    "collapsed": true
   },
   "outputs": [],
   "source": []
  },
  {
   "cell_type": "code",
   "execution_count": null,
   "metadata": {
    "collapsed": true
   },
   "outputs": [],
   "source": []
  },
  {
   "cell_type": "markdown",
   "metadata": {},
   "source": [
    "**Testing Polynomial Features on Sentiment**"
   ]
  },
  {
   "cell_type": "code",
   "execution_count": 91,
   "metadata": {
    "collapsed": true
   },
   "outputs": [],
   "source": [
    "#Testing Polynomial Features on Sentiment\n",
    "\n",
    "from sklearn.preprocessing import PolynomialFeatures\n",
    "\n",
    "X = (dummy_trumptweets.loc[:, ['sentiment']])\n",
    "\n",
    "pf = PolynomialFeatures(degree=1, include_bias=False)\n",
    "pf.fit(X)\n",
    "X = pf.transform(X)\n",
    "\n",
    "y = dummy_trumptweets.loc[:, 'log_engagement']"
   ]
  },
  {
   "cell_type": "code",
   "execution_count": 92,
   "metadata": {
    "collapsed": true
   },
   "outputs": [],
   "source": [
    "lr = LinearRegression()\n",
    "lr.fit(X, y)\n",
    "\n",
    "y_fit = lr.predict(X)\n"
   ]
  },
  {
   "cell_type": "code",
   "execution_count": 93,
   "metadata": {},
   "outputs": [
    {
     "data": {
      "text/plain": [
       "<matplotlib.collections.PathCollection at 0x1a147beef0>"
      ]
     },
     "execution_count": 93,
     "metadata": {},
     "output_type": "execute_result"
    },
    {
     "data": {
      "image/png": "[encoded data removed]",
      "text/plain": [
       "<matplotlib.figure.Figure at 0x1a14929320>"
      ]
     },
     "metadata": {},
     "output_type": "display_data"
    }
   ],
   "source": [
    "plt.plot(dummy_trumptweets.loc[:, 'sentiment'].values, y_fit, color='r')\n",
    "plt.scatter(dummy_trumptweets.loc[:, 'sentiment'], y, alpha=.2)"
   ]
  },
  {
   "cell_type": "code",
   "execution_count": null,
   "metadata": {
    "collapsed": true
   },
   "outputs": [],
   "source": []
  },
  {
   "cell_type": "markdown",
   "metadata": {},
   "source": [
    "**Testing Log features on Sentiment**"
   ]
  },
  {
   "cell_type": "code",
   "execution_count": 94,
   "metadata": {
    "collapsed": true
   },
   "outputs": [],
   "source": [
    "# Using 2 parameter Box-Cox transformation of log(x + 1.1) to transform all values greater than 0\n",
    "\n",
    "dummy_trumptweets.loc[:, 'log_sentiment'] = np.log(dummy_trumptweets.loc[:, 'sentiment'] + 1.1)"
   ]
  },
  {
   "cell_type": "code",
   "execution_count": 95,
   "metadata": {},
   "outputs": [
    {
     "data": {
      "image/png": "[encoded data removed]",
      "text/plain": [
       "<matplotlib.figure.Figure at 0x1a1481ee10>"
      ]
     },
     "metadata": {},
     "output_type": "display_data"
    }
   ],
   "source": [
    "x =  dummy_trumptweets.loc[:, 'log_sentiment']\n",
    "y = dummy_trumptweets.loc[:, 'log_engagement']\n",
    "plt.scatter(x, y, alpha=.2)\n",
    "plt.show()"
   ]
  },
  {
   "cell_type": "code",
   "execution_count": 96,
   "metadata": {},
   "outputs": [
    {
     "data": {
      "image/png": "[encoded data removed]",
      "text/plain": [
       "<matplotlib.figure.Figure at 0x1a148cefd0>"
      ]
     },
     "metadata": {},
     "output_type": "display_data"
    }
   ],
   "source": [
    "sns.pairplot(dummy_trumptweets,\n",
    "            x_vars='log_sentiment',\n",
    "            y_vars='log_engagement',\n",
    "            kind='reg',\n",
    "            plot_kws={'scatter_kws': {'s':1, 'alpha':.2},\n",
    "                      'line_kws': {'color':'red'}\n",
    "                     },\n",
    "            size=7\n",
    "            );"
   ]
  },
  {
   "cell_type": "code",
   "execution_count": 97,
   "metadata": {},
   "outputs": [],
   "source": [
    "#review the tweets that are considered 'very negative'\n",
    "\n",
    "\n",
    "very_positive_tweets = dummy_trumptweets.loc[dummy_trumptweets.loc[:, 'very_positive_sentiment'] == 1, :]\n",
    "very_negative_tweets = dummy_trumptweets.loc[dummy_trumptweets.loc[:, 'very_negative_sentiment'] == 1, :]\n"
   ]
  },
  {
   "cell_type": "code",
   "execution_count": 98,
   "metadata": {
    "scrolled": true
   },
   "outputs": [
    {
     "data": {
      "text/html": [
       "<div>\n",
       "<style>\n",
       "    .dataframe thead tr:only-child th {\n",
       "        text-align: right;\n",
       "    }\n",
       "\n",
       "    .dataframe thead th {\n",
       "        text-align: left;\n",
       "    }\n",
       "\n",
       "    .dataframe tbody tr th {\n",
       "        vertical-align: top;\n",
       "    }\n",
       "</style>\n",
       "<table border=\"1\" class=\"dataframe\">\n",
       "  <thead>\n",
       "    <tr style=\"text-align: right;\">\n",
       "      <th></th>\n",
       "      <th>text</th>\n",
       "      <th>engagement</th>\n",
       "      <th>sentiment</th>\n",
       "      <th>favorite_count</th>\n",
       "      <th>retweet_count</th>\n",
       "    </tr>\n",
       "    <tr>\n",
       "      <th>created_at</th>\n",
       "      <th></th>\n",
       "      <th></th>\n",
       "      <th></th>\n",
       "      <th></th>\n",
       "      <th></th>\n",
       "    </tr>\n",
       "  </thead>\n",
       "  <tbody>\n",
       "    <tr>\n",
       "      <th>2017-10-02 11:11:00</th>\n",
       "      <td>My warmest condolences and sympathies to the v...</td>\n",
       "      <td>393220</td>\n",
       "      <td>-1.000000</td>\n",
       "      <td>317744</td>\n",
       "      <td>75476</td>\n",
       "    </tr>\n",
       "    <tr>\n",
       "      <th>2017-02-01 12:50:00</th>\n",
       "      <td>Everybody is arguing whether or not it is a BA...</td>\n",
       "      <td>312965</td>\n",
       "      <td>-0.787500</td>\n",
       "      <td>252382</td>\n",
       "      <td>60583</td>\n",
       "    </tr>\n",
       "    <tr>\n",
       "      <th>2017-01-25 02:25:00</th>\n",
       "      <td>If Chicago doesn't fix the horrible \"carnage\" ...</td>\n",
       "      <td>265401</td>\n",
       "      <td>-1.000000</td>\n",
       "      <td>209363</td>\n",
       "      <td>56038</td>\n",
       "    </tr>\n",
       "    <tr>\n",
       "      <th>2017-01-22 12:47:00</th>\n",
       "      <td>Watched protests yesterday but was under the i...</td>\n",
       "      <td>259013</td>\n",
       "      <td>-0.700000</td>\n",
       "      <td>213295</td>\n",
       "      <td>45718</td>\n",
       "    </tr>\n",
       "    <tr>\n",
       "      <th>2017-02-03 23:08:00</th>\n",
       "      <td>We must keep \"evil\" out of our country!</td>\n",
       "      <td>249889</td>\n",
       "      <td>-1.000000</td>\n",
       "      <td>204985</td>\n",
       "      <td>44904</td>\n",
       "    </tr>\n",
       "    <tr>\n",
       "      <th>2017-02-07 12:11:00</th>\n",
       "      <td>I don't know Putin have no deals in Russia and...</td>\n",
       "      <td>238745</td>\n",
       "      <td>-0.750000</td>\n",
       "      <td>188271</td>\n",
       "      <td>50474</td>\n",
       "    </tr>\n",
       "    <tr>\n",
       "      <th>2017-01-30 13:31:00</th>\n",
       "      <td>If the ban were announced with a one week noti...</td>\n",
       "      <td>207224</td>\n",
       "      <td>-0.787500</td>\n",
       "      <td>171722</td>\n",
       "      <td>35502</td>\n",
       "    </tr>\n",
       "    <tr>\n",
       "      <th>2017-03-04 11:35:00</th>\n",
       "      <td>Terrible! Just found out that Obama had my \"wi...</td>\n",
       "      <td>194098</td>\n",
       "      <td>-1.000000</td>\n",
       "      <td>143525</td>\n",
       "      <td>50573</td>\n",
       "    </tr>\n",
       "    <tr>\n",
       "      <th>2017-01-31 11:21:00</th>\n",
       "      <td>Nancy Pelosi and Fake Tears Chuck Schumer held...</td>\n",
       "      <td>183581</td>\n",
       "      <td>-0.625000</td>\n",
       "      <td>152518</td>\n",
       "      <td>31063</td>\n",
       "    </tr>\n",
       "    <tr>\n",
       "      <th>2017-02-04 20:44:00</th>\n",
       "      <td>What is our country coming to when a judge can...</td>\n",
       "      <td>181970</td>\n",
       "      <td>-0.700000</td>\n",
       "      <td>148698</td>\n",
       "      <td>33272</td>\n",
       "    </tr>\n",
       "    <tr>\n",
       "      <th>2017-02-12 11:34:00</th>\n",
       "      <td>The crackdown on illegal criminals is merely t...</td>\n",
       "      <td>177908</td>\n",
       "      <td>-0.562500</td>\n",
       "      <td>148471</td>\n",
       "      <td>29437</td>\n",
       "    </tr>\n",
       "    <tr>\n",
       "      <th>2017-12-29 13:16:00</th>\n",
       "      <td>The Democrats have been told and fully underst...</td>\n",
       "      <td>177314</td>\n",
       "      <td>-0.504167</td>\n",
       "      <td>142106</td>\n",
       "      <td>35208</td>\n",
       "    </tr>\n",
       "    <tr>\n",
       "      <th>2017-12-11 14:17:00</th>\n",
       "      <td>Another false story this time in the Failing @...</td>\n",
       "      <td>172786</td>\n",
       "      <td>-0.556250</td>\n",
       "      <td>138768</td>\n",
       "      <td>34018</td>\n",
       "    </tr>\n",
       "    <tr>\n",
       "      <th>2017-11-15 10:45:00</th>\n",
       "      <td>While in the Philippines I was forced to watch...</td>\n",
       "      <td>168303</td>\n",
       "      <td>-0.541667</td>\n",
       "      <td>135601</td>\n",
       "      <td>32702</td>\n",
       "    </tr>\n",
       "    <tr>\n",
       "      <th>2017-02-04 21:44:00</th>\n",
       "      <td>Because the ban was lifted by a judge many ver...</td>\n",
       "      <td>166387</td>\n",
       "      <td>-0.502500</td>\n",
       "      <td>136941</td>\n",
       "      <td>29446</td>\n",
       "    </tr>\n",
       "    <tr>\n",
       "      <th>2017-08-14 22:29:00</th>\n",
       "      <td>Made additional remarks on Charlottesville and...</td>\n",
       "      <td>163267</td>\n",
       "      <td>-0.687500</td>\n",
       "      <td>129183</td>\n",
       "      <td>34084</td>\n",
       "    </tr>\n",
       "    <tr>\n",
       "      <th>2017-02-02 11:34:00</th>\n",
       "      <td>Iran has been formally PUT ON NOTICE for firin...</td>\n",
       "      <td>161109</td>\n",
       "      <td>-1.000000</td>\n",
       "      <td>121480</td>\n",
       "      <td>39629</td>\n",
       "    </tr>\n",
       "    <tr>\n",
       "      <th>2017-10-19 11:17:00</th>\n",
       "      <td>Uranium deal to Russia with Clinton help and O...</td>\n",
       "      <td>160817</td>\n",
       "      <td>-0.625000</td>\n",
       "      <td>120166</td>\n",
       "      <td>40651</td>\n",
       "    </tr>\n",
       "    <tr>\n",
       "      <th>2017-01-26 11:04:00</th>\n",
       "      <td>Ungrateful TRAITOR Chelsea Manning who should ...</td>\n",
       "      <td>156530</td>\n",
       "      <td>-0.687500</td>\n",
       "      <td>128497</td>\n",
       "      <td>28033</td>\n",
       "    </tr>\n",
       "    <tr>\n",
       "      <th>2017-07-05 11:14:00</th>\n",
       "      <td>The United States made some of the worst Trade...</td>\n",
       "      <td>156127</td>\n",
       "      <td>-1.000000</td>\n",
       "      <td>129296</td>\n",
       "      <td>26831</td>\n",
       "    </tr>\n",
       "    <tr>\n",
       "      <th>2017-07-24 10:40:00</th>\n",
       "      <td>Drain the Swamp should be changed to Drain the...</td>\n",
       "      <td>150493</td>\n",
       "      <td>-0.512500</td>\n",
       "      <td>117414</td>\n",
       "      <td>33079</td>\n",
       "    </tr>\n",
       "    <tr>\n",
       "      <th>2017-02-16 14:39:00</th>\n",
       "      <td>The Democrats had to come up with a story as t...</td>\n",
       "      <td>148140</td>\n",
       "      <td>-0.662500</td>\n",
       "      <td>121137</td>\n",
       "      <td>27003</td>\n",
       "    </tr>\n",
       "    <tr>\n",
       "      <th>2017-06-27 12:47:00</th>\n",
       "      <td>So they caught Fake News CNN cold but what abo...</td>\n",
       "      <td>145589</td>\n",
       "      <td>-0.575000</td>\n",
       "      <td>112223</td>\n",
       "      <td>33366</td>\n",
       "    </tr>\n",
       "    <tr>\n",
       "      <th>2017-09-20 02:41:00</th>\n",
       "      <td>I was saddened to see how bad the ratings were...</td>\n",
       "      <td>143587</td>\n",
       "      <td>-0.566667</td>\n",
       "      <td>117255</td>\n",
       "      <td>26332</td>\n",
       "    </tr>\n",
       "    <tr>\n",
       "      <th>2017-07-10 10:40:00</th>\n",
       "      <td>James Comey leaked CLASSIFIED INFORMATION to t...</td>\n",
       "      <td>142188</td>\n",
       "      <td>-0.625000</td>\n",
       "      <td>112155</td>\n",
       "      <td>30033</td>\n",
       "    </tr>\n",
       "    <tr>\n",
       "      <th>2016-11-30 11:20:00</th>\n",
       "      <td>ISIS is taking credit for the terrible stabbin...</td>\n",
       "      <td>142068</td>\n",
       "      <td>-0.800000</td>\n",
       "      <td>107641</td>\n",
       "      <td>34427</td>\n",
       "    </tr>\n",
       "    <tr>\n",
       "      <th>2017-09-15 10:42:00</th>\n",
       "      <td>Another attack in London by a loser terrorist....</td>\n",
       "      <td>139550</td>\n",
       "      <td>-0.892857</td>\n",
       "      <td>110223</td>\n",
       "      <td>29327</td>\n",
       "    </tr>\n",
       "    <tr>\n",
       "      <th>2017-08-30 13:27:00</th>\n",
       "      <td>After reading the false reporting and even fer...</td>\n",
       "      <td>138394</td>\n",
       "      <td>-0.637500</td>\n",
       "      <td>109867</td>\n",
       "      <td>28527</td>\n",
       "    </tr>\n",
       "    <tr>\n",
       "      <th>2017-07-10 11:47:00</th>\n",
       "      <td>If Chelsea Clinton were asked to hold the seat...</td>\n",
       "      <td>135615</td>\n",
       "      <td>-0.625000</td>\n",
       "      <td>108995</td>\n",
       "      <td>26620</td>\n",
       "    </tr>\n",
       "    <tr>\n",
       "      <th>2017-01-29 13:00:00</th>\n",
       "      <td>Somebody with aptitude and conviction should b...</td>\n",
       "      <td>134240</td>\n",
       "      <td>-0.625000</td>\n",
       "      <td>111984</td>\n",
       "      <td>22256</td>\n",
       "    </tr>\n",
       "    <tr>\n",
       "      <th>...</th>\n",
       "      <td>...</td>\n",
       "      <td>...</td>\n",
       "      <td>...</td>\n",
       "      <td>...</td>\n",
       "      <td>...</td>\n",
       "    </tr>\n",
       "    <tr>\n",
       "      <th>2017-11-07 10:53:00</th>\n",
       "      <td>....and has been horrible on Virginia economy....</td>\n",
       "      <td>42220</td>\n",
       "      <td>-1.000000</td>\n",
       "      <td>35003</td>\n",
       "      <td>7217</td>\n",
       "    </tr>\n",
       "    <tr>\n",
       "      <th>2016-10-09 13:17:00</th>\n",
       "      <td>EXCLUSIVE  Video Interview: Bill Clinton Accu...</td>\n",
       "      <td>41898</td>\n",
       "      <td>-0.875000</td>\n",
       "      <td>25268</td>\n",
       "      <td>16630</td>\n",
       "    </tr>\n",
       "    <tr>\n",
       "      <th>2016-11-29 02:19:00</th>\n",
       "      <td>\"@FiIibuster: @jeffzeleny Pathetic - you have ...</td>\n",
       "      <td>40290</td>\n",
       "      <td>-0.850000</td>\n",
       "      <td>32567</td>\n",
       "      <td>7723</td>\n",
       "    </tr>\n",
       "    <tr>\n",
       "      <th>2016-08-01 22:52:00</th>\n",
       "      <td>Hillary Clinton raked in money from regimes th...</td>\n",
       "      <td>37943</td>\n",
       "      <td>-1.000000</td>\n",
       "      <td>26920</td>\n",
       "      <td>11023</td>\n",
       "    </tr>\n",
       "    <tr>\n",
       "      <th>2016-10-05 01:28:00</th>\n",
       "      <td>\"@Jnelson52722: @realDonaldTrump @Susiesentine...</td>\n",
       "      <td>37089</td>\n",
       "      <td>-1.000000</td>\n",
       "      <td>28124</td>\n",
       "      <td>8965</td>\n",
       "    </tr>\n",
       "    <tr>\n",
       "      <th>2016-10-08 22:41:00</th>\n",
       "      <td>RT @atensnut: Hillary calls Trump's remarks \"h...</td>\n",
       "      <td>37018</td>\n",
       "      <td>-1.000000</td>\n",
       "      <td>0</td>\n",
       "      <td>37018</td>\n",
       "    </tr>\n",
       "    <tr>\n",
       "      <th>2016-08-29 13:35:00</th>\n",
       "      <td>Now that African-Americans are seeing what a b...</td>\n",
       "      <td>36386</td>\n",
       "      <td>-0.875000</td>\n",
       "      <td>27525</td>\n",
       "      <td>8861</td>\n",
       "    </tr>\n",
       "    <tr>\n",
       "      <th>2016-08-05 13:08:00</th>\n",
       "      <td>Hillary Clinton has bad judgment and is unfit ...</td>\n",
       "      <td>35130</td>\n",
       "      <td>-0.700000</td>\n",
       "      <td>26050</td>\n",
       "      <td>9080</td>\n",
       "    </tr>\n",
       "    <tr>\n",
       "      <th>2016-08-29 22:03:00</th>\n",
       "      <td>We will repeal and replace the horrible disast...</td>\n",
       "      <td>35070</td>\n",
       "      <td>-1.000000</td>\n",
       "      <td>24661</td>\n",
       "      <td>10409</td>\n",
       "    </tr>\n",
       "    <tr>\n",
       "      <th>2016-09-17 22:57:00</th>\n",
       "      <td>My lawyers want to sue the failing @nytimes so...</td>\n",
       "      <td>35004</td>\n",
       "      <td>-0.850000</td>\n",
       "      <td>27046</td>\n",
       "      <td>7958</td>\n",
       "    </tr>\n",
       "    <tr>\n",
       "      <th>2016-09-27 01:33:00</th>\n",
       "      <td>HILLARY'S BAD TAX HABIT! https://t.co/x3FBy8Hdq2</td>\n",
       "      <td>34709</td>\n",
       "      <td>-0.875000</td>\n",
       "      <td>22449</td>\n",
       "      <td>12260</td>\n",
       "    </tr>\n",
       "    <tr>\n",
       "      <th>2016-07-25 11:57:00</th>\n",
       "      <td>How much BAD JUDGEMENT was on display by the p...</td>\n",
       "      <td>31394</td>\n",
       "      <td>-0.584375</td>\n",
       "      <td>24296</td>\n",
       "      <td>7098</td>\n",
       "    </tr>\n",
       "    <tr>\n",
       "      <th>2016-07-29 18:30:00</th>\n",
       "      <td>Even Bill is tired of the lies SAD! https://t....</td>\n",
       "      <td>30577</td>\n",
       "      <td>-0.512500</td>\n",
       "      <td>22785</td>\n",
       "      <td>7792</td>\n",
       "    </tr>\n",
       "    <tr>\n",
       "      <th>2016-10-28 15:27:00</th>\n",
       "      <td>\"@Jmoschetti1363: @Johnatsrs1949 FBI must be o...</td>\n",
       "      <td>28085</td>\n",
       "      <td>-0.650000</td>\n",
       "      <td>19933</td>\n",
       "      <td>8152</td>\n",
       "    </tr>\n",
       "    <tr>\n",
       "      <th>2016-10-10 02:11:00</th>\n",
       "      <td>We cannot let this evil continue! #Debates2016...</td>\n",
       "      <td>24752</td>\n",
       "      <td>-1.000000</td>\n",
       "      <td>17396</td>\n",
       "      <td>7356</td>\n",
       "    </tr>\n",
       "    <tr>\n",
       "      <th>2016-10-09 22:26:00</th>\n",
       "      <td>The Palestinian terror attack today reminds th...</td>\n",
       "      <td>24193</td>\n",
       "      <td>-0.800000</td>\n",
       "      <td>17121</td>\n",
       "      <td>7072</td>\n",
       "    </tr>\n",
       "    <tr>\n",
       "      <th>2016-10-25 14:31:00</th>\n",
       "      <td>As election looms some bad news for Clinton De...</td>\n",
       "      <td>24055</td>\n",
       "      <td>-0.700000</td>\n",
       "      <td>15699</td>\n",
       "      <td>8356</td>\n",
       "    </tr>\n",
       "    <tr>\n",
       "      <th>2016-10-10 01:43:00</th>\n",
       "      <td>#CrookedHillary has FAILED all over the world!...</td>\n",
       "      <td>22596</td>\n",
       "      <td>-0.625000</td>\n",
       "      <td>15464</td>\n",
       "      <td>7132</td>\n",
       "    </tr>\n",
       "    <tr>\n",
       "      <th>2016-10-20 02:19:00</th>\n",
       "      <td>Bernie Sanders on HRC: Bad Judgement. John Pod...</td>\n",
       "      <td>21190</td>\n",
       "      <td>-0.700000</td>\n",
       "      <td>14918</td>\n",
       "      <td>6272</td>\n",
       "    </tr>\n",
       "    <tr>\n",
       "      <th>2016-10-20 01:28:00</th>\n",
       "      <td>Hillary is too weak to lead on border security...</td>\n",
       "      <td>20502</td>\n",
       "      <td>-0.687500</td>\n",
       "      <td>14769</td>\n",
       "      <td>5733</td>\n",
       "    </tr>\n",
       "    <tr>\n",
       "      <th>2016-10-20 01:37:00</th>\n",
       "      <td>.@HillaryClinton- you have failed failed and f...</td>\n",
       "      <td>19134</td>\n",
       "      <td>-0.541667</td>\n",
       "      <td>12395</td>\n",
       "      <td>6739</td>\n",
       "    </tr>\n",
       "    <tr>\n",
       "      <th>2016-09-27 01:23:00</th>\n",
       "      <td>.@HillaryClinton channels John Kerry on trade:...</td>\n",
       "      <td>18703</td>\n",
       "      <td>-0.700000</td>\n",
       "      <td>13551</td>\n",
       "      <td>5152</td>\n",
       "    </tr>\n",
       "    <tr>\n",
       "      <th>2016-10-05 02:31:00</th>\n",
       "      <td>RT @TeamTrump: RT if you agree - @HillaryClint...</td>\n",
       "      <td>15259</td>\n",
       "      <td>-0.625000</td>\n",
       "      <td>0</td>\n",
       "      <td>15259</td>\n",
       "    </tr>\n",
       "    <tr>\n",
       "      <th>2017-07-11 10:49:00</th>\n",
       "      <td>RT @foxandfriends: SEN. CRUZ: It's crazy to go...</td>\n",
       "      <td>13399</td>\n",
       "      <td>-0.600000</td>\n",
       "      <td>0</td>\n",
       "      <td>13399</td>\n",
       "    </tr>\n",
       "    <tr>\n",
       "      <th>2016-10-10 02:25:00</th>\n",
       "      <td>RT @TeamTrump: \"She calls our people deplorabl...</td>\n",
       "      <td>12172</td>\n",
       "      <td>-0.600000</td>\n",
       "      <td>0</td>\n",
       "      <td>12172</td>\n",
       "    </tr>\n",
       "    <tr>\n",
       "      <th>2018-01-09 23:59:00</th>\n",
       "      <td>RT @Scavino45: Utilities cutting rates cite b...</td>\n",
       "      <td>11716</td>\n",
       "      <td>-0.600000</td>\n",
       "      <td>0</td>\n",
       "      <td>11716</td>\n",
       "    </tr>\n",
       "    <tr>\n",
       "      <th>2017-03-10 13:32:00</th>\n",
       "      <td>RT @foxandfriends: \"Never give up....that's th...</td>\n",
       "      <td>9419</td>\n",
       "      <td>-1.000000</td>\n",
       "      <td>0</td>\n",
       "      <td>9419</td>\n",
       "    </tr>\n",
       "    <tr>\n",
       "      <th>2017-11-18 13:49:00</th>\n",
       "      <td>RT @piersmorgan: BOOM! Thank you Mr President....</td>\n",
       "      <td>6917</td>\n",
       "      <td>-0.900000</td>\n",
       "      <td>0</td>\n",
       "      <td>6917</td>\n",
       "    </tr>\n",
       "    <tr>\n",
       "      <th>2016-10-28 17:23:00</th>\n",
       "      <td>RT @DRUDGE_REPORT: WSJ:  The Cold Clinton Real...</td>\n",
       "      <td>4423</td>\n",
       "      <td>-0.600000</td>\n",
       "      <td>0</td>\n",
       "      <td>4423</td>\n",
       "    </tr>\n",
       "    <tr>\n",
       "      <th>2017-02-07 12:04:00</th>\n",
       "      <td>I don't know Putin have no deals in Russia and...</td>\n",
       "      <td>4</td>\n",
       "      <td>-0.750000</td>\n",
       "      <td>2</td>\n",
       "      <td>2</td>\n",
       "    </tr>\n",
       "  </tbody>\n",
       "</table>\n",
       "<p>125 rows × 5 columns</p>\n",
       "</div>"
      ],
      "text/plain": [
       "                                                                  text  \\\n",
       "created_at                                                               \n",
       "2017-10-02 11:11:00  My warmest condolences and sympathies to the v...   \n",
       "2017-02-01 12:50:00  Everybody is arguing whether or not it is a BA...   \n",
       "2017-01-25 02:25:00  If Chicago doesn't fix the horrible \"carnage\" ...   \n",
       "2017-01-22 12:47:00  Watched protests yesterday but was under the i...   \n",
       "2017-02-03 23:08:00            We must keep \"evil\" out of our country!   \n",
       "2017-02-07 12:11:00  I don't know Putin have no deals in Russia and...   \n",
       "2017-01-30 13:31:00  If the ban were announced with a one week noti...   \n",
       "2017-03-04 11:35:00  Terrible! Just found out that Obama had my \"wi...   \n",
       "2017-01-31 11:21:00  Nancy Pelosi and Fake Tears Chuck Schumer held...   \n",
       "2017-02-04 20:44:00  What is our country coming to when a judge can...   \n",
       "2017-02-12 11:34:00  The crackdown on illegal criminals is merely t...   \n",
       "2017-12-29 13:16:00  The Democrats have been told and fully underst...   \n",
       "2017-12-11 14:17:00  Another false story this time in the Failing @...   \n",
       "2017-11-15 10:45:00  While in the Philippines I was forced to watch...   \n",
       "2017-02-04 21:44:00  Because the ban was lifted by a judge many ver...   \n",
       "2017-08-14 22:29:00  Made additional remarks on Charlottesville and...   \n",
       "2017-02-02 11:34:00  Iran has been formally PUT ON NOTICE for firin...   \n",
       "2017-10-19 11:17:00  Uranium deal to Russia with Clinton help and O...   \n",
       "2017-01-26 11:04:00  Ungrateful TRAITOR Chelsea Manning who should ...   \n",
       "2017-07-05 11:14:00  The United States made some of the worst Trade...   \n",
       "2017-07-24 10:40:00  Drain the Swamp should be changed to Drain the...   \n",
       "2017-02-16 14:39:00  The Democrats had to come up with a story as t...   \n",
       "2017-06-27 12:47:00  So they caught Fake News CNN cold but what abo...   \n",
       "2017-09-20 02:41:00  I was saddened to see how bad the ratings were...   \n",
       "2017-07-10 10:40:00  James Comey leaked CLASSIFIED INFORMATION to t...   \n",
       "2016-11-30 11:20:00  ISIS is taking credit for the terrible stabbin...   \n",
       "2017-09-15 10:42:00  Another attack in London by a loser terrorist....   \n",
       "2017-08-30 13:27:00  After reading the false reporting and even fer...   \n",
       "2017-07-10 11:47:00  If Chelsea Clinton were asked to hold the seat...   \n",
       "2017-01-29 13:00:00  Somebody with aptitude and conviction should b...   \n",
       "...                                                                ...   \n",
       "2017-11-07 10:53:00  ....and has been horrible on Virginia economy....   \n",
       "2016-10-09 13:17:00  EXCLUSIVE  Video Interview: Bill Clinton Accu...   \n",
       "2016-11-29 02:19:00  \"@FiIibuster: @jeffzeleny Pathetic - you have ...   \n",
       "2016-08-01 22:52:00  Hillary Clinton raked in money from regimes th...   \n",
       "2016-10-05 01:28:00  \"@Jnelson52722: @realDonaldTrump @Susiesentine...   \n",
       "2016-10-08 22:41:00  RT @atensnut: Hillary calls Trump's remarks \"h...   \n",
       "2016-08-29 13:35:00  Now that African-Americans are seeing what a b...   \n",
       "2016-08-05 13:08:00  Hillary Clinton has bad judgment and is unfit ...   \n",
       "2016-08-29 22:03:00  We will repeal and replace the horrible disast...   \n",
       "2016-09-17 22:57:00  My lawyers want to sue the failing @nytimes so...   \n",
       "2016-09-27 01:33:00   HILLARY'S BAD TAX HABIT! https://t.co/x3FBy8Hdq2   \n",
       "2016-07-25 11:57:00  How much BAD JUDGEMENT was on display by the p...   \n",
       "2016-07-29 18:30:00  Even Bill is tired of the lies SAD! https://t....   \n",
       "2016-10-28 15:27:00  \"@Jmoschetti1363: @Johnatsrs1949 FBI must be o...   \n",
       "2016-10-10 02:11:00  We cannot let this evil continue! #Debates2016...   \n",
       "2016-10-09 22:26:00  The Palestinian terror attack today reminds th...   \n",
       "2016-10-25 14:31:00  As election looms some bad news for Clinton De...   \n",
       "2016-10-10 01:43:00  #CrookedHillary has FAILED all over the world!...   \n",
       "2016-10-20 02:19:00  Bernie Sanders on HRC: Bad Judgement. John Pod...   \n",
       "2016-10-20 01:28:00  Hillary is too weak to lead on border security...   \n",
       "2016-10-20 01:37:00  .@HillaryClinton- you have failed failed and f...   \n",
       "2016-09-27 01:23:00  .@HillaryClinton channels John Kerry on trade:...   \n",
       "2016-10-05 02:31:00  RT @TeamTrump: RT if you agree - @HillaryClint...   \n",
       "2017-07-11 10:49:00  RT @foxandfriends: SEN. CRUZ: It's crazy to go...   \n",
       "2016-10-10 02:25:00  RT @TeamTrump: \"She calls our people deplorabl...   \n",
       "2018-01-09 23:59:00  RT @Scavino45: Utilities cutting rates cite b...   \n",
       "2017-03-10 13:32:00  RT @foxandfriends: \"Never give up....that's th...   \n",
       "2017-11-18 13:49:00  RT @piersmorgan: BOOM! Thank you Mr President....   \n",
       "2016-10-28 17:23:00  RT @DRUDGE_REPORT: WSJ:  The Cold Clinton Real...   \n",
       "2017-02-07 12:04:00  I don't know Putin have no deals in Russia and...   \n",
       "\n",
       "                     engagement  sentiment  favorite_count  retweet_count  \n",
       "created_at                                                                 \n",
       "2017-10-02 11:11:00      393220  -1.000000          317744          75476  \n",
       "2017-02-01 12:50:00      312965  -0.787500          252382          60583  \n",
       "2017-01-25 02:25:00      265401  -1.000000          209363          56038  \n",
       "2017-01-22 12:47:00      259013  -0.700000          213295          45718  \n",
       "2017-02-03 23:08:00      249889  -1.000000          204985          44904  \n",
       "2017-02-07 12:11:00      238745  -0.750000          188271          50474  \n",
       "2017-01-30 13:31:00      207224  -0.787500          171722          35502  \n",
       "2017-03-04 11:35:00      194098  -1.000000          143525          50573  \n",
       "2017-01-31 11:21:00      183581  -0.625000          152518          31063  \n",
       "2017-02-04 20:44:00      181970  -0.700000          148698          33272  \n",
       "2017-02-12 11:34:00      177908  -0.562500          148471          29437  \n",
       "2017-12-29 13:16:00      177314  -0.504167          142106          35208  \n",
       "2017-12-11 14:17:00      172786  -0.556250          138768          34018  \n",
       "2017-11-15 10:45:00      168303  -0.541667          135601          32702  \n",
       "2017-02-04 21:44:00      166387  -0.502500          136941          29446  \n",
       "2017-08-14 22:29:00      163267  -0.687500          129183          34084  \n",
       "2017-02-02 11:34:00      161109  -1.000000          121480          39629  \n",
       "2017-10-19 11:17:00      160817  -0.625000          120166          40651  \n",
       "2017-01-26 11:04:00      156530  -0.687500          128497          28033  \n",
       "2017-07-05 11:14:00      156127  -1.000000          129296          26831  \n",
       "2017-07-24 10:40:00      150493  -0.512500          117414          33079  \n",
       "2017-02-16 14:39:00      148140  -0.662500          121137          27003  \n",
       "2017-06-27 12:47:00      145589  -0.575000          112223          33366  \n",
       "2017-09-20 02:41:00      143587  -0.566667          117255          26332  \n",
       "2017-07-10 10:40:00      142188  -0.625000          112155          30033  \n",
       "2016-11-30 11:20:00      142068  -0.800000          107641          34427  \n",
       "2017-09-15 10:42:00      139550  -0.892857          110223          29327  \n",
       "2017-08-30 13:27:00      138394  -0.637500          109867          28527  \n",
       "2017-07-10 11:47:00      135615  -0.625000          108995          26620  \n",
       "2017-01-29 13:00:00      134240  -0.625000          111984          22256  \n",
       "...                         ...        ...             ...            ...  \n",
       "2017-11-07 10:53:00       42220  -1.000000           35003           7217  \n",
       "2016-10-09 13:17:00       41898  -0.875000           25268          16630  \n",
       "2016-11-29 02:19:00       40290  -0.850000           32567           7723  \n",
       "2016-08-01 22:52:00       37943  -1.000000           26920          11023  \n",
       "2016-10-05 01:28:00       37089  -1.000000           28124           8965  \n",
       "2016-10-08 22:41:00       37018  -1.000000               0          37018  \n",
       "2016-08-29 13:35:00       36386  -0.875000           27525           8861  \n",
       "2016-08-05 13:08:00       35130  -0.700000           26050           9080  \n",
       "2016-08-29 22:03:00       35070  -1.000000           24661          10409  \n",
       "2016-09-17 22:57:00       35004  -0.850000           27046           7958  \n",
       "2016-09-27 01:33:00       34709  -0.875000           22449          12260  \n",
       "2016-07-25 11:57:00       31394  -0.584375           24296           7098  \n",
       "2016-07-29 18:30:00       30577  -0.512500           22785           7792  \n",
       "2016-10-28 15:27:00       28085  -0.650000           19933           8152  \n",
       "2016-10-10 02:11:00       24752  -1.000000           17396           7356  \n",
       "2016-10-09 22:26:00       24193  -0.800000           17121           7072  \n",
       "2016-10-25 14:31:00       24055  -0.700000           15699           8356  \n",
       "2016-10-10 01:43:00       22596  -0.625000           15464           7132  \n",
       "2016-10-20 02:19:00       21190  -0.700000           14918           6272  \n",
       "2016-10-20 01:28:00       20502  -0.687500           14769           5733  \n",
       "2016-10-20 01:37:00       19134  -0.541667           12395           6739  \n",
       "2016-09-27 01:23:00       18703  -0.700000           13551           5152  \n",
       "2016-10-05 02:31:00       15259  -0.625000               0          15259  \n",
       "2017-07-11 10:49:00       13399  -0.600000               0          13399  \n",
       "2016-10-10 02:25:00       12172  -0.600000               0          12172  \n",
       "2018-01-09 23:59:00       11716  -0.600000               0          11716  \n",
       "2017-03-10 13:32:00        9419  -1.000000               0           9419  \n",
       "2017-11-18 13:49:00        6917  -0.900000               0           6917  \n",
       "2016-10-28 17:23:00        4423  -0.600000               0           4423  \n",
       "2017-02-07 12:04:00           4  -0.750000               2              2  \n",
       "\n",
       "[125 rows x 5 columns]"
      ]
     },
     "execution_count": 98,
     "metadata": {},
     "output_type": "execute_result"
    }
   ],
   "source": [
    "very_negative_tweets.loc[:, ('text','engagement', 'sentiment', 'favorite_count', 'retweet_count')].sort_values('engagement', ascending=False)"
   ]
  },
  {
   "cell_type": "code",
   "execution_count": 99,
   "metadata": {},
   "outputs": [
    {
     "data": {
      "text/plain": [
       "(823, 25)"
      ]
     },
     "execution_count": 99,
     "metadata": {},
     "output_type": "execute_result"
    }
   ],
   "source": [
    "very_positive_tweets.shape"
   ]
  },
  {
   "cell_type": "markdown",
   "metadata": {},
   "source": [
    "# Analysis and Visualizations"
   ]
  },
  {
   "cell_type": "code",
   "execution_count": 100,
   "metadata": {},
   "outputs": [
    {
     "data": {
      "text/plain": [
       "Twitter for iPhone     3341\n",
       "Twitter for Android     861\n",
       "Twitter Web Client      195\n",
       "Media Studio            130\n",
       "Twitter Ads              94\n",
       "Twitter for iPad         51\n",
       "TweetDeck                 2\n",
       "Periscope                 1\n",
       "Name: source, dtype: int64"
      ]
     },
     "execution_count": 100,
     "metadata": {},
     "output_type": "execute_result"
    }
   ],
   "source": [
    "dummy_trumptweets.source.value_counts()"
   ]
  },
  {
   "cell_type": "code",
   "execution_count": 101,
   "metadata": {},
   "outputs": [
    {
     "data": {
      "text/html": [
       "<div>\n",
       "<style>\n",
       "    .dataframe thead tr:only-child th {\n",
       "        text-align: right;\n",
       "    }\n",
       "\n",
       "    .dataframe thead th {\n",
       "        text-align: left;\n",
       "    }\n",
       "\n",
       "    .dataframe tbody tr th {\n",
       "        vertical-align: top;\n",
       "    }\n",
       "</style>\n",
       "<table border=\"1\" class=\"dataframe\">\n",
       "  <thead>\n",
       "    <tr style=\"text-align: right;\">\n",
       "      <th></th>\n",
       "      <th>source</th>\n",
       "      <th>text</th>\n",
       "      <th>retweet_count</th>\n",
       "      <th>favorite_count</th>\n",
       "      <th>is_retweet</th>\n",
       "      <th>id_str</th>\n",
       "      <th>src_android</th>\n",
       "      <th>src_webclient</th>\n",
       "      <th>src_mediastudio</th>\n",
       "      <th>src_twitterads</th>\n",
       "      <th>...</th>\n",
       "      <th>is_afternoon</th>\n",
       "      <th>is_evening</th>\n",
       "      <th>is_latenight</th>\n",
       "      <th>log_engagement</th>\n",
       "      <th>sentiment</th>\n",
       "      <th>very_positive_sentiment</th>\n",
       "      <th>moderately_positive_sentiment</th>\n",
       "      <th>moderately_negative_sentiment</th>\n",
       "      <th>very_negative_sentiment</th>\n",
       "      <th>log_sentiment</th>\n",
       "    </tr>\n",
       "  </thead>\n",
       "  <tbody>\n",
       "    <tr>\n",
       "      <th>count</th>\n",
       "      <td>4675</td>\n",
       "      <td>4675</td>\n",
       "      <td>4675.000000</td>\n",
       "      <td>4675.000000</td>\n",
       "      <td>4675</td>\n",
       "      <td>4.675000e+03</td>\n",
       "      <td>4675.000000</td>\n",
       "      <td>4675.000000</td>\n",
       "      <td>4675.000000</td>\n",
       "      <td>4675.000000</td>\n",
       "      <td>...</td>\n",
       "      <td>4675.000000</td>\n",
       "      <td>4675.000000</td>\n",
       "      <td>4675.000000</td>\n",
       "      <td>4675.000000</td>\n",
       "      <td>4675.000000</td>\n",
       "      <td>4675.000000</td>\n",
       "      <td>4675.000000</td>\n",
       "      <td>4675.000000</td>\n",
       "      <td>4675.000000</td>\n",
       "      <td>4675.000000</td>\n",
       "    </tr>\n",
       "    <tr>\n",
       "      <th>unique</th>\n",
       "      <td>8</td>\n",
       "      <td>4665</td>\n",
       "      <td>NaN</td>\n",
       "      <td>NaN</td>\n",
       "      <td>2</td>\n",
       "      <td>NaN</td>\n",
       "      <td>NaN</td>\n",
       "      <td>NaN</td>\n",
       "      <td>NaN</td>\n",
       "      <td>NaN</td>\n",
       "      <td>...</td>\n",
       "      <td>NaN</td>\n",
       "      <td>NaN</td>\n",
       "      <td>NaN</td>\n",
       "      <td>NaN</td>\n",
       "      <td>NaN</td>\n",
       "      <td>NaN</td>\n",
       "      <td>NaN</td>\n",
       "      <td>NaN</td>\n",
       "      <td>NaN</td>\n",
       "      <td>NaN</td>\n",
       "    </tr>\n",
       "    <tr>\n",
       "      <th>top</th>\n",
       "      <td>Twitter for iPhone</td>\n",
       "      <td>MAKE AMERICA GREAT AGAIN!</td>\n",
       "      <td>NaN</td>\n",
       "      <td>NaN</td>\n",
       "      <td>False</td>\n",
       "      <td>NaN</td>\n",
       "      <td>NaN</td>\n",
       "      <td>NaN</td>\n",
       "      <td>NaN</td>\n",
       "      <td>NaN</td>\n",
       "      <td>...</td>\n",
       "      <td>NaN</td>\n",
       "      <td>NaN</td>\n",
       "      <td>NaN</td>\n",
       "      <td>NaN</td>\n",
       "      <td>NaN</td>\n",
       "      <td>NaN</td>\n",
       "      <td>NaN</td>\n",
       "      <td>NaN</td>\n",
       "      <td>NaN</td>\n",
       "      <td>NaN</td>\n",
       "    </tr>\n",
       "    <tr>\n",
       "      <th>freq</th>\n",
       "      <td>3341</td>\n",
       "      <td>7</td>\n",
       "      <td>NaN</td>\n",
       "      <td>NaN</td>\n",
       "      <td>4228</td>\n",
       "      <td>NaN</td>\n",
       "      <td>NaN</td>\n",
       "      <td>NaN</td>\n",
       "      <td>NaN</td>\n",
       "      <td>NaN</td>\n",
       "      <td>...</td>\n",
       "      <td>NaN</td>\n",
       "      <td>NaN</td>\n",
       "      <td>NaN</td>\n",
       "      <td>NaN</td>\n",
       "      <td>NaN</td>\n",
       "      <td>NaN</td>\n",
       "      <td>NaN</td>\n",
       "      <td>NaN</td>\n",
       "      <td>NaN</td>\n",
       "      <td>NaN</td>\n",
       "    </tr>\n",
       "    <tr>\n",
       "      <th>mean</th>\n",
       "      <td>NaN</td>\n",
       "      <td>NaN</td>\n",
       "      <td>16402.736898</td>\n",
       "      <td>60308.453904</td>\n",
       "      <td>NaN</td>\n",
       "      <td>8.542120e+17</td>\n",
       "      <td>0.184171</td>\n",
       "      <td>0.041711</td>\n",
       "      <td>0.027807</td>\n",
       "      <td>0.020107</td>\n",
       "      <td>...</td>\n",
       "      <td>0.278503</td>\n",
       "      <td>0.263529</td>\n",
       "      <td>0.019037</td>\n",
       "      <td>10.874569</td>\n",
       "      <td>0.143641</td>\n",
       "      <td>0.176043</td>\n",
       "      <td>0.606203</td>\n",
       "      <td>0.191016</td>\n",
       "      <td>0.026738</td>\n",
       "      <td>0.168570</td>\n",
       "    </tr>\n",
       "    <tr>\n",
       "      <th>std</th>\n",
       "      <td>NaN</td>\n",
       "      <td>NaN</td>\n",
       "      <td>13960.319769</td>\n",
       "      <td>48323.015209</td>\n",
       "      <td>NaN</td>\n",
       "      <td>6.611347e+16</td>\n",
       "      <td>0.387665</td>\n",
       "      <td>0.199950</td>\n",
       "      <td>0.164438</td>\n",
       "      <td>0.140381</td>\n",
       "      <td>...</td>\n",
       "      <td>0.448310</td>\n",
       "      <td>0.440594</td>\n",
       "      <td>0.136671</td>\n",
       "      <td>1.084766</td>\n",
       "      <td>0.354736</td>\n",
       "      <td>0.380897</td>\n",
       "      <td>0.488643</td>\n",
       "      <td>0.393144</td>\n",
       "      <td>0.161334</td>\n",
       "      <td>0.348719</td>\n",
       "    </tr>\n",
       "    <tr>\n",
       "      <th>min</th>\n",
       "      <td>NaN</td>\n",
       "      <td>NaN</td>\n",
       "      <td>0.000000</td>\n",
       "      <td>0.000000</td>\n",
       "      <td>NaN</td>\n",
       "      <td>7.549926e+17</td>\n",
       "      <td>0.000000</td>\n",
       "      <td>0.000000</td>\n",
       "      <td>0.000000</td>\n",
       "      <td>0.000000</td>\n",
       "      <td>...</td>\n",
       "      <td>0.000000</td>\n",
       "      <td>0.000000</td>\n",
       "      <td>0.000000</td>\n",
       "      <td>0.000000</td>\n",
       "      <td>-1.000000</td>\n",
       "      <td>0.000000</td>\n",
       "      <td>0.000000</td>\n",
       "      <td>0.000000</td>\n",
       "      <td>0.000000</td>\n",
       "      <td>-2.302585</td>\n",
       "    </tr>\n",
       "    <tr>\n",
       "      <th>25%</th>\n",
       "      <td>NaN</td>\n",
       "      <td>NaN</td>\n",
       "      <td>8770.000000</td>\n",
       "      <td>23298.500000</td>\n",
       "      <td>NaN</td>\n",
       "      <td>7.889149e+17</td>\n",
       "      <td>0.000000</td>\n",
       "      <td>0.000000</td>\n",
       "      <td>0.000000</td>\n",
       "      <td>0.000000</td>\n",
       "      <td>...</td>\n",
       "      <td>0.000000</td>\n",
       "      <td>0.000000</td>\n",
       "      <td>0.000000</td>\n",
       "      <td>10.389703</td>\n",
       "      <td>0.000000</td>\n",
       "      <td>0.000000</td>\n",
       "      <td>0.000000</td>\n",
       "      <td>0.000000</td>\n",
       "      <td>0.000000</td>\n",
       "      <td>0.095310</td>\n",
       "    </tr>\n",
       "    <tr>\n",
       "      <th>50%</th>\n",
       "      <td>NaN</td>\n",
       "      <td>NaN</td>\n",
       "      <td>13781.000000</td>\n",
       "      <td>55454.000000</td>\n",
       "      <td>NaN</td>\n",
       "      <td>8.569286e+17</td>\n",
       "      <td>0.000000</td>\n",
       "      <td>0.000000</td>\n",
       "      <td>0.000000</td>\n",
       "      <td>0.000000</td>\n",
       "      <td>...</td>\n",
       "      <td>0.000000</td>\n",
       "      <td>0.000000</td>\n",
       "      <td>0.000000</td>\n",
       "      <td>11.133435</td>\n",
       "      <td>0.008333</td>\n",
       "      <td>0.000000</td>\n",
       "      <td>1.000000</td>\n",
       "      <td>0.000000</td>\n",
       "      <td>0.000000</td>\n",
       "      <td>0.102857</td>\n",
       "    </tr>\n",
       "    <tr>\n",
       "      <th>75%</th>\n",
       "      <td>NaN</td>\n",
       "      <td>NaN</td>\n",
       "      <td>20583.000000</td>\n",
       "      <td>86214.000000</td>\n",
       "      <td>NaN</td>\n",
       "      <td>9.131525e+17</td>\n",
       "      <td>0.000000</td>\n",
       "      <td>0.000000</td>\n",
       "      <td>0.000000</td>\n",
       "      <td>0.000000</td>\n",
       "      <td>...</td>\n",
       "      <td>1.000000</td>\n",
       "      <td>1.000000</td>\n",
       "      <td>0.000000</td>\n",
       "      <td>11.571878</td>\n",
       "      <td>0.350000</td>\n",
       "      <td>0.000000</td>\n",
       "      <td>1.000000</td>\n",
       "      <td>0.000000</td>\n",
       "      <td>0.000000</td>\n",
       "      <td>0.371564</td>\n",
       "    </tr>\n",
       "    <tr>\n",
       "      <th>max</th>\n",
       "      <td>NaN</td>\n",
       "      <td>NaN</td>\n",
       "      <td>369530.000000</td>\n",
       "      <td>633253.000000</td>\n",
       "      <td>NaN</td>\n",
       "      <td>9.714098e+17</td>\n",
       "      <td>1.000000</td>\n",
       "      <td>1.000000</td>\n",
       "      <td>1.000000</td>\n",
       "      <td>1.000000</td>\n",
       "      <td>...</td>\n",
       "      <td>1.000000</td>\n",
       "      <td>1.000000</td>\n",
       "      <td>1.000000</td>\n",
       "      <td>13.789811</td>\n",
       "      <td>1.000000</td>\n",
       "      <td>1.000000</td>\n",
       "      <td>1.000000</td>\n",
       "      <td>1.000000</td>\n",
       "      <td>1.000000</td>\n",
       "      <td>0.741937</td>\n",
       "    </tr>\n",
       "  </tbody>\n",
       "</table>\n",
       "<p>11 rows × 25 columns</p>\n",
       "</div>"
      ],
      "text/plain": [
       "                    source                       text  retweet_count  \\\n",
       "count                 4675                       4675    4675.000000   \n",
       "unique                   8                       4665            NaN   \n",
       "top     Twitter for iPhone  MAKE AMERICA GREAT AGAIN!            NaN   \n",
       "freq                  3341                          7            NaN   \n",
       "mean                   NaN                        NaN   16402.736898   \n",
       "std                    NaN                        NaN   13960.319769   \n",
       "min                    NaN                        NaN       0.000000   \n",
       "25%                    NaN                        NaN    8770.000000   \n",
       "50%                    NaN                        NaN   13781.000000   \n",
       "75%                    NaN                        NaN   20583.000000   \n",
       "max                    NaN                        NaN  369530.000000   \n",
       "\n",
       "        favorite_count is_retweet        id_str  src_android  src_webclient  \\\n",
       "count      4675.000000       4675  4.675000e+03  4675.000000    4675.000000   \n",
       "unique             NaN          2           NaN          NaN            NaN   \n",
       "top                NaN      False           NaN          NaN            NaN   \n",
       "freq               NaN       4228           NaN          NaN            NaN   \n",
       "mean      60308.453904        NaN  8.542120e+17     0.184171       0.041711   \n",
       "std       48323.015209        NaN  6.611347e+16     0.387665       0.199950   \n",
       "min           0.000000        NaN  7.549926e+17     0.000000       0.000000   \n",
       "25%       23298.500000        NaN  7.889149e+17     0.000000       0.000000   \n",
       "50%       55454.000000        NaN  8.569286e+17     0.000000       0.000000   \n",
       "75%       86214.000000        NaN  9.131525e+17     0.000000       0.000000   \n",
       "max      633253.000000        NaN  9.714098e+17     1.000000       1.000000   \n",
       "\n",
       "        src_mediastudio  src_twitterads      ...        is_afternoon  \\\n",
       "count       4675.000000     4675.000000      ...         4675.000000   \n",
       "unique              NaN             NaN      ...                 NaN   \n",
       "top                 NaN             NaN      ...                 NaN   \n",
       "freq                NaN             NaN      ...                 NaN   \n",
       "mean           0.027807        0.020107      ...            0.278503   \n",
       "std            0.164438        0.140381      ...            0.448310   \n",
       "min            0.000000        0.000000      ...            0.000000   \n",
       "25%            0.000000        0.000000      ...            0.000000   \n",
       "50%            0.000000        0.000000      ...            0.000000   \n",
       "75%            0.000000        0.000000      ...            1.000000   \n",
       "max            1.000000        1.000000      ...            1.000000   \n",
       "\n",
       "         is_evening  is_latenight  log_engagement    sentiment  \\\n",
       "count   4675.000000   4675.000000     4675.000000  4675.000000   \n",
       "unique          NaN           NaN             NaN          NaN   \n",
       "top             NaN           NaN             NaN          NaN   \n",
       "freq            NaN           NaN             NaN          NaN   \n",
       "mean       0.263529      0.019037       10.874569     0.143641   \n",
       "std        0.440594      0.136671        1.084766     0.354736   \n",
       "min        0.000000      0.000000        0.000000    -1.000000   \n",
       "25%        0.000000      0.000000       10.389703     0.000000   \n",
       "50%        0.000000      0.000000       11.133435     0.008333   \n",
       "75%        1.000000      0.000000       11.571878     0.350000   \n",
       "max        1.000000      1.000000       13.789811     1.000000   \n",
       "\n",
       "        very_positive_sentiment  moderately_positive_sentiment  \\\n",
       "count               4675.000000                    4675.000000   \n",
       "unique                      NaN                            NaN   \n",
       "top                         NaN                            NaN   \n",
       "freq                        NaN                            NaN   \n",
       "mean                   0.176043                       0.606203   \n",
       "std                    0.380897                       0.488643   \n",
       "min                    0.000000                       0.000000   \n",
       "25%                    0.000000                       0.000000   \n",
       "50%                    0.000000                       1.000000   \n",
       "75%                    0.000000                       1.000000   \n",
       "max                    1.000000                       1.000000   \n",
       "\n",
       "        moderately_negative_sentiment  very_negative_sentiment  log_sentiment  \n",
       "count                     4675.000000              4675.000000    4675.000000  \n",
       "unique                            NaN                      NaN            NaN  \n",
       "top                               NaN                      NaN            NaN  \n",
       "freq                              NaN                      NaN            NaN  \n",
       "mean                         0.191016                 0.026738       0.168570  \n",
       "std                          0.393144                 0.161334       0.348719  \n",
       "min                          0.000000                 0.000000      -2.302585  \n",
       "25%                          0.000000                 0.000000       0.095310  \n",
       "50%                          0.000000                 0.000000       0.102857  \n",
       "75%                          0.000000                 0.000000       0.371564  \n",
       "max                          1.000000                 1.000000       0.741937  \n",
       "\n",
       "[11 rows x 25 columns]"
      ]
     },
     "execution_count": 101,
     "metadata": {},
     "output_type": "execute_result"
    }
   ],
   "source": [
    "#describe all\n",
    "\n",
    "dummy_trumptweets.describe(include='all')"
   ]
  },
  {
   "cell_type": "code",
   "execution_count": 102,
   "metadata": {},
   "outputs": [
    {
     "data": {
      "text/plain": [
       "<matplotlib.axes._subplots.AxesSubplot at 0x1a14793860>"
      ]
     },
     "execution_count": 102,
     "metadata": {},
     "output_type": "execute_result"
    },
    {
     "data": {
      "image/png": "[encoded data removed]",
      "text/plain": [
       "<matplotlib.figure.Figure at 0x1a147935c0>"
      ]
     },
     "metadata": {},
     "output_type": "display_data"
    }
   ],
   "source": [
    "#boxplot of log(engagement)\n",
    "\n",
    "dummy_trumptweets.loc[:,'log_engagement'].plot(kind='box')"
   ]
  },
  {
   "cell_type": "code",
   "execution_count": 103,
   "metadata": {},
   "outputs": [
    {
     "data": {
      "text/plain": [
       "<matplotlib.axes._subplots.AxesSubplot at 0x1a14790908>"
      ]
     },
     "execution_count": 103,
     "metadata": {},
     "output_type": "execute_result"
    },
    {
     "data": {
      "image/png": "[encoded data removed]",
      "text/plain": [
       "<matplotlib.figure.Figure at 0x1a14793358>"
      ]
     },
     "metadata": {},
     "output_type": "display_data"
    }
   ],
   "source": [
    "#Histogram of log(engagement)\n",
    "\n",
    "dummy_trumptweets.loc[:, 'log_engagement'].hist(bins=100)"
   ]
  },
  {
   "cell_type": "code",
   "execution_count": 104,
   "metadata": {},
   "outputs": [
    {
     "data": {
      "text/plain": [
       "<matplotlib.axes._subplots.AxesSubplot at 0x1a146e43c8>"
      ]
     },
     "execution_count": 104,
     "metadata": {},
     "output_type": "execute_result"
    },
    {
     "data": {
      "image/png": "[encoded data removed]",
      "text/plain": [
       "<matplotlib.figure.Figure at 0x1a146e7a90>"
      ]
     },
     "metadata": {},
     "output_type": "display_data"
    }
   ],
   "source": [
    "#Histogram of tweet_hour \n",
    "\n",
    "dummy_trumptweets.loc[:, 'tweet_hour'].hist(bins=24)"
   ]
  },
  {
   "cell_type": "code",
   "execution_count": 105,
   "metadata": {},
   "outputs": [
    {
     "data": {
      "text/plain": [
       "Index(['source', 'text', 'retweet_count', 'favorite_count', 'is_retweet',\n",
       "       'id_str', 'src_android', 'src_webclient', 'src_mediastudio',\n",
       "       'src_twitterads', 'src_ipad', 'src_tweetdeck', 'src_periscope',\n",
       "       'engagement', 'tweet_hour', 'is_afternoon', 'is_evening',\n",
       "       'is_latenight', 'log_engagement', 'sentiment',\n",
       "       'very_positive_sentiment', 'moderately_positive_sentiment',\n",
       "       'moderately_negative_sentiment', 'very_negative_sentiment',\n",
       "       'log_sentiment'],\n",
       "      dtype='object')"
      ]
     },
     "execution_count": 105,
     "metadata": {},
     "output_type": "execute_result"
    }
   ],
   "source": [
    "dummy_trumptweets.columns"
   ]
  },
  {
   "cell_type": "code",
   "execution_count": 106,
   "metadata": {
    "collapsed": true
   },
   "outputs": [],
   "source": [
    "feature_cols = ['is_retweet', \n",
    "                'is_afternoon', \n",
    "                'is_evening', \n",
    "                'is_latenight', \n",
    "                'moderately_positive_sentiment',\n",
    "                'moderately_negative_sentiment', \n",
    "                'very_negative_sentiment']"
   ]
  },
  {
   "cell_type": "code",
   "execution_count": 107,
   "metadata": {},
   "outputs": [
    {
     "data": {
      "image/png": "[encoded data removed]",
      "text/plain": [
       "<matplotlib.figure.Figure at 0x1a146d8d68>"
      ]
     },
     "metadata": {},
     "output_type": "display_data"
    }
   ],
   "source": [
    "sns.pairplot(dummy_trumptweets,\n",
    "            x_vars=feature_cols,\n",
    "            y_vars='log_engagement',\n",
    "            kind='reg',\n",
    "            plot_kws={'scatter_kws': {'s':1, 'alpha':.3},\n",
    "                      'line_kws': {'color':'red'}\n",
    "                     }\n",
    "            );"
   ]
  },
  {
   "cell_type": "code",
   "execution_count": 108,
   "metadata": {
    "collapsed": true
   },
   "outputs": [],
   "source": [
    "# Embiggen the negative sentiment charts\n",
    "\n"
   ]
  },
  {
   "cell_type": "code",
   "execution_count": 109,
   "metadata": {},
   "outputs": [
    {
     "data": {
      "image/png": "[encoded data removed]",
      "text/plain": [
       "<matplotlib.figure.Figure at 0x1a146ae320>"
      ]
     },
     "metadata": {},
     "output_type": "display_data"
    }
   ],
   "source": [
    "#Insert Correlation Matrix with HeatMap\n",
    "\n",
    "sns.heatmap(dummy_trumptweets.corr(),\n",
    "            vmin=-1,\n",
    "            vmax = 1,\n",
    "            cmap = sns.diverging_palette(220, 10, n=21),\n",
    "            );"
   ]
  },
  {
   "cell_type": "code",
   "execution_count": 110,
   "metadata": {
    "scrolled": false
   },
   "outputs": [
    {
     "name": "stdout",
     "output_type": "stream",
     "text": [
      "is_retweet\n"
     ]
    },
    {
     "data": {
      "image/png": "[encoded data removed]",
      "text/plain": [
       "<matplotlib.figure.Figure at 0x1a147d1780>"
      ]
     },
     "metadata": {},
     "output_type": "display_data"
    },
    {
     "name": "stdout",
     "output_type": "stream",
     "text": [
      "is_afternoon\n"
     ]
    },
    {
     "data": {
      "image/png": "[encoded data removed]",
      "text/plain": [
       "<matplotlib.figure.Figure at 0x1a14820f28>"
      ]
     },
     "metadata": {},
     "output_type": "display_data"
    },
    {
     "name": "stdout",
     "output_type": "stream",
     "text": [
      "is_evening\n"
     ]
    },
    {
     "data": {
      "image/png": "[encoded data removed]",
      "text/plain": [
       "<matplotlib.figure.Figure at 0x1a1ff76400>"
      ]
     },
     "metadata": {},
     "output_type": "display_data"
    },
    {
     "name": "stdout",
     "output_type": "stream",
     "text": [
      "is_latenight\n"
     ]
    },
    {
     "data": {
      "image/png": "[encoded data removed]",
      "text/plain": [
       "<matplotlib.figure.Figure at 0x1a1fede5f8>"
      ]
     },
     "metadata": {},
     "output_type": "display_data"
    },
    {
     "name": "stdout",
     "output_type": "stream",
     "text": [
      "moderately_positive_sentiment\n"
     ]
    },
    {
     "data": {
      "image/png": "[encoded data removed]",
      "text/plain": [
       "<matplotlib.figure.Figure at 0x1a1fe7e048>"
      ]
     },
     "metadata": {},
     "output_type": "display_data"
    },
    {
     "name": "stdout",
     "output_type": "stream",
     "text": [
      "moderately_negative_sentiment\n"
     ]
    },
    {
     "data": {
      "image/png": "[encoded data removed]",
      "text/plain": [
       "<matplotlib.figure.Figure at 0x1a1eadbeb8>"
      ]
     },
     "metadata": {},
     "output_type": "display_data"
    },
    {
     "name": "stdout",
     "output_type": "stream",
     "text": [
      "very_negative_sentiment\n"
     ]
    },
    {
     "data": {
      "image/png": "[encoded data removed]",
      "text/plain": [
       "<matplotlib.figure.Figure at 0x1a1eb3cef0>"
      ]
     },
     "metadata": {},
     "output_type": "display_data"
    }
   ],
   "source": [
    "#Review Scatter Plots\n",
    "\n",
    "y = dummy_trumptweets.loc[:, 'log_engagement']\n",
    "\n",
    "for var in feature_cols:\n",
    "    print(var)\n",
    "    x = dummy_trumptweets.loc[:, var]\n",
    "    plt.scatter(x, y)\n",
    "    plt.show()"
   ]
  },
  {
   "cell_type": "code",
   "execution_count": null,
   "metadata": {
    "collapsed": true
   },
   "outputs": [],
   "source": []
  },
  {
   "cell_type": "markdown",
   "metadata": {},
   "source": [
    "# Linear Regression"
   ]
  },
  {
   "cell_type": "code",
   "execution_count": 117,
   "metadata": {},
   "outputs": [],
   "source": [
    "X = dummy_trumptweets.loc[:, feature_cols]\n",
    "y = dummy_trumptweets.loc[:, 'log_engagement']\n"
   ]
  },
  {
   "cell_type": "code",
   "execution_count": 118,
   "metadata": {
    "collapsed": true
   },
   "outputs": [],
   "source": [
    "#Split Train and Test\n",
    "\n",
    "X_train, X_test, y_train, y_test = train_test_split(X, y, random_state=1)"
   ]
  },
  {
   "cell_type": "code",
   "execution_count": 119,
   "metadata": {},
   "outputs": [
    {
     "data": {
      "text/plain": [
       "LinearRegression(copy_X=True, fit_intercept=True, n_jobs=1, normalize=False)"
      ]
     },
     "execution_count": 119,
     "metadata": {},
     "output_type": "execute_result"
    }
   ],
   "source": [
    "# model on the training set of data\n",
    "\n",
    "lr = LinearRegression()\n",
    "lr.fit(X_train, y_train)"
   ]
  },
  {
   "cell_type": "code",
   "execution_count": 120,
   "metadata": {
    "collapsed": true
   },
   "outputs": [],
   "source": [
    "# predict on the test set for X\n",
    "\n",
    "y_pred = lr.predict(X_test)"
   ]
  },
  {
   "cell_type": "code",
   "execution_count": 128,
   "metadata": {
    "scrolled": true
   },
   "outputs": [
    {
     "name": "stdout",
     "output_type": "stream",
     "text": [
      "MAE 0.582941962099\n",
      "MSE: 0.81435367821\n",
      "RMSE 0.902415468734\n"
     ]
    }
   ],
   "source": [
    "# compare predicted results against the test set\n",
    "\n",
    "#print(metrics.mean_squared_error(y_train, lr.predict(X_train)))\n",
    "\n",
    "print('MAE', metrics.mean_absolute_error(y_test, y_pred))\n",
    "print('MSE:', metrics.mean_squared_error(y_test, y_pred))\n",
    "print('RMSE', np.sqrt(metrics.mean_squared_error(y_test, y_pred)))"
   ]
  },
  {
   "cell_type": "code",
   "execution_count": null,
   "metadata": {
    "collapsed": true
   },
   "outputs": [],
   "source": []
  },
  {
   "cell_type": "code",
   "execution_count": 129,
   "metadata": {},
   "outputs": [
    {
     "name": "stdout",
     "output_type": "stream",
     "text": [
      "MAE: 0.77675801189\n",
      "MSE: 1.18271150796\n",
      "RMSE: 1.08752540566\n"
     ]
    }
   ],
   "source": [
    "#Create Benchmark of Mean Values\n",
    "\n",
    "y_pred_null = np.ones(y_test.shape) * y_train.mean()\n",
    "\n",
    "#compare y_test against the y_means\n",
    "print('MAE:', metrics.mean_absolute_error(y_test, y_pred_null))\n",
    "print('MSE:', metrics.mean_squared_error(y_test, y_pred_null))\n",
    "print('RMSE:', np.sqrt(metrics.mean_squared_error(y_test, y_pred_null)))"
   ]
  },
  {
   "cell_type": "code",
   "execution_count": 45,
   "metadata": {},
   "outputs": [
    {
     "name": "stdout",
     "output_type": "stream",
     "text": [
      "11.226384712\n",
      "[-1.97232317 -0.25955238 -0.24490816 -0.28486298 -0.08210169  0.10024365\n",
      "  0.22730542]\n"
     ]
    }
   ],
   "source": [
    "print(lr.intercept_)\n",
    "print(lr.coef_)"
   ]
  },
  {
   "cell_type": "code",
   "execution_count": null,
   "metadata": {
    "collapsed": true
   },
   "outputs": [],
   "source": []
  },
  {
   "cell_type": "code",
   "execution_count": null,
   "metadata": {
    "collapsed": true
   },
   "outputs": [],
   "source": []
  },
  {
   "cell_type": "markdown",
   "metadata": {
    "collapsed": true
   },
   "source": [
    "# Conclusion"
   ]
  },
  {
   "cell_type": "markdown",
   "metadata": {},
   "source": [
    "lorem ipsum\n",
    "\n",
    "Run metrics\n",
    "\n",
    "Run Cross Validations\n",
    "\n",
    "dig into the #hashtags"
   ]
  },
  {
   "cell_type": "code",
   "execution_count": 46,
   "metadata": {
    "collapsed": true
   },
   "outputs": [],
   "source": [
    "#run metrics on both the test and train set"
   ]
  },
  {
   "cell_type": "code",
   "execution_count": null,
   "metadata": {
    "collapsed": true
   },
   "outputs": [],
   "source": []
  }
 ],
 "metadata": {
  "kernelspec": {
   "display_name": "Python 3",
   "language": "python",
   "name": "python3"
  },
  "language_info": {
   "codemirror_mode": {
    "name": "ipython",
    "version": 3
   },
   "file_extension": ".py",
   "mimetype": "text/x-python",
   "name": "python",
   "nbconvert_exporter": "python",
   "pygments_lexer": "ipython3",
   "version": "3.6.3"
  }
 },
 "nbformat": 4,
 "nbformat_minor": 2
}
